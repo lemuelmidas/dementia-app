{
 "cells": [
  {
   "cell_type": "code",
   "execution_count": null,
   "id": "9a0a27a8",
   "metadata": {
    "_cell_guid": "b1076dfc-b9ad-4769-8c92-a6c4dae69d19",
    "_uuid": "8f2839f25d086af736a60e9eeb907d3b93b6e0e5",
    "execution": {
     "iopub.execute_input": "2022-06-24T23:17:10.464068Z",
     "iopub.status.busy": "2022-06-24T23:17:10.463460Z",
     "iopub.status.idle": "2022-06-24T23:17:10.484109Z",
     "shell.execute_reply": "2022-06-24T23:17:10.483282Z"
    },
    "papermill": {
     "duration": 0.050071,
     "end_time": "2022-06-24T23:17:10.486010",
     "exception": false,
     "start_time": "2022-06-24T23:17:10.435939",
     "status": "completed"
    },
    "tags": []
   },
   "outputs": [],
   "source": [
    "import numpy as np # linear algebra\n",
    "import pandas as pd # data processing"
   ]
  },
  {
   "cell_type": "code",
   "execution_count": null,
   "id": "7aace280",
   "metadata": {},
   "outputs": [],
   "source": []
  },
  {
   "cell_type": "code",
   "execution_count": null,
   "id": "0dd1dd41",
   "metadata": {
    "execution": {
     "iopub.execute_input": "2022-06-24T23:17:10.539465Z",
     "iopub.status.busy": "2022-06-24T23:17:10.538926Z",
     "iopub.status.idle": "2022-06-24T23:17:12.087056Z",
     "shell.execute_reply": "2022-06-24T23:17:12.086146Z"
    },
    "papermill": {
     "duration": 1.578424,
     "end_time": "2022-06-24T23:17:12.089385",
     "exception": false,
     "start_time": "2022-06-24T23:17:10.510961",
     "status": "completed"
    },
    "tags": []
   },
   "outputs": [],
   "source": [
    "import seaborn as sns\n",
    "from sklearn.metrics import roc_auc_score\n",
    "from sklearn.tree import DecisionTreeClassifier\n",
    "import matplotlib.pyplot as plt"
   ]
  },
  {
   "cell_type": "code",
   "execution_count": null,
   "id": "64dac63f",
   "metadata": {
    "execution": {
     "iopub.execute_input": "2022-06-24T23:17:12.143735Z",
     "iopub.status.busy": "2022-06-24T23:17:12.143369Z",
     "iopub.status.idle": "2022-06-24T23:17:12.182798Z",
     "shell.execute_reply": "2022-06-24T23:17:12.181809Z"
    },
    "papermill": {
     "duration": 0.068649,
     "end_time": "2022-06-24T23:17:12.185063",
     "exception": false,
     "start_time": "2022-06-24T23:17:12.116414",
     "status": "completed"
    },
    "tags": []
   },
   "outputs": [],
   "source": [
    "df= pd.read_csv(\"C:/Users/Wommack/Downloads/dementia_dataset.csv\")\n",
    "df.head()"
   ]
  },
  {
   "cell_type": "markdown",
   "id": "309a7417",
   "metadata": {
    "papermill": {
     "duration": 0.025173,
     "end_time": "2022-06-24T23:17:12.235778",
     "exception": false,
     "start_time": "2022-06-24T23:17:12.210605",
     "status": "completed"
    },
    "tags": []
   },
   "source": [
    "DATA CLEANING AND EXPLORATORY DATA ANALYSIS"
   ]
  },
  {
   "cell_type": "code",
   "execution_count": null,
   "id": "fe7f5f31",
   "metadata": {
    "execution": {
     "iopub.execute_input": "2022-06-24T23:17:12.289401Z",
     "iopub.status.busy": "2022-06-24T23:17:12.288871Z",
     "iopub.status.idle": "2022-06-24T23:17:12.295752Z",
     "shell.execute_reply": "2022-06-24T23:17:12.294324Z"
    },
    "papermill": {
     "duration": 0.036488,
     "end_time": "2022-06-24T23:17:12.297779",
     "exception": false,
     "start_time": "2022-06-24T23:17:12.261291",
     "status": "completed"
    },
    "tags": []
   },
   "outputs": [],
   "source": [
    "df.columns"
   ]
  },
  {
   "cell_type": "code",
   "execution_count": null,
   "id": "9a60f918",
   "metadata": {
    "execution": {
     "iopub.execute_input": "2022-06-24T23:17:12.349861Z",
     "iopub.status.busy": "2022-06-24T23:17:12.349265Z",
     "iopub.status.idle": "2022-06-24T23:17:12.377753Z",
     "shell.execute_reply": "2022-06-24T23:17:12.375735Z"
    },
    "papermill": {
     "duration": 0.057754,
     "end_time": "2022-06-24T23:17:12.380672",
     "exception": false,
     "start_time": "2022-06-24T23:17:12.322918",
     "status": "completed"
    },
    "tags": []
   },
   "outputs": [],
   "source": [
    "df.info()"
   ]
  },
  {
   "cell_type": "code",
   "execution_count": null,
   "id": "5cbb87d9",
   "metadata": {
    "execution": {
     "iopub.execute_input": "2022-06-24T23:17:12.434410Z",
     "iopub.status.busy": "2022-06-24T23:17:12.434051Z",
     "iopub.status.idle": "2022-06-24T23:17:12.475342Z",
     "shell.execute_reply": "2022-06-24T23:17:12.474093Z"
    },
    "papermill": {
     "duration": 0.070644,
     "end_time": "2022-06-24T23:17:12.477444",
     "exception": false,
     "start_time": "2022-06-24T23:17:12.406800",
     "status": "completed"
    },
    "tags": []
   },
   "outputs": [],
   "source": [
    "df.describe()"
   ]
  },
  {
   "cell_type": "code",
   "execution_count": null,
   "id": "a1e8a4d5",
   "metadata": {
    "execution": {
     "iopub.execute_input": "2022-06-24T23:17:12.530911Z",
     "iopub.status.busy": "2022-06-24T23:17:12.530395Z",
     "iopub.status.idle": "2022-06-24T23:17:12.549286Z",
     "shell.execute_reply": "2022-06-24T23:17:12.548707Z"
    },
    "papermill": {
     "duration": 0.047443,
     "end_time": "2022-06-24T23:17:12.550974",
     "exception": false,
     "start_time": "2022-06-24T23:17:12.503531",
     "status": "completed"
    },
    "tags": []
   },
   "outputs": [],
   "source": [
    "df.corr()"
   ]
  },
  {
   "cell_type": "code",
   "execution_count": null,
   "id": "ac5b2221",
   "metadata": {
    "execution": {
     "iopub.execute_input": "2022-06-24T23:17:12.605812Z",
     "iopub.status.busy": "2022-06-24T23:17:12.604640Z",
     "iopub.status.idle": "2022-06-24T23:17:13.238417Z",
     "shell.execute_reply": "2022-06-24T23:17:13.237144Z"
    },
    "papermill": {
     "duration": 0.663194,
     "end_time": "2022-06-24T23:17:13.240492",
     "exception": false,
     "start_time": "2022-06-24T23:17:12.577298",
     "status": "completed"
    },
    "tags": []
   },
   "outputs": [],
   "source": [
    "sns.heatmap(df.corr(), annot= True, cmap= 'Reds')"
   ]
  },
  {
   "cell_type": "code",
   "execution_count": null,
   "id": "5033e154",
   "metadata": {
    "execution": {
     "iopub.execute_input": "2022-06-24T23:17:13.299016Z",
     "iopub.status.busy": "2022-06-24T23:17:13.297567Z",
     "iopub.status.idle": "2022-06-24T23:17:13.305897Z",
     "shell.execute_reply": "2022-06-24T23:17:13.304582Z"
    },
    "papermill": {
     "duration": 0.040636,
     "end_time": "2022-06-24T23:17:13.308558",
     "exception": false,
     "start_time": "2022-06-24T23:17:13.267922",
     "status": "completed"
    },
    "tags": []
   },
   "outputs": [],
   "source": [
    "df['Subject ID'].unique()"
   ]
  },
  {
   "cell_type": "code",
   "execution_count": null,
   "id": "f42ecd37",
   "metadata": {
    "execution": {
     "iopub.execute_input": "2022-06-24T23:17:13.366870Z",
     "iopub.status.busy": "2022-06-24T23:17:13.366328Z",
     "iopub.status.idle": "2022-06-24T23:17:13.386555Z",
     "shell.execute_reply": "2022-06-24T23:17:13.385468Z"
    },
    "papermill": {
     "duration": 0.052511,
     "end_time": "2022-06-24T23:17:13.389157",
     "exception": false,
     "start_time": "2022-06-24T23:17:13.336646",
     "status": "completed"
    },
    "tags": []
   },
   "outputs": [],
   "source": [
    "# Subject_ID is dropped because it is unifor across all instances.\n",
    "df=df.drop('Subject ID', axis= 1)\n",
    "df.head()"
   ]
  },
  {
   "cell_type": "code",
   "execution_count": null,
   "id": "e2ee550d",
   "metadata": {
    "execution": {
     "iopub.execute_input": "2022-06-24T23:17:13.447122Z",
     "iopub.status.busy": "2022-06-24T23:17:13.446751Z",
     "iopub.status.idle": "2022-06-24T23:17:13.455279Z",
     "shell.execute_reply": "2022-06-24T23:17:13.454718Z"
    },
    "papermill": {
     "duration": 0.039589,
     "end_time": "2022-06-24T23:17:13.457029",
     "exception": false,
     "start_time": "2022-06-24T23:17:13.417440",
     "status": "completed"
    },
    "tags": []
   },
   "outputs": [],
   "source": [
    "# MRI_ID is dropped because it is unifor across all instances.\n",
    "df['MRI ID'].unique()"
   ]
  },
  {
   "cell_type": "code",
   "execution_count": null,
   "id": "53741ae7",
   "metadata": {
    "execution": {
     "iopub.execute_input": "2022-06-24T23:17:13.513685Z",
     "iopub.status.busy": "2022-06-24T23:17:13.513204Z",
     "iopub.status.idle": "2022-06-24T23:17:13.532507Z",
     "shell.execute_reply": "2022-06-24T23:17:13.531460Z"
    },
    "papermill": {
     "duration": 0.049646,
     "end_time": "2022-06-24T23:17:13.534427",
     "exception": false,
     "start_time": "2022-06-24T23:17:13.484781",
     "status": "completed"
    },
    "tags": []
   },
   "outputs": [],
   "source": [
    "df=df.drop('MRI ID', axis= 1)\n",
    "df.head()"
   ]
  },
  {
   "cell_type": "code",
   "execution_count": null,
   "id": "5f04c51d",
   "metadata": {
    "execution": {
     "iopub.execute_input": "2022-06-24T23:17:13.593237Z",
     "iopub.status.busy": "2022-06-24T23:17:13.592846Z",
     "iopub.status.idle": "2022-06-24T23:17:13.600060Z",
     "shell.execute_reply": "2022-06-24T23:17:13.599002Z"
    },
    "papermill": {
     "duration": 0.039078,
     "end_time": "2022-06-24T23:17:13.602335",
     "exception": false,
     "start_time": "2022-06-24T23:17:13.563257",
     "status": "completed"
    },
    "tags": []
   },
   "outputs": [],
   "source": [
    "df['Group'].unique()"
   ]
  },
  {
   "cell_type": "markdown",
   "id": "7701084c",
   "metadata": {
    "papermill": {
     "duration": 0.028337,
     "end_time": "2022-06-24T23:17:13.659287",
     "exception": false,
     "start_time": "2022-06-24T23:17:13.630950",
     "status": "completed"
    },
    "tags": []
   },
   "source": [
    "Label Encoding of 'Group' Feature"
   ]
  },
  {
   "cell_type": "code",
   "execution_count": null,
   "id": "a3c1c339",
   "metadata": {
    "execution": {
     "iopub.execute_input": "2022-06-24T23:17:13.717609Z",
     "iopub.status.busy": "2022-06-24T23:17:13.717245Z",
     "iopub.status.idle": "2022-06-24T23:17:13.725317Z",
     "shell.execute_reply": "2022-06-24T23:17:13.724700Z"
    },
    "papermill": {
     "duration": 0.039127,
     "end_time": "2022-06-24T23:17:13.726935",
     "exception": false,
     "start_time": "2022-06-24T23:17:13.687808",
     "status": "completed"
    },
    "tags": []
   },
   "outputs": [],
   "source": [
    "from sklearn.preprocessing import LabelEncoder\n",
    "le= LabelEncoder()\n",
    "df['Group']= le.fit_transform(df['Group'])\n",
    "df['Group'].unique()"
   ]
  },
  {
   "cell_type": "code",
   "execution_count": null,
   "id": "a7a1aa8e",
   "metadata": {
    "execution": {
     "iopub.execute_input": "2022-06-24T23:17:13.786154Z",
     "iopub.status.busy": "2022-06-24T23:17:13.785526Z",
     "iopub.status.idle": "2022-06-24T23:17:13.791211Z",
     "shell.execute_reply": "2022-06-24T23:17:13.790561Z"
    },
    "papermill": {
     "duration": 0.037445,
     "end_time": "2022-06-24T23:17:13.792989",
     "exception": false,
     "start_time": "2022-06-24T23:17:13.755544",
     "status": "completed"
    },
    "tags": []
   },
   "outputs": [],
   "source": [
    "df['Visit'].unique()"
   ]
  },
  {
   "cell_type": "code",
   "execution_count": null,
   "id": "5f5f5cbe",
   "metadata": {
    "execution": {
     "iopub.execute_input": "2022-06-24T23:17:13.851596Z",
     "iopub.status.busy": "2022-06-24T23:17:13.851073Z",
     "iopub.status.idle": "2022-06-24T23:17:13.856478Z",
     "shell.execute_reply": "2022-06-24T23:17:13.855884Z"
    },
    "papermill": {
     "duration": 0.03722,
     "end_time": "2022-06-24T23:17:13.858255",
     "exception": false,
     "start_time": "2022-06-24T23:17:13.821035",
     "status": "completed"
    },
    "tags": []
   },
   "outputs": [],
   "source": [
    "df['M/F'].unique()"
   ]
  },
  {
   "cell_type": "markdown",
   "id": "6370809a",
   "metadata": {
    "papermill": {
     "duration": 0.029246,
     "end_time": "2022-06-24T23:17:13.916634",
     "exception": false,
     "start_time": "2022-06-24T23:17:13.887388",
     "status": "completed"
    },
    "tags": []
   },
   "source": [
    "Binary Encoding of df['M/F']"
   ]
  },
  {
   "cell_type": "code",
   "execution_count": null,
   "id": "9e4f1f57",
   "metadata": {
    "execution": {
     "iopub.execute_input": "2022-06-24T23:17:13.976826Z",
     "iopub.status.busy": "2022-06-24T23:17:13.976257Z",
     "iopub.status.idle": "2022-06-24T23:17:13.981718Z",
     "shell.execute_reply": "2022-06-24T23:17:13.980949Z"
    },
    "papermill": {
     "duration": 0.038264,
     "end_time": "2022-06-24T23:17:13.983767",
     "exception": false,
     "start_time": "2022-06-24T23:17:13.945503",
     "status": "completed"
    },
    "tags": []
   },
   "outputs": [],
   "source": [
    "df['M/F']= df['M/F'].apply(lambda x: 1 if x == 'M' else (0 if x == 'F' else None))"
   ]
  },
  {
   "cell_type": "code",
   "execution_count": null,
   "id": "bc7ca2b4",
   "metadata": {
    "execution": {
     "iopub.execute_input": "2022-06-24T23:17:14.043953Z",
     "iopub.status.busy": "2022-06-24T23:17:14.043365Z",
     "iopub.status.idle": "2022-06-24T23:17:14.050358Z",
     "shell.execute_reply": "2022-06-24T23:17:14.049304Z"
    },
    "papermill": {
     "duration": 0.039382,
     "end_time": "2022-06-24T23:17:14.052351",
     "exception": false,
     "start_time": "2022-06-24T23:17:14.012969",
     "status": "completed"
    },
    "tags": []
   },
   "outputs": [],
   "source": [
    "df['M/F'].unique()"
   ]
  },
  {
   "cell_type": "code",
   "execution_count": null,
   "id": "dbcf22aa",
   "metadata": {
    "execution": {
     "iopub.execute_input": "2022-06-24T23:17:14.111857Z",
     "iopub.status.busy": "2022-06-24T23:17:14.111490Z",
     "iopub.status.idle": "2022-06-24T23:17:14.117283Z",
     "shell.execute_reply": "2022-06-24T23:17:14.116716Z"
    },
    "papermill": {
     "duration": 0.038142,
     "end_time": "2022-06-24T23:17:14.119498",
     "exception": false,
     "start_time": "2022-06-24T23:17:14.081356",
     "status": "completed"
    },
    "tags": []
   },
   "outputs": [],
   "source": [
    "df['Hand'].unique()"
   ]
  },
  {
   "cell_type": "markdown",
   "id": "813d937f",
   "metadata": {
    "papermill": {
     "duration": 0.036393,
     "end_time": "2022-06-24T23:17:14.187918",
     "exception": false,
     "start_time": "2022-06-24T23:17:14.151525",
     "status": "completed"
    },
    "tags": []
   },
   "source": [
    "the Hand column is dropped because its instances are the same for all rows"
   ]
  },
  {
   "cell_type": "code",
   "execution_count": null,
   "id": "bc6ae004",
   "metadata": {
    "execution": {
     "iopub.execute_input": "2022-06-24T23:17:14.254149Z",
     "iopub.status.busy": "2022-06-24T23:17:14.253643Z",
     "iopub.status.idle": "2022-06-24T23:17:14.270643Z",
     "shell.execute_reply": "2022-06-24T23:17:14.269832Z"
    },
    "papermill": {
     "duration": 0.050128,
     "end_time": "2022-06-24T23:17:14.272570",
     "exception": false,
     "start_time": "2022-06-24T23:17:14.222442",
     "status": "completed"
    },
    "tags": []
   },
   "outputs": [],
   "source": [
    "df= df.drop('Hand',axis=1)\n",
    "df.head()"
   ]
  },
  {
   "cell_type": "code",
   "execution_count": null,
   "id": "bbb44d0a",
   "metadata": {
    "execution": {
     "iopub.execute_input": "2022-06-24T23:17:14.335392Z",
     "iopub.status.busy": "2022-06-24T23:17:14.334865Z",
     "iopub.status.idle": "2022-06-24T23:17:14.342015Z",
     "shell.execute_reply": "2022-06-24T23:17:14.340744Z"
    },
    "papermill": {
     "duration": 0.039665,
     "end_time": "2022-06-24T23:17:14.343902",
     "exception": false,
     "start_time": "2022-06-24T23:17:14.304237",
     "status": "completed"
    },
    "tags": []
   },
   "outputs": [],
   "source": [
    "df['Age'].unique()"
   ]
  },
  {
   "cell_type": "code",
   "execution_count": null,
   "id": "d49aed75",
   "metadata": {
    "execution": {
     "iopub.execute_input": "2022-06-24T23:17:14.405869Z",
     "iopub.status.busy": "2022-06-24T23:17:14.405290Z",
     "iopub.status.idle": "2022-06-24T23:17:14.411889Z",
     "shell.execute_reply": "2022-06-24T23:17:14.410912Z"
    },
    "papermill": {
     "duration": 0.039326,
     "end_time": "2022-06-24T23:17:14.413865",
     "exception": false,
     "start_time": "2022-06-24T23:17:14.374539",
     "status": "completed"
    },
    "tags": []
   },
   "outputs": [],
   "source": [
    "df['EDUC'].unique()"
   ]
  },
  {
   "cell_type": "code",
   "execution_count": null,
   "id": "f1634877",
   "metadata": {
    "execution": {
     "iopub.execute_input": "2022-06-24T23:17:14.474751Z",
     "iopub.status.busy": "2022-06-24T23:17:14.474386Z",
     "iopub.status.idle": "2022-06-24T23:17:14.481556Z",
     "shell.execute_reply": "2022-06-24T23:17:14.481008Z"
    },
    "papermill": {
     "duration": 0.039833,
     "end_time": "2022-06-24T23:17:14.483441",
     "exception": false,
     "start_time": "2022-06-24T23:17:14.443608",
     "status": "completed"
    },
    "tags": []
   },
   "outputs": [],
   "source": [
    "df['SES'].unique()"
   ]
  },
  {
   "cell_type": "code",
   "execution_count": null,
   "id": "06046991",
   "metadata": {
    "execution": {
     "iopub.execute_input": "2022-06-24T23:17:14.544673Z",
     "iopub.status.busy": "2022-06-24T23:17:14.544127Z",
     "iopub.status.idle": "2022-06-24T23:17:14.552326Z",
     "shell.execute_reply": "2022-06-24T23:17:14.551707Z"
    },
    "papermill": {
     "duration": 0.041355,
     "end_time": "2022-06-24T23:17:14.554075",
     "exception": false,
     "start_time": "2022-06-24T23:17:14.512720",
     "status": "completed"
    },
    "tags": []
   },
   "outputs": [],
   "source": [
    "df['SES'].value_counts()"
   ]
  },
  {
   "cell_type": "code",
   "execution_count": null,
   "id": "3adbfca5",
   "metadata": {
    "execution": {
     "iopub.execute_input": "2022-06-24T23:17:14.615467Z",
     "iopub.status.busy": "2022-06-24T23:17:14.614961Z",
     "iopub.status.idle": "2022-06-24T23:17:14.620905Z",
     "shell.execute_reply": "2022-06-24T23:17:14.619702Z"
    },
    "papermill": {
     "duration": 0.038894,
     "end_time": "2022-06-24T23:17:14.622713",
     "exception": false,
     "start_time": "2022-06-24T23:17:14.583819",
     "status": "completed"
    },
    "tags": []
   },
   "outputs": [],
   "source": [
    "np.mean(df['SES'])"
   ]
  },
  {
   "cell_type": "markdown",
   "id": "397e0706",
   "metadata": {
    "papermill": {
     "duration": 0.029819,
     "end_time": "2022-06-24T23:17:14.682593",
     "exception": false,
     "start_time": "2022-06-24T23:17:14.652774",
     "status": "completed"
    },
    "tags": []
   },
   "source": [
    "Replacing the nan values with the mode=2, since the mean is almost 2."
   ]
  },
  {
   "cell_type": "code",
   "execution_count": null,
   "id": "91b7ff52",
   "metadata": {
    "execution": {
     "iopub.execute_input": "2022-06-24T23:17:14.745472Z",
     "iopub.status.busy": "2022-06-24T23:17:14.745001Z",
     "iopub.status.idle": "2022-06-24T23:17:14.751741Z",
     "shell.execute_reply": "2022-06-24T23:17:14.750761Z"
    },
    "papermill": {
     "duration": 0.040967,
     "end_time": "2022-06-24T23:17:14.754001",
     "exception": false,
     "start_time": "2022-06-24T23:17:14.713034",
     "status": "completed"
    },
    "tags": []
   },
   "outputs": [],
   "source": [
    "df['SES']= df['SES'].replace(np.nan, 2)\n",
    "df['SES'].unique()"
   ]
  },
  {
   "cell_type": "code",
   "execution_count": null,
   "id": "7de1d601",
   "metadata": {
    "execution": {
     "iopub.execute_input": "2022-06-24T23:17:14.816591Z",
     "iopub.status.busy": "2022-06-24T23:17:14.816236Z",
     "iopub.status.idle": "2022-06-24T23:17:14.821068Z",
     "shell.execute_reply": "2022-06-24T23:17:14.820176Z"
    },
    "papermill": {
     "duration": 0.038609,
     "end_time": "2022-06-24T23:17:14.823007",
     "exception": false,
     "start_time": "2022-06-24T23:17:14.784398",
     "status": "completed"
    },
    "tags": []
   },
   "outputs": [],
   "source": [
    "#df['SES'].value_counts()"
   ]
  },
  {
   "cell_type": "code",
   "execution_count": null,
   "id": "968cf763",
   "metadata": {
    "execution": {
     "iopub.execute_input": "2022-06-24T23:17:14.885979Z",
     "iopub.status.busy": "2022-06-24T23:17:14.884879Z",
     "iopub.status.idle": "2022-06-24T23:17:14.892312Z",
     "shell.execute_reply": "2022-06-24T23:17:14.891532Z"
    },
    "papermill": {
     "duration": 0.04113,
     "end_time": "2022-06-24T23:17:14.894571",
     "exception": false,
     "start_time": "2022-06-24T23:17:14.853441",
     "status": "completed"
    },
    "tags": []
   },
   "outputs": [],
   "source": [
    "df['MMSE'].unique()"
   ]
  },
  {
   "cell_type": "code",
   "execution_count": null,
   "id": "5e12fa0f",
   "metadata": {
    "execution": {
     "iopub.execute_input": "2022-06-24T23:17:14.957234Z",
     "iopub.status.busy": "2022-06-24T23:17:14.956852Z",
     "iopub.status.idle": "2022-06-24T23:17:14.965680Z",
     "shell.execute_reply": "2022-06-24T23:17:14.964809Z"
    },
    "papermill": {
     "duration": 0.043165,
     "end_time": "2022-06-24T23:17:14.967948",
     "exception": false,
     "start_time": "2022-06-24T23:17:14.924783",
     "status": "completed"
    },
    "tags": []
   },
   "outputs": [],
   "source": [
    "print(df['MMSE'].mode())#,\"\\n\",\n",
    "print(df['MMSE'].mean())#,\"\\n\",\n",
    "print(df['MMSE'].value_counts())"
   ]
  },
  {
   "cell_type": "code",
   "execution_count": null,
   "id": "a3a0dbe9",
   "metadata": {
    "execution": {
     "iopub.execute_input": "2022-06-24T23:17:15.031146Z",
     "iopub.status.busy": "2022-06-24T23:17:15.030778Z",
     "iopub.status.idle": "2022-06-24T23:17:15.037322Z",
     "shell.execute_reply": "2022-06-24T23:17:15.036453Z"
    },
    "papermill": {
     "duration": 0.040451,
     "end_time": "2022-06-24T23:17:15.039076",
     "exception": false,
     "start_time": "2022-06-24T23:17:14.998625",
     "status": "completed"
    },
    "tags": []
   },
   "outputs": [],
   "source": [
    "df['MMSE'].mean()"
   ]
  },
  {
   "cell_type": "code",
   "execution_count": null,
   "id": "b1361f85",
   "metadata": {
    "execution": {
     "iopub.execute_input": "2022-06-24T23:17:15.102522Z",
     "iopub.status.busy": "2022-06-24T23:17:15.101479Z",
     "iopub.status.idle": "2022-06-24T23:17:15.108201Z",
     "shell.execute_reply": "2022-06-24T23:17:15.107278Z"
    },
    "papermill": {
     "duration": 0.040369,
     "end_time": "2022-06-24T23:17:15.110063",
     "exception": false,
     "start_time": "2022-06-24T23:17:15.069694",
     "status": "completed"
    },
    "tags": []
   },
   "outputs": [],
   "source": [
    "df['MMSE'].isnull().sum()"
   ]
  },
  {
   "cell_type": "markdown",
   "id": "964b3483",
   "metadata": {
    "papermill": {
     "duration": 0.030838,
     "end_time": "2022-06-24T23:17:15.172403",
     "exception": false,
     "start_time": "2022-06-24T23:17:15.141565",
     "status": "completed"
    },
    "tags": []
   },
   "source": [
    "Replacing the nan values with the mode=30, since nan values are 2 and mode =30."
   ]
  },
  {
   "cell_type": "code",
   "execution_count": null,
   "id": "4fd5ea71",
   "metadata": {
    "execution": {
     "iopub.execute_input": "2022-06-24T23:17:15.236843Z",
     "iopub.status.busy": "2022-06-24T23:17:15.236273Z",
     "iopub.status.idle": "2022-06-24T23:17:15.242801Z",
     "shell.execute_reply": "2022-06-24T23:17:15.242221Z"
    },
    "papermill": {
     "duration": 0.040519,
     "end_time": "2022-06-24T23:17:15.244453",
     "exception": false,
     "start_time": "2022-06-24T23:17:15.203934",
     "status": "completed"
    },
    "tags": []
   },
   "outputs": [],
   "source": [
    "df['MMSE']= df['MMSE'].replace(np.nan, 30)\n",
    "df['MMSE'].unique()"
   ]
  },
  {
   "cell_type": "code",
   "execution_count": null,
   "id": "120a05bf",
   "metadata": {
    "execution": {
     "iopub.execute_input": "2022-06-24T23:17:15.307590Z",
     "iopub.status.busy": "2022-06-24T23:17:15.307061Z",
     "iopub.status.idle": "2022-06-24T23:17:15.313085Z",
     "shell.execute_reply": "2022-06-24T23:17:15.312243Z"
    },
    "papermill": {
     "duration": 0.03991,
     "end_time": "2022-06-24T23:17:15.315060",
     "exception": false,
     "start_time": "2022-06-24T23:17:15.275150",
     "status": "completed"
    },
    "tags": []
   },
   "outputs": [],
   "source": [
    "df['CDR'].unique()"
   ]
  },
  {
   "cell_type": "code",
   "execution_count": null,
   "id": "1c800db3",
   "metadata": {
    "execution": {
     "iopub.execute_input": "2022-06-24T23:17:15.379493Z",
     "iopub.status.busy": "2022-06-24T23:17:15.378741Z",
     "iopub.status.idle": "2022-06-24T23:17:15.386711Z",
     "shell.execute_reply": "2022-06-24T23:17:15.385924Z"
    },
    "papermill": {
     "duration": 0.042498,
     "end_time": "2022-06-24T23:17:15.388721",
     "exception": false,
     "start_time": "2022-06-24T23:17:15.346223",
     "status": "completed"
    },
    "tags": []
   },
   "outputs": [],
   "source": [
    "df['eTIV'].unique()"
   ]
  },
  {
   "cell_type": "code",
   "execution_count": null,
   "id": "6d79858d",
   "metadata": {
    "execution": {
     "iopub.execute_input": "2022-06-24T23:17:15.453909Z",
     "iopub.status.busy": "2022-06-24T23:17:15.453253Z",
     "iopub.status.idle": "2022-06-24T23:17:15.461048Z",
     "shell.execute_reply": "2022-06-24T23:17:15.460234Z"
    },
    "papermill": {
     "duration": 0.042813,
     "end_time": "2022-06-24T23:17:15.463312",
     "exception": false,
     "start_time": "2022-06-24T23:17:15.420499",
     "status": "completed"
    },
    "tags": []
   },
   "outputs": [],
   "source": [
    "df['nWBV'].unique()"
   ]
  },
  {
   "cell_type": "code",
   "execution_count": null,
   "id": "cf2b98c3",
   "metadata": {
    "execution": {
     "iopub.execute_input": "2022-06-24T23:17:15.528386Z",
     "iopub.status.busy": "2022-06-24T23:17:15.527827Z",
     "iopub.status.idle": "2022-06-24T23:17:15.536979Z",
     "shell.execute_reply": "2022-06-24T23:17:15.536232Z"
    },
    "papermill": {
     "duration": 0.04415,
     "end_time": "2022-06-24T23:17:15.538965",
     "exception": false,
     "start_time": "2022-06-24T23:17:15.494815",
     "status": "completed"
    },
    "tags": []
   },
   "outputs": [],
   "source": [
    "df['ASF'].unique()"
   ]
  },
  {
   "cell_type": "code",
   "execution_count": null,
   "id": "0146bfd4",
   "metadata": {
    "execution": {
     "iopub.execute_input": "2022-06-24T23:17:15.604287Z",
     "iopub.status.busy": "2022-06-24T23:17:15.603720Z",
     "iopub.status.idle": "2022-06-24T23:17:15.620002Z",
     "shell.execute_reply": "2022-06-24T23:17:15.619257Z"
    },
    "papermill": {
     "duration": 0.05116,
     "end_time": "2022-06-24T23:17:15.621898",
     "exception": false,
     "start_time": "2022-06-24T23:17:15.570738",
     "status": "completed"
    },
    "tags": []
   },
   "outputs": [],
   "source": [
    "df.head()"
   ]
  },
  {
   "cell_type": "code",
   "execution_count": null,
   "id": "1e6c748a",
   "metadata": {
    "execution": {
     "iopub.execute_input": "2022-06-24T23:17:15.687676Z",
     "iopub.status.busy": "2022-06-24T23:17:15.687310Z",
     "iopub.status.idle": "2022-06-24T23:17:15.692251Z",
     "shell.execute_reply": "2022-06-24T23:17:15.691467Z"
    },
    "papermill": {
     "duration": 0.040201,
     "end_time": "2022-06-24T23:17:15.694094",
     "exception": false,
     "start_time": "2022-06-24T23:17:15.653893",
     "status": "completed"
    },
    "tags": []
   },
   "outputs": [],
   "source": [
    "X= df.drop('Group', axis=1)\n",
    "y=df['Group']"
   ]
  },
  {
   "cell_type": "code",
   "execution_count": null,
   "id": "835a34c6",
   "metadata": {
    "execution": {
     "iopub.execute_input": "2022-06-24T23:17:15.760722Z",
     "iopub.status.busy": "2022-06-24T23:17:15.759839Z",
     "iopub.status.idle": "2022-06-24T23:17:15.764855Z",
     "shell.execute_reply": "2022-06-24T23:17:15.763719Z"
    },
    "papermill": {
     "duration": 0.040863,
     "end_time": "2022-06-24T23:17:15.767294",
     "exception": false,
     "start_time": "2022-06-24T23:17:15.726431",
     "status": "completed"
    },
    "tags": []
   },
   "outputs": [],
   "source": [
    "print(X.shape, y.shape)"
   ]
  },
  {
   "cell_type": "markdown",
   "id": "12c9c16e",
   "metadata": {
    "papermill": {
     "duration": 0.032203,
     "end_time": "2022-06-24T23:17:15.832138",
     "exception": false,
     "start_time": "2022-06-24T23:17:15.799935",
     "status": "completed"
    },
    "tags": []
   },
   "source": [
    "BASE MODEL"
   ]
  },
  {
   "cell_type": "code",
   "execution_count": null,
   "id": "40abc2e5",
   "metadata": {
    "execution": {
     "iopub.execute_input": "2022-06-24T23:17:15.898461Z",
     "iopub.status.busy": "2022-06-24T23:17:15.898100Z",
     "iopub.status.idle": "2022-06-24T23:17:15.902127Z",
     "shell.execute_reply": "2022-06-24T23:17:15.901385Z"
    },
    "papermill": {
     "duration": 0.03932,
     "end_time": "2022-06-24T23:17:15.903742",
     "exception": false,
     "start_time": "2022-06-24T23:17:15.864422",
     "status": "completed"
    },
    "tags": []
   },
   "outputs": [],
   "source": [
    "from sklearn.model_selection import train_test_split"
   ]
  },
  {
   "cell_type": "code",
   "execution_count": null,
   "id": "22121391",
   "metadata": {
    "execution": {
     "iopub.execute_input": "2022-06-24T23:17:15.971613Z",
     "iopub.status.busy": "2022-06-24T23:17:15.970432Z",
     "iopub.status.idle": "2022-06-24T23:17:15.977395Z",
     "shell.execute_reply": "2022-06-24T23:17:15.976813Z"
    },
    "papermill": {
     "duration": 0.043796,
     "end_time": "2022-06-24T23:17:15.979279",
     "exception": false,
     "start_time": "2022-06-24T23:17:15.935483",
     "status": "completed"
    },
    "tags": []
   },
   "outputs": [],
   "source": [
    "X_train, X_test, y_train, y_test= train_test_split(X, y, test_size= 0.3, random_state= 48 )"
   ]
  },
  {
   "cell_type": "code",
   "execution_count": null,
   "id": "a580b6e3",
   "metadata": {
    "execution": {
     "iopub.execute_input": "2022-06-24T23:17:16.044194Z",
     "iopub.status.busy": "2022-06-24T23:17:16.043648Z",
     "iopub.status.idle": "2022-06-24T23:17:16.249673Z",
     "shell.execute_reply": "2022-06-24T23:17:16.248971Z"
    },
    "papermill": {
     "duration": 0.241026,
     "end_time": "2022-06-24T23:17:16.251897",
     "exception": false,
     "start_time": "2022-06-24T23:17:16.010871",
     "status": "completed"
    },
    "tags": []
   },
   "outputs": [],
   "source": [
    "from sklearn.ensemble import ExtraTreesClassifier,RandomForestClassifier,AdaBoostClassifier\n",
    "from sklearn.naive_bayes import GaussianNB\n",
    "from sklearn.linear_model import LinearRegression, Ridge, Lasso, ElasticNet, SGDClassifier\n",
    "from sklearn.model_selection import GridSearchCV, cross_val_score,StratifiedKFold\n",
    "from sklearn.neighbors import KNeighborsClassifier\n",
    "from sklearn.svm import SVC\n",
    "from sklearn import linear_model\n",
    "from sklearn.tree import DecisionTreeClassifier\n",
    "import xgboost as xgb\n",
    "from sklearn import metrics\n",
    "import random as rd\n",
    "models = [(\"LR\", LinearRegression()),\n",
    "          (\"Naive Bayes\", GaussianNB()),\n",
    "          (\"KNN\", KNeighborsClassifier()),\n",
    "          (\"DTC\", DecisionTreeClassifier()),\n",
    "          (\"SGD\", SGDClassifier()),\n",
    "          (\"Ada\", AdaBoostClassifier()),\n",
    "          (\"RFC\",RandomForestClassifier()),\n",
    "          (\"Extra:\",ExtraTreesClassifier()),\n",
    "          #(\"SVC\", SVC()),#has no feature importances\n",
    "          (\"XGBoost:\", xgb.XGBClassifier())\n",
    "         ]\n",
    "\n",
    " "
   ]
  },
  {
   "cell_type": "code",
   "execution_count": null,
   "id": "259a96e9",
   "metadata": {
    "execution": {
     "iopub.execute_input": "2022-06-24T23:17:16.319760Z",
     "iopub.status.busy": "2022-06-24T23:17:16.319173Z",
     "iopub.status.idle": "2022-06-24T23:17:16.330668Z",
     "shell.execute_reply": "2022-06-24T23:17:16.330004Z"
    },
    "papermill": {
     "duration": 0.047911,
     "end_time": "2022-06-24T23:17:16.332756",
     "exception": false,
     "start_time": "2022-06-24T23:17:16.284845",
     "status": "completed"
    },
    "tags": []
   },
   "outputs": [],
   "source": [
    "def model_evaluation(X,y):\n",
    "    X_train,X_test, y_train, y_test= train_test_split(X, y, test_size= 0.3, random_state= 48 )\n",
    "    models = [#(\"LR\", LinearRegression()),\n",
    "        (\"Naive Bayes\", GaussianNB()),\n",
    "          (\"KNN\", KNeighborsClassifier()),\n",
    "          (\"DTC\", DecisionTreeClassifier()),\n",
    "          (\"SGD\", SGDClassifier()),\n",
    "          (\"Ada\", AdaBoostClassifier()),\n",
    "          (\"RFC\",RandomForestClassifier()),\n",
    "          (\"Extra:\",ExtraTreesClassifier()),\n",
    "          (\"XGB:\", xgb.XGBClassifier())\n",
    "              \n",
    "              \n",
    "         ]\n",
    "    means = []\n",
    "    stds = []\n",
    "\n",
    "    for name, classifier in models:\n",
    "        scores = []\n",
    "        for _ in range(10):\n",
    "            model = classifier\n",
    "            model.fit(X_train, y_train)\n",
    "            y_pred = model.predict(X_test)\n",
    "            Accuracy=metrics.accuracy_score(y_test,y_pred)\n",
    "\n",
    "            scores.append(Accuracy)\n",
    "\n",
    "        means.append(np.mean(scores))\n",
    "        stds.append(np.std(scores))\n",
    "        \n",
    "    Total = list(zip(means,stds))\n",
    "    hsh = {}\n",
    "    for j in range(len(models)):\n",
    "        hsh[models[j][0]] = list(Total[j])\n",
    "\n",
    "    data = pd.DataFrame(hsh)\n",
    "    db=data.transpose()\n",
    "    db.columns=['mean','std']\n",
    "    \n",
    "    return db\n"
   ]
  },
  {
   "cell_type": "code",
   "execution_count": null,
   "id": "ed497970",
   "metadata": {
    "papermill": {
     "duration": 0.032337,
     "end_time": "2022-06-24T23:17:16.397397",
     "exception": false,
     "start_time": "2022-06-24T23:17:16.365060",
     "status": "completed"
    },
    "tags": []
   },
   "outputs": [],
   "source": []
  },
  {
   "cell_type": "code",
   "execution_count": null,
   "id": "a8220f98",
   "metadata": {
    "execution": {
     "iopub.execute_input": "2022-06-24T23:17:16.464189Z",
     "iopub.status.busy": "2022-06-24T23:17:16.463468Z",
     "iopub.status.idle": "2022-06-24T23:17:23.833174Z",
     "shell.execute_reply": "2022-06-24T23:17:23.832552Z"
    },
    "papermill": {
     "duration": 7.4051,
     "end_time": "2022-06-24T23:17:23.835491",
     "exception": false,
     "start_time": "2022-06-24T23:17:16.430391",
     "status": "completed"
    },
    "tags": []
   },
   "outputs": [],
   "source": [
    "a=model_evaluation(X, y)\n",
    "print(a)"
   ]
  },
  {
   "cell_type": "code",
   "execution_count": null,
   "id": "4fdd61ba",
   "metadata": {
    "execution": {
     "iopub.execute_input": "2022-06-24T23:17:23.901790Z",
     "iopub.status.busy": "2022-06-24T23:17:23.901082Z",
     "iopub.status.idle": "2022-06-24T23:17:24.118251Z",
     "shell.execute_reply": "2022-06-24T23:17:24.117708Z"
    },
    "papermill": {
     "duration": 0.251863,
     "end_time": "2022-06-24T23:17:24.120024",
     "exception": false,
     "start_time": "2022-06-24T23:17:23.868161",
     "status": "completed"
    },
    "tags": []
   },
   "outputs": [],
   "source": [
    "model= RandomForestClassifier()\n",
    "model.fit(X_train, y_train)\n",
    "\n",
    "\n",
    "\n",
    "\n",
    "y_pred = model.predict(X_test)\n",
    "feature_imp= pd.Series(model.feature_importances_, index= X.columns).sort_values(ascending=False)\n",
    "feature_imp*100"
   ]
  },
  {
   "cell_type": "code",
   "execution_count": null,
   "id": "e0aa8fc6",
   "metadata": {
    "execution": {
     "iopub.execute_input": "2022-06-24T23:17:24.187100Z",
     "iopub.status.busy": "2022-06-24T23:17:24.186450Z",
     "iopub.status.idle": "2022-06-24T23:17:24.355712Z",
     "shell.execute_reply": "2022-06-24T23:17:24.355004Z"
    },
    "papermill": {
     "duration": 0.204946,
     "end_time": "2022-06-24T23:17:24.357709",
     "exception": false,
     "start_time": "2022-06-24T23:17:24.152763",
     "status": "completed"
    },
    "tags": []
   },
   "outputs": [],
   "source": [
    "#Choosing Features with values above the mean\n",
    "from matplotlib import pyplot\n",
    "pyplot.bar([x for x in range(len(model.feature_importances_))], model.feature_importances_)\n",
    "pyplot.show()"
   ]
  },
  {
   "cell_type": "code",
   "execution_count": null,
   "id": "3fb3d5e1",
   "metadata": {
    "execution": {
     "iopub.execute_input": "2022-06-24T23:17:24.425702Z",
     "iopub.status.busy": "2022-06-24T23:17:24.425196Z",
     "iopub.status.idle": "2022-06-24T23:17:24.578590Z",
     "shell.execute_reply": "2022-06-24T23:17:24.577890Z"
    },
    "papermill": {
     "duration": 0.190233,
     "end_time": "2022-06-24T23:17:24.581029",
     "exception": false,
     "start_time": "2022-06-24T23:17:24.390796",
     "status": "completed"
    },
    "tags": []
   },
   "outputs": [],
   "source": [
    "#Choosing Features with values above the mean\n",
    "from matplotlib import pyplot\n",
    "pyplot.bar([x for x in range(len(feature_imp))], feature_imp)\n",
    "pyplot.show()"
   ]
  },
  {
   "cell_type": "markdown",
   "id": "3f9e841d",
   "metadata": {
    "papermill": {
     "duration": 0.032099,
     "end_time": "2022-06-24T23:17:24.645862",
     "exception": false,
     "start_time": "2022-06-24T23:17:24.613763",
     "status": "completed"
    },
    "tags": []
   },
   "source": [
    "Choosing Top Two Features of NONE"
   ]
  },
  {
   "cell_type": "code",
   "execution_count": null,
   "id": "a056b689",
   "metadata": {
    "execution": {
     "iopub.execute_input": "2022-06-24T23:17:24.713550Z",
     "iopub.status.busy": "2022-06-24T23:17:24.712920Z",
     "iopub.status.idle": "2022-06-24T23:17:24.716735Z",
     "shell.execute_reply": "2022-06-24T23:17:24.716084Z"
    },
    "papermill": {
     "duration": 0.04019,
     "end_time": "2022-06-24T23:17:24.718877",
     "exception": false,
     "start_time": "2022-06-24T23:17:24.678687",
     "status": "completed"
    },
    "tags": []
   },
   "outputs": [],
   "source": [
    "from sklearn.preprocessing import StandardScaler\n",
    "scaler= StandardScaler()"
   ]
  },
  {
   "cell_type": "code",
   "execution_count": null,
   "id": "0b552cf4",
   "metadata": {
    "execution": {
     "iopub.execute_input": "2022-06-24T23:17:24.788758Z",
     "iopub.status.busy": "2022-06-24T23:17:24.788139Z",
     "iopub.status.idle": "2022-06-24T23:17:24.797867Z",
     "shell.execute_reply": "2022-06-24T23:17:24.797124Z"
    },
    "papermill": {
     "duration": 0.047976,
     "end_time": "2022-06-24T23:17:24.800026",
     "exception": false,
     "start_time": "2022-06-24T23:17:24.752050",
     "status": "completed"
    },
    "tags": []
   },
   "outputs": [],
   "source": [
    "#split the dataset into features and labels\n",
    "X1=df[['CDR','MMSE']]\n",
    "\n",
    "y1=y\n",
    "\n",
    "X1= scaler.fit_transform(X1)\n",
    "         \n",
    "X_train1, X_test1, y_train1, y_test1= train_test_split(X1, y1, test_size=0.30, random_state=45)\n",
    " "
   ]
  },
  {
   "cell_type": "code",
   "execution_count": null,
   "id": "70133b57",
   "metadata": {
    "execution": {
     "iopub.execute_input": "2022-06-24T23:17:24.867124Z",
     "iopub.status.busy": "2022-06-24T23:17:24.866735Z",
     "iopub.status.idle": "2022-06-24T23:17:32.293024Z",
     "shell.execute_reply": "2022-06-24T23:17:32.292170Z"
    },
    "papermill": {
     "duration": 7.462358,
     "end_time": "2022-06-24T23:17:32.295397",
     "exception": false,
     "start_time": "2022-06-24T23:17:24.833039",
     "status": "completed"
    },
    "tags": []
   },
   "outputs": [],
   "source": [
    "b=model_evaluation(df[['CDR','ASF', 'eTIV']], y)\n",
    "print(b)"
   ]
  },
  {
   "cell_type": "code",
   "execution_count": null,
   "id": "33e74ca9",
   "metadata": {
    "papermill": {
     "duration": 0.03453,
     "end_time": "2022-06-24T23:17:32.363778",
     "exception": false,
     "start_time": "2022-06-24T23:17:32.329248",
     "status": "completed"
    },
    "tags": []
   },
   "outputs": [],
   "source": []
  },
  {
   "cell_type": "code",
   "execution_count": null,
   "id": "56d16048",
   "metadata": {
    "execution": {
     "iopub.execute_input": "2022-06-24T23:17:32.433325Z",
     "iopub.status.busy": "2022-06-24T23:17:32.432509Z",
     "iopub.status.idle": "2022-06-24T23:17:32.547105Z",
     "shell.execute_reply": "2022-06-24T23:17:32.545915Z"
    },
    "papermill": {
     "duration": 0.152321,
     "end_time": "2022-06-24T23:17:32.548972",
     "exception": false,
     "start_time": "2022-06-24T23:17:32.396651",
     "status": "completed"
    },
    "tags": []
   },
   "outputs": [],
   "source": [
    "model= AdaBoostClassifier()\n",
    "model.fit(X_train, y_train)\n",
    "\n",
    "y_pred = model.predict(X_test)\n",
    "feature_imp= pd.Series(model.feature_importances_, index= X.columns).sort_values(ascending=False)\n",
    "feature_imp=feature_imp*100\n",
    "feature_imp"
   ]
  },
  {
   "cell_type": "code",
   "execution_count": null,
   "id": "ba454292",
   "metadata": {
    "papermill": {
     "duration": 0.033783,
     "end_time": "2022-06-24T23:17:32.615790",
     "exception": false,
     "start_time": "2022-06-24T23:17:32.582007",
     "status": "completed"
    },
    "tags": []
   },
   "outputs": [],
   "source": []
  },
  {
   "cell_type": "code",
   "execution_count": null,
   "id": "639a8646",
   "metadata": {
    "execution": {
     "iopub.execute_input": "2022-06-24T23:17:32.686144Z",
     "iopub.status.busy": "2022-06-24T23:17:32.685370Z",
     "iopub.status.idle": "2022-06-24T23:17:32.696166Z",
     "shell.execute_reply": "2022-06-24T23:17:32.695227Z"
    },
    "papermill": {
     "duration": 0.048664,
     "end_time": "2022-06-24T23:17:32.698634",
     "exception": false,
     "start_time": "2022-06-24T23:17:32.649970",
     "status": "completed"
    },
    "tags": []
   },
   "outputs": [],
   "source": [
    "#split the dataset into features and labels\n",
    "X2=df[['CDR','ASF', 'eTIV']]\n",
    "\n",
    "y2=y\n",
    "\n",
    "X2= scaler.fit_transform(X2)\n",
    "         \n",
    "X_train2, X_test2, y_train2, y_test2= train_test_split(X2, y2, test_size=0.30, random_state=45)\n",
    " "
   ]
  },
  {
   "cell_type": "code",
   "execution_count": null,
   "id": "ac8550bf",
   "metadata": {
    "execution": {
     "iopub.execute_input": "2022-06-24T23:17:32.770148Z",
     "iopub.status.busy": "2022-06-24T23:17:32.769397Z",
     "iopub.status.idle": "2022-06-24T23:17:40.919200Z",
     "shell.execute_reply": "2022-06-24T23:17:40.918571Z"
    },
    "papermill": {
     "duration": 8.187775,
     "end_time": "2022-06-24T23:17:40.921325",
     "exception": false,
     "start_time": "2022-06-24T23:17:32.733550",
     "status": "completed"
    },
    "tags": []
   },
   "outputs": [],
   "source": [
    "c=model_evaluation(X2, y)\n",
    "print(c)"
   ]
  },
  {
   "cell_type": "code",
   "execution_count": null,
   "id": "f8bac60a",
   "metadata": {
    "execution": {
     "iopub.execute_input": "2022-06-24T23:17:40.996503Z",
     "iopub.status.busy": "2022-06-24T23:17:40.995839Z",
     "iopub.status.idle": "2022-06-24T23:17:48.431480Z",
     "shell.execute_reply": "2022-06-24T23:17:48.430696Z"
    },
    "papermill": {
     "duration": 7.479759,
     "end_time": "2022-06-24T23:17:48.434786",
     "exception": false,
     "start_time": "2022-06-24T23:17:40.955027",
     "status": "completed"
    },
    "tags": []
   },
   "outputs": [],
   "source": [
    "d=model_evaluation( df.drop('Group', axis=1),df['Group'])\n",
    "print(d)"
   ]
  },
  {
   "cell_type": "code",
   "execution_count": null,
   "id": "dcf92331",
   "metadata": {
    "papermill": {
     "duration": 0.033077,
     "end_time": "2022-06-24T23:17:48.501685",
     "exception": false,
     "start_time": "2022-06-24T23:17:48.468608",
     "status": "completed"
    },
    "tags": []
   },
   "outputs": [],
   "source": []
  },
  {
   "cell_type": "code",
   "execution_count": null,
   "id": "c299b4f2",
   "metadata": {
    "execution": {
     "iopub.execute_input": "2022-06-24T23:17:48.570956Z",
     "iopub.status.busy": "2022-06-24T23:17:48.570102Z",
     "iopub.status.idle": "2022-06-24T23:17:48.637516Z",
     "shell.execute_reply": "2022-06-24T23:17:48.636001Z"
    },
    "papermill": {
     "duration": 0.105318,
     "end_time": "2022-06-24T23:17:48.640831",
     "exception": false,
     "start_time": "2022-06-24T23:17:48.535513",
     "status": "completed"
    },
    "tags": []
   },
   "outputs": [],
   "source": [
    "from sklearn.feature_selection import SelectKBest\n",
    "from sklearn.feature_selection import mutual_info_classif\n",
    "\n",
    "#apply SelectKBest class to extract top 10 best features\n",
    "bestfeatures=SelectKBest(score_func=mutual_info_classif, k=10)\n",
    "\n",
    "fit= bestfeatures.fit(X,y)"
   ]
  },
  {
   "cell_type": "code",
   "execution_count": null,
   "id": "f5993329",
   "metadata": {
    "execution": {
     "iopub.execute_input": "2022-06-24T23:17:48.711424Z",
     "iopub.status.busy": "2022-06-24T23:17:48.710770Z",
     "iopub.status.idle": "2022-06-24T23:17:48.715599Z",
     "shell.execute_reply": "2022-06-24T23:17:48.714884Z"
    },
    "papermill": {
     "duration": 0.042203,
     "end_time": "2022-06-24T23:17:48.717704",
     "exception": false,
     "start_time": "2022-06-24T23:17:48.675501",
     "status": "completed"
    },
    "tags": []
   },
   "outputs": [],
   "source": [
    "dfscores =pd.DataFrame(fit.scores_)\n",
    "dfcolumns=pd.DataFrame(X.columns)"
   ]
  },
  {
   "cell_type": "code",
   "execution_count": null,
   "id": "39569b12",
   "metadata": {
    "execution": {
     "iopub.execute_input": "2022-06-24T23:17:48.792837Z",
     "iopub.status.busy": "2022-06-24T23:17:48.792189Z",
     "iopub.status.idle": "2022-06-24T23:17:48.804821Z",
     "shell.execute_reply": "2022-06-24T23:17:48.804144Z"
    },
    "papermill": {
     "duration": 0.054344,
     "end_time": "2022-06-24T23:17:48.806626",
     "exception": false,
     "start_time": "2022-06-24T23:17:48.752282",
     "status": "completed"
    },
    "tags": []
   },
   "outputs": [],
   "source": [
    "#concat two dataframes for better visualization\n",
    "featureScores= pd.concat([dfcolumns, dfscores], axis=1)\n",
    "featureScores.columns=['Attri', 'Score'] #naming the dataframe columns\n",
    "featureScores"
   ]
  },
  {
   "cell_type": "code",
   "execution_count": null,
   "id": "ae73aa0e",
   "metadata": {
    "execution": {
     "iopub.execute_input": "2022-06-24T23:17:48.878412Z",
     "iopub.status.busy": "2022-06-24T23:17:48.877274Z",
     "iopub.status.idle": "2022-06-24T23:17:48.886310Z",
     "shell.execute_reply": "2022-06-24T23:17:48.885589Z"
    },
    "papermill": {
     "duration": 0.046372,
     "end_time": "2022-06-24T23:17:48.888123",
     "exception": false,
     "start_time": "2022-06-24T23:17:48.841751",
     "status": "completed"
    },
    "tags": []
   },
   "outputs": [],
   "source": [
    "print(featureScores.nlargest(10, 'Score')) #print 5 best features"
   ]
  },
  {
   "cell_type": "code",
   "execution_count": null,
   "id": "125b6c6a",
   "metadata": {
    "papermill": {
     "duration": 0.038286,
     "end_time": "2022-06-24T23:17:48.963614",
     "exception": false,
     "start_time": "2022-06-24T23:17:48.925328",
     "status": "completed"
    },
    "tags": []
   },
   "outputs": [],
   "source": []
  },
  {
   "cell_type": "code",
   "execution_count": null,
   "id": "b6065930",
   "metadata": {
    "papermill": {
     "duration": 0.033943,
     "end_time": "2022-06-24T23:17:49.034112",
     "exception": false,
     "start_time": "2022-06-24T23:17:49.000169",
     "status": "completed"
    },
    "tags": []
   },
   "outputs": [],
   "source": []
  },
  {
   "cell_type": "markdown",
   "id": "c55b1174",
   "metadata": {
    "papermill": {
     "duration": 0.033404,
     "end_time": "2022-06-24T23:17:49.101471",
     "exception": false,
     "start_time": "2022-06-24T23:17:49.068067",
     "status": "completed"
    },
    "tags": []
   },
   "source": [
    "FEATURES SELECTION WITH F_CLASSIF"
   ]
  },
  {
   "cell_type": "code",
   "execution_count": null,
   "id": "2978ef3f",
   "metadata": {
    "execution": {
     "iopub.execute_input": "2022-06-24T23:17:49.171694Z",
     "iopub.status.busy": "2022-06-24T23:17:49.171020Z",
     "iopub.status.idle": "2022-06-24T23:17:49.179065Z",
     "shell.execute_reply": "2022-06-24T23:17:49.178066Z"
    },
    "papermill": {
     "duration": 0.0457,
     "end_time": "2022-06-24T23:17:49.181348",
     "exception": false,
     "start_time": "2022-06-24T23:17:49.135648",
     "status": "completed"
    },
    "tags": []
   },
   "outputs": [],
   "source": [
    "from sklearn.feature_selection import f_classif\n",
    "\n",
    "#apply SelectKBest class to extract top 10 best features\n",
    "bestfeatures=SelectKBest(score_func=f_classif, k=10)\n",
    "\n",
    "fit_f= bestfeatures.fit(X,y)"
   ]
  },
  {
   "cell_type": "code",
   "execution_count": null,
   "id": "70bf49ea",
   "metadata": {
    "execution": {
     "iopub.execute_input": "2022-06-24T23:17:49.252976Z",
     "iopub.status.busy": "2022-06-24T23:17:49.252313Z",
     "iopub.status.idle": "2022-06-24T23:17:49.257384Z",
     "shell.execute_reply": "2022-06-24T23:17:49.256653Z"
    },
    "papermill": {
     "duration": 0.043372,
     "end_time": "2022-06-24T23:17:49.259522",
     "exception": false,
     "start_time": "2022-06-24T23:17:49.216150",
     "status": "completed"
    },
    "tags": []
   },
   "outputs": [],
   "source": [
    "dfscores_f =pd.DataFrame(fit_f.scores_)\n",
    "dfcolumns_f=pd.DataFrame(X.columns)"
   ]
  },
  {
   "cell_type": "code",
   "execution_count": null,
   "id": "605724ff",
   "metadata": {
    "execution": {
     "iopub.execute_input": "2022-06-24T23:17:49.330323Z",
     "iopub.status.busy": "2022-06-24T23:17:49.329725Z",
     "iopub.status.idle": "2022-06-24T23:17:49.335061Z",
     "shell.execute_reply": "2022-06-24T23:17:49.334310Z"
    },
    "papermill": {
     "duration": 0.04271,
     "end_time": "2022-06-24T23:17:49.337058",
     "exception": false,
     "start_time": "2022-06-24T23:17:49.294348",
     "status": "completed"
    },
    "tags": []
   },
   "outputs": [],
   "source": [
    "#concat two dataframes for better visualization\n",
    "featureScores_f= pd.concat([dfcolumns_f, dfscores_f], axis=1)\n",
    "featureScores_f.columns=['Attri', 'Score'] #naming the dataframe columns\n",
    "#featureScores_f"
   ]
  },
  {
   "cell_type": "code",
   "execution_count": null,
   "id": "cda272bc",
   "metadata": {
    "execution": {
     "iopub.execute_input": "2022-06-24T23:17:49.405699Z",
     "iopub.status.busy": "2022-06-24T23:17:49.405171Z",
     "iopub.status.idle": "2022-06-24T23:17:49.412158Z",
     "shell.execute_reply": "2022-06-24T23:17:49.411552Z"
    },
    "papermill": {
     "duration": 0.043342,
     "end_time": "2022-06-24T23:17:49.414174",
     "exception": false,
     "start_time": "2022-06-24T23:17:49.370832",
     "status": "completed"
    },
    "tags": []
   },
   "outputs": [],
   "source": [
    "print(featureScores_f.nlargest(5, 'Score')) #print 5 best features"
   ]
  },
  {
   "cell_type": "code",
   "execution_count": null,
   "id": "72ee5650",
   "metadata": {
    "papermill": {
     "duration": 0.033542,
     "end_time": "2022-06-24T23:17:49.481375",
     "exception": false,
     "start_time": "2022-06-24T23:17:49.447833",
     "status": "completed"
    },
    "tags": []
   },
   "outputs": [],
   "source": []
  },
  {
   "cell_type": "markdown",
   "id": "ce768142",
   "metadata": {
    "papermill": {
     "duration": 0.034029,
     "end_time": "2022-06-24T23:17:49.549599",
     "exception": false,
     "start_time": "2022-06-24T23:17:49.515570",
     "status": "completed"
    },
    "tags": []
   },
   "source": [
    "FEATURE SELECTION USING RECURSIVE FEATURE SELECTION"
   ]
  },
  {
   "cell_type": "code",
   "execution_count": null,
   "id": "fa8d911b",
   "metadata": {
    "execution": {
     "iopub.execute_input": "2022-06-24T23:17:49.618623Z",
     "iopub.status.busy": "2022-06-24T23:17:49.618267Z",
     "iopub.status.idle": "2022-06-24T23:17:52.502891Z",
     "shell.execute_reply": "2022-06-24T23:17:52.501715Z"
    },
    "papermill": {
     "duration": 2.921716,
     "end_time": "2022-06-24T23:17:52.505306",
     "exception": false,
     "start_time": "2022-06-24T23:17:49.583590",
     "status": "completed"
    },
    "tags": []
   },
   "outputs": [],
   "source": [
    "from sklearn.feature_selection import RFECV\n",
    "#Init, fit\n",
    "rfecv= RFECV(\n",
    "    estimator= RandomForestClassifier(),\n",
    "    min_features_to_select=1,\n",
    "    step=5,\n",
    "    n_jobs= -1,\n",
    "    scoring=\"r2\",\n",
    "    cv=5,\n",
    ")\n",
    "\n",
    "rfecv_fit= rfecv.fit(X_train, y_train)"
   ]
  },
  {
   "cell_type": "code",
   "execution_count": null,
   "id": "449704d7",
   "metadata": {
    "execution": {
     "iopub.execute_input": "2022-06-24T23:17:52.577002Z",
     "iopub.status.busy": "2022-06-24T23:17:52.576585Z",
     "iopub.status.idle": "2022-06-24T23:17:52.584449Z",
     "shell.execute_reply": "2022-06-24T23:17:52.583574Z"
    },
    "papermill": {
     "duration": 0.046062,
     "end_time": "2022-06-24T23:17:52.586340",
     "exception": false,
     "start_time": "2022-06-24T23:17:52.540278",
     "status": "completed"
    },
    "tags": []
   },
   "outputs": [],
   "source": [
    "X_train_rf=X_train.columns[rfecv.support_]\n",
    "X_train_rf"
   ]
  },
  {
   "cell_type": "code",
   "execution_count": null,
   "id": "4a0fe216",
   "metadata": {
    "execution": {
     "iopub.execute_input": "2022-06-24T23:17:52.659997Z",
     "iopub.status.busy": "2022-06-24T23:17:52.659444Z",
     "iopub.status.idle": "2022-06-24T23:18:00.056897Z",
     "shell.execute_reply": "2022-06-24T23:18:00.055592Z"
    },
    "papermill": {
     "duration": 7.438228,
     "end_time": "2022-06-24T23:18:00.059392",
     "exception": false,
     "start_time": "2022-06-24T23:17:52.621164",
     "status": "completed"
    },
    "tags": []
   },
   "outputs": [],
   "source": [
    "b=model_evaluation(df[['MR Delay', 'MMSE', 'CDR', 'eTIV', 'nWBV', 'ASF']], y)\n",
    "print(b)\n"
   ]
  },
  {
   "cell_type": "markdown",
   "id": "b209eef2",
   "metadata": {
    "papermill": {
     "duration": 0.033848,
     "end_time": "2022-06-24T23:18:00.128311",
     "exception": false,
     "start_time": "2022-06-24T23:18:00.094463",
     "status": "completed"
    },
    "tags": []
   },
   "source": []
  },
  {
   "cell_type": "code",
   "execution_count": null,
   "id": "e41ffff3",
   "metadata": {
    "execution": {
     "iopub.execute_input": "2022-06-24T23:18:00.196817Z",
     "iopub.status.busy": "2022-06-24T23:18:00.196447Z",
     "iopub.status.idle": "2022-06-24T23:18:00.612141Z",
     "shell.execute_reply": "2022-06-24T23:18:00.611241Z"
    },
    "papermill": {
     "duration": 0.452231,
     "end_time": "2022-06-24T23:18:00.614132",
     "exception": false,
     "start_time": "2022-06-24T23:18:00.161901",
     "status": "completed"
    },
    "tags": []
   },
   "outputs": [],
   "source": [
    "model= RandomForestClassifier()\n",
    "model.fit(X_train, y_train)\n",
    "\n",
    "#plot graphe of feature importances for better visualization\n",
    "feat_importances= pd.Series(model.feature_importances_, index=X.columns)\n",
    "feat_importances.nlargest(10).plot(kind='barh')\n",
    "plt.show()"
   ]
  },
  {
   "cell_type": "code",
   "execution_count": null,
   "id": "f7349ec7",
   "metadata": {
    "papermill": {
     "duration": 0.034813,
     "end_time": "2022-06-24T23:18:00.683508",
     "exception": false,
     "start_time": "2022-06-24T23:18:00.648695",
     "status": "completed"
    },
    "tags": []
   },
   "outputs": [],
   "source": []
  },
  {
   "cell_type": "code",
   "execution_count": null,
   "id": "c2bc2bdd",
   "metadata": {
    "execution": {
     "iopub.execute_input": "2022-06-24T23:18:00.754240Z",
     "iopub.status.busy": "2022-06-24T23:18:00.753882Z",
     "iopub.status.idle": "2022-06-24T23:18:01.182354Z",
     "shell.execute_reply": "2022-06-24T23:18:01.181522Z"
    },
    "papermill": {
     "duration": 0.466214,
     "end_time": "2022-06-24T23:18:01.184270",
     "exception": false,
     "start_time": "2022-06-24T23:18:00.718056",
     "status": "completed"
    },
    "tags": []
   },
   "outputs": [],
   "source": [
    "model= xgb.XGBClassifier()\n",
    "model.fit(X_train, y_train)\n",
    "\n",
    "#plot graphe of feature importances for better visualization\n",
    "feat_importances= pd.Series(model.feature_importances_, index=X.columns)\n",
    "feat_importances.nlargest(10).plot(kind='barh')\n",
    "plt.show()"
   ]
  },
  {
   "cell_type": "code",
   "execution_count": null,
   "id": "6b86c23b",
   "metadata": {
    "execution": {
     "iopub.execute_input": "2022-06-24T23:18:01.255985Z",
     "iopub.status.busy": "2022-06-24T23:18:01.254923Z",
     "iopub.status.idle": "2022-06-24T23:18:01.570150Z",
     "shell.execute_reply": "2022-06-24T23:18:01.568738Z"
    },
    "papermill": {
     "duration": 0.353109,
     "end_time": "2022-06-24T23:18:01.572227",
     "exception": false,
     "start_time": "2022-06-24T23:18:01.219118",
     "status": "completed"
    },
    "tags": []
   },
   "outputs": [],
   "source": [
    "from sklearn.ensemble import ExtraTreesClassifier\n",
    "model= ExtraTreesClassifier()\n",
    "model.fit(X_train, y_train)\n",
    "\n",
    "#plot graphe of feature importances for better visualization\n",
    "feat_importances= pd.Series(model.feature_importances_, index=X.columns)\n",
    "feat_importances.nlargest(10).plot(kind='barh')\n",
    "plt.show()"
   ]
  },
  {
   "cell_type": "code",
   "execution_count": null,
   "id": "2c20ccfe",
   "metadata": {
    "execution": {
     "iopub.execute_input": "2022-06-24T23:18:01.645147Z",
     "iopub.status.busy": "2022-06-24T23:18:01.644589Z",
     "iopub.status.idle": "2022-06-24T23:18:01.649167Z",
     "shell.execute_reply": "2022-06-24T23:18:01.647923Z"
    },
    "papermill": {
     "duration": 0.044074,
     "end_time": "2022-06-24T23:18:01.651649",
     "exception": false,
     "start_time": "2022-06-24T23:18:01.607575",
     "status": "completed"
    },
    "tags": []
   },
   "outputs": [],
   "source": [
    "#CONCLUSION\n",
    "#CDR is the most important factor in predicting dementia.\n",
    "#Visit is the least import factor in predicring dementia according to Randpm classifier\n",
    "#ASF is the least import factor in predicring dementia according to XGBoost\n",
    "#SES is the least import factor in predicring dementia according to ExtraTreesClassifier \n",
    "\n"
   ]
  }
 ],
 "metadata": {
  "interpreter": {
   "hash": "7eedaa60a51de928d813b80a5e78203a6fe4ab6b48c93659eab122915b79350e"
  },
  "kernelspec": {
   "display_name": "Python 3.7.3 64-bit",
   "language": "python",
   "name": "python3"
  },
  "language_info": {
   "codemirror_mode": {
    "name": "ipython",
    "version": 3
   },
   "file_extension": ".py",
   "mimetype": "text/x-python",
   "name": "python",
   "nbconvert_exporter": "python",
   "pygments_lexer": "ipython3",
   "version": "3.7.3"
  },
  "papermill": {
   "default_parameters": {},
   "duration": 64.774788,
   "end_time": "2022-06-24T23:18:04.311196",
   "environment_variables": {},
   "exception": null,
   "input_path": "__notebook__.ipynb",
   "output_path": "__notebook__.ipynb",
   "parameters": {},
   "start_time": "2022-06-24T23:16:59.536408",
   "version": "2.3.4"
  }
 },
 "nbformat": 4,
 "nbformat_minor": 5
}
