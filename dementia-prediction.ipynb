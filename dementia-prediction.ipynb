{
 "cells": [
  {
   "cell_type": "code",
   "execution_count": 199,
   "id": "9a0a27a8",
   "metadata": {
    "_cell_guid": "b1076dfc-b9ad-4769-8c92-a6c4dae69d19",
    "_uuid": "8f2839f25d086af736a60e9eeb907d3b93b6e0e5",
    "execution": {
     "iopub.execute_input": "2022-06-24T23:17:10.464068Z",
     "iopub.status.busy": "2022-06-24T23:17:10.463460Z",
     "iopub.status.idle": "2022-06-24T23:17:10.484109Z",
     "shell.execute_reply": "2022-06-24T23:17:10.483282Z"
    },
    "papermill": {
     "duration": 0.050071,
     "end_time": "2022-06-24T23:17:10.486010",
     "exception": false,
     "start_time": "2022-06-24T23:17:10.435939",
     "status": "completed"
    },
    "tags": []
   },
   "outputs": [],
   "source": [
    "\n",
    "import os\n",
    "\n",
    "import numpy as np # linear algebra\n",
    "import pandas as pd # data processing"
   ]
  },
  {
   "cell_type": "code",
   "execution_count": null,
   "id": "7aace280",
   "metadata": {},
   "outputs": [],
   "source": []
  },
  {
   "cell_type": "code",
   "execution_count": 200,
   "id": "0dd1dd41",
   "metadata": {
    "execution": {
     "iopub.execute_input": "2022-06-24T23:17:10.539465Z",
     "iopub.status.busy": "2022-06-24T23:17:10.538926Z",
     "iopub.status.idle": "2022-06-24T23:17:12.087056Z",
     "shell.execute_reply": "2022-06-24T23:17:12.086146Z"
    },
    "papermill": {
     "duration": 1.578424,
     "end_time": "2022-06-24T23:17:12.089385",
     "exception": false,
     "start_time": "2022-06-24T23:17:10.510961",
     "status": "completed"
    },
    "tags": []
   },
   "outputs": [],
   "source": [
    "import seaborn as sns\n",
    "from sklearn.metrics import roc_auc_score\n",
    "from sklearn.tree import DecisionTreeClassifier\n",
    "import matplotlib.pyplot as plt"
   ]
  },
  {
   "cell_type": "code",
   "execution_count": 201,
   "id": "64dac63f",
   "metadata": {
    "execution": {
     "iopub.execute_input": "2022-06-24T23:17:12.143735Z",
     "iopub.status.busy": "2022-06-24T23:17:12.143369Z",
     "iopub.status.idle": "2022-06-24T23:17:12.182798Z",
     "shell.execute_reply": "2022-06-24T23:17:12.181809Z"
    },
    "papermill": {
     "duration": 0.068649,
     "end_time": "2022-06-24T23:17:12.185063",
     "exception": false,
     "start_time": "2022-06-24T23:17:12.116414",
     "status": "completed"
    },
    "tags": []
   },
   "outputs": [
    {
     "data": {
      "text/html": [
       "<div>\n",
       "<style scoped>\n",
       "    .dataframe tbody tr th:only-of-type {\n",
       "        vertical-align: middle;\n",
       "    }\n",
       "\n",
       "    .dataframe tbody tr th {\n",
       "        vertical-align: top;\n",
       "    }\n",
       "\n",
       "    .dataframe thead th {\n",
       "        text-align: right;\n",
       "    }\n",
       "</style>\n",
       "<table border=\"1\" class=\"dataframe\">\n",
       "  <thead>\n",
       "    <tr style=\"text-align: right;\">\n",
       "      <th></th>\n",
       "      <th>Subject ID</th>\n",
       "      <th>MRI ID</th>\n",
       "      <th>Group</th>\n",
       "      <th>Visit</th>\n",
       "      <th>MR Delay</th>\n",
       "      <th>M/F</th>\n",
       "      <th>Hand</th>\n",
       "      <th>Age</th>\n",
       "      <th>EDUC</th>\n",
       "      <th>SES</th>\n",
       "      <th>MMSE</th>\n",
       "      <th>CDR</th>\n",
       "      <th>eTIV</th>\n",
       "      <th>nWBV</th>\n",
       "      <th>ASF</th>\n",
       "    </tr>\n",
       "  </thead>\n",
       "  <tbody>\n",
       "    <tr>\n",
       "      <th>0</th>\n",
       "      <td>OAS2_0001</td>\n",
       "      <td>OAS2_0001_MR1</td>\n",
       "      <td>Nondemented</td>\n",
       "      <td>1</td>\n",
       "      <td>0</td>\n",
       "      <td>M</td>\n",
       "      <td>R</td>\n",
       "      <td>87</td>\n",
       "      <td>14</td>\n",
       "      <td>2.0</td>\n",
       "      <td>27.0</td>\n",
       "      <td>0.0</td>\n",
       "      <td>1987</td>\n",
       "      <td>0.696</td>\n",
       "      <td>0.883</td>\n",
       "    </tr>\n",
       "    <tr>\n",
       "      <th>1</th>\n",
       "      <td>OAS2_0001</td>\n",
       "      <td>OAS2_0001_MR2</td>\n",
       "      <td>Nondemented</td>\n",
       "      <td>2</td>\n",
       "      <td>457</td>\n",
       "      <td>M</td>\n",
       "      <td>R</td>\n",
       "      <td>88</td>\n",
       "      <td>14</td>\n",
       "      <td>2.0</td>\n",
       "      <td>30.0</td>\n",
       "      <td>0.0</td>\n",
       "      <td>2004</td>\n",
       "      <td>0.681</td>\n",
       "      <td>0.876</td>\n",
       "    </tr>\n",
       "    <tr>\n",
       "      <th>2</th>\n",
       "      <td>OAS2_0002</td>\n",
       "      <td>OAS2_0002_MR1</td>\n",
       "      <td>Demented</td>\n",
       "      <td>1</td>\n",
       "      <td>0</td>\n",
       "      <td>M</td>\n",
       "      <td>R</td>\n",
       "      <td>75</td>\n",
       "      <td>12</td>\n",
       "      <td>NaN</td>\n",
       "      <td>23.0</td>\n",
       "      <td>0.5</td>\n",
       "      <td>1678</td>\n",
       "      <td>0.736</td>\n",
       "      <td>1.046</td>\n",
       "    </tr>\n",
       "    <tr>\n",
       "      <th>3</th>\n",
       "      <td>OAS2_0002</td>\n",
       "      <td>OAS2_0002_MR2</td>\n",
       "      <td>Demented</td>\n",
       "      <td>2</td>\n",
       "      <td>560</td>\n",
       "      <td>M</td>\n",
       "      <td>R</td>\n",
       "      <td>76</td>\n",
       "      <td>12</td>\n",
       "      <td>NaN</td>\n",
       "      <td>28.0</td>\n",
       "      <td>0.5</td>\n",
       "      <td>1738</td>\n",
       "      <td>0.713</td>\n",
       "      <td>1.010</td>\n",
       "    </tr>\n",
       "    <tr>\n",
       "      <th>4</th>\n",
       "      <td>OAS2_0002</td>\n",
       "      <td>OAS2_0002_MR3</td>\n",
       "      <td>Demented</td>\n",
       "      <td>3</td>\n",
       "      <td>1895</td>\n",
       "      <td>M</td>\n",
       "      <td>R</td>\n",
       "      <td>80</td>\n",
       "      <td>12</td>\n",
       "      <td>NaN</td>\n",
       "      <td>22.0</td>\n",
       "      <td>0.5</td>\n",
       "      <td>1698</td>\n",
       "      <td>0.701</td>\n",
       "      <td>1.034</td>\n",
       "    </tr>\n",
       "  </tbody>\n",
       "</table>\n",
       "</div>"
      ],
      "text/plain": [
       "  Subject ID         MRI ID        Group  Visit  MR Delay M/F Hand  Age  EDUC  \\\n",
       "0  OAS2_0001  OAS2_0001_MR1  Nondemented      1         0   M    R   87    14   \n",
       "1  OAS2_0001  OAS2_0001_MR2  Nondemented      2       457   M    R   88    14   \n",
       "2  OAS2_0002  OAS2_0002_MR1     Demented      1         0   M    R   75    12   \n",
       "3  OAS2_0002  OAS2_0002_MR2     Demented      2       560   M    R   76    12   \n",
       "4  OAS2_0002  OAS2_0002_MR3     Demented      3      1895   M    R   80    12   \n",
       "\n",
       "   SES  MMSE  CDR  eTIV   nWBV    ASF  \n",
       "0  2.0  27.0  0.0  1987  0.696  0.883  \n",
       "1  2.0  30.0  0.0  2004  0.681  0.876  \n",
       "2  NaN  23.0  0.5  1678  0.736  1.046  \n",
       "3  NaN  28.0  0.5  1738  0.713  1.010  \n",
       "4  NaN  22.0  0.5  1698  0.701  1.034  "
      ]
     },
     "execution_count": 201,
     "metadata": {},
     "output_type": "execute_result"
    }
   ],
   "source": [
    "df= pd.read_csv(\"C:/Users/Wommack/Downloads/dementia_dataset.csv\")\n",
    "df.head()"
   ]
  },
  {
   "cell_type": "markdown",
   "id": "309a7417",
   "metadata": {
    "papermill": {
     "duration": 0.025173,
     "end_time": "2022-06-24T23:17:12.235778",
     "exception": false,
     "start_time": "2022-06-24T23:17:12.210605",
     "status": "completed"
    },
    "tags": []
   },
   "source": [
    "DATA CLEANING AND EXPLORATORY DATA ANALYSIS"
   ]
  },
  {
   "cell_type": "code",
   "execution_count": 202,
   "id": "fe7f5f31",
   "metadata": {
    "execution": {
     "iopub.execute_input": "2022-06-24T23:17:12.289401Z",
     "iopub.status.busy": "2022-06-24T23:17:12.288871Z",
     "iopub.status.idle": "2022-06-24T23:17:12.295752Z",
     "shell.execute_reply": "2022-06-24T23:17:12.294324Z"
    },
    "papermill": {
     "duration": 0.036488,
     "end_time": "2022-06-24T23:17:12.297779",
     "exception": false,
     "start_time": "2022-06-24T23:17:12.261291",
     "status": "completed"
    },
    "tags": []
   },
   "outputs": [
    {
     "data": {
      "text/plain": [
       "Index(['Subject ID', 'MRI ID', 'Group', 'Visit', 'MR Delay', 'M/F', 'Hand',\n",
       "       'Age', 'EDUC', 'SES', 'MMSE', 'CDR', 'eTIV', 'nWBV', 'ASF'],\n",
       "      dtype='object')"
      ]
     },
     "execution_count": 202,
     "metadata": {},
     "output_type": "execute_result"
    }
   ],
   "source": [
    "df.columns"
   ]
  },
  {
   "cell_type": "code",
   "execution_count": 203,
   "id": "9a60f918",
   "metadata": {
    "execution": {
     "iopub.execute_input": "2022-06-24T23:17:12.349861Z",
     "iopub.status.busy": "2022-06-24T23:17:12.349265Z",
     "iopub.status.idle": "2022-06-24T23:17:12.377753Z",
     "shell.execute_reply": "2022-06-24T23:17:12.375735Z"
    },
    "papermill": {
     "duration": 0.057754,
     "end_time": "2022-06-24T23:17:12.380672",
     "exception": false,
     "start_time": "2022-06-24T23:17:12.322918",
     "status": "completed"
    },
    "tags": []
   },
   "outputs": [
    {
     "name": "stdout",
     "output_type": "stream",
     "text": [
      "<class 'pandas.core.frame.DataFrame'>\n",
      "RangeIndex: 373 entries, 0 to 372\n",
      "Data columns (total 15 columns):\n",
      " #   Column      Non-Null Count  Dtype  \n",
      "---  ------      --------------  -----  \n",
      " 0   Subject ID  373 non-null    object \n",
      " 1   MRI ID      373 non-null    object \n",
      " 2   Group       373 non-null    object \n",
      " 3   Visit       373 non-null    int64  \n",
      " 4   MR Delay    373 non-null    int64  \n",
      " 5   M/F         373 non-null    object \n",
      " 6   Hand        373 non-null    object \n",
      " 7   Age         373 non-null    int64  \n",
      " 8   EDUC        373 non-null    int64  \n",
      " 9   SES         354 non-null    float64\n",
      " 10  MMSE        371 non-null    float64\n",
      " 11  CDR         373 non-null    float64\n",
      " 12  eTIV        373 non-null    int64  \n",
      " 13  nWBV        373 non-null    float64\n",
      " 14  ASF         373 non-null    float64\n",
      "dtypes: float64(5), int64(5), object(5)\n",
      "memory usage: 43.8+ KB\n"
     ]
    }
   ],
   "source": [
    "df.info()"
   ]
  },
  {
   "cell_type": "code",
   "execution_count": 204,
   "id": "5cbb87d9",
   "metadata": {
    "execution": {
     "iopub.execute_input": "2022-06-24T23:17:12.434410Z",
     "iopub.status.busy": "2022-06-24T23:17:12.434051Z",
     "iopub.status.idle": "2022-06-24T23:17:12.475342Z",
     "shell.execute_reply": "2022-06-24T23:17:12.474093Z"
    },
    "papermill": {
     "duration": 0.070644,
     "end_time": "2022-06-24T23:17:12.477444",
     "exception": false,
     "start_time": "2022-06-24T23:17:12.406800",
     "status": "completed"
    },
    "tags": []
   },
   "outputs": [
    {
     "data": {
      "text/html": [
       "<div>\n",
       "<style scoped>\n",
       "    .dataframe tbody tr th:only-of-type {\n",
       "        vertical-align: middle;\n",
       "    }\n",
       "\n",
       "    .dataframe tbody tr th {\n",
       "        vertical-align: top;\n",
       "    }\n",
       "\n",
       "    .dataframe thead th {\n",
       "        text-align: right;\n",
       "    }\n",
       "</style>\n",
       "<table border=\"1\" class=\"dataframe\">\n",
       "  <thead>\n",
       "    <tr style=\"text-align: right;\">\n",
       "      <th></th>\n",
       "      <th>Visit</th>\n",
       "      <th>MR Delay</th>\n",
       "      <th>Age</th>\n",
       "      <th>EDUC</th>\n",
       "      <th>SES</th>\n",
       "      <th>MMSE</th>\n",
       "      <th>CDR</th>\n",
       "      <th>eTIV</th>\n",
       "      <th>nWBV</th>\n",
       "      <th>ASF</th>\n",
       "    </tr>\n",
       "  </thead>\n",
       "  <tbody>\n",
       "    <tr>\n",
       "      <th>count</th>\n",
       "      <td>373.000000</td>\n",
       "      <td>373.000000</td>\n",
       "      <td>373.000000</td>\n",
       "      <td>373.000000</td>\n",
       "      <td>354.000000</td>\n",
       "      <td>371.000000</td>\n",
       "      <td>373.000000</td>\n",
       "      <td>373.000000</td>\n",
       "      <td>373.000000</td>\n",
       "      <td>373.000000</td>\n",
       "    </tr>\n",
       "    <tr>\n",
       "      <th>mean</th>\n",
       "      <td>1.882038</td>\n",
       "      <td>595.104558</td>\n",
       "      <td>77.013405</td>\n",
       "      <td>14.597855</td>\n",
       "      <td>2.460452</td>\n",
       "      <td>27.342318</td>\n",
       "      <td>0.290885</td>\n",
       "      <td>1488.128686</td>\n",
       "      <td>0.729568</td>\n",
       "      <td>1.195461</td>\n",
       "    </tr>\n",
       "    <tr>\n",
       "      <th>std</th>\n",
       "      <td>0.922843</td>\n",
       "      <td>635.485118</td>\n",
       "      <td>7.640957</td>\n",
       "      <td>2.876339</td>\n",
       "      <td>1.134005</td>\n",
       "      <td>3.683244</td>\n",
       "      <td>0.374557</td>\n",
       "      <td>176.139286</td>\n",
       "      <td>0.037135</td>\n",
       "      <td>0.138092</td>\n",
       "    </tr>\n",
       "    <tr>\n",
       "      <th>min</th>\n",
       "      <td>1.000000</td>\n",
       "      <td>0.000000</td>\n",
       "      <td>60.000000</td>\n",
       "      <td>6.000000</td>\n",
       "      <td>1.000000</td>\n",
       "      <td>4.000000</td>\n",
       "      <td>0.000000</td>\n",
       "      <td>1106.000000</td>\n",
       "      <td>0.644000</td>\n",
       "      <td>0.876000</td>\n",
       "    </tr>\n",
       "    <tr>\n",
       "      <th>25%</th>\n",
       "      <td>1.000000</td>\n",
       "      <td>0.000000</td>\n",
       "      <td>71.000000</td>\n",
       "      <td>12.000000</td>\n",
       "      <td>2.000000</td>\n",
       "      <td>27.000000</td>\n",
       "      <td>0.000000</td>\n",
       "      <td>1357.000000</td>\n",
       "      <td>0.700000</td>\n",
       "      <td>1.099000</td>\n",
       "    </tr>\n",
       "    <tr>\n",
       "      <th>50%</th>\n",
       "      <td>2.000000</td>\n",
       "      <td>552.000000</td>\n",
       "      <td>77.000000</td>\n",
       "      <td>15.000000</td>\n",
       "      <td>2.000000</td>\n",
       "      <td>29.000000</td>\n",
       "      <td>0.000000</td>\n",
       "      <td>1470.000000</td>\n",
       "      <td>0.729000</td>\n",
       "      <td>1.194000</td>\n",
       "    </tr>\n",
       "    <tr>\n",
       "      <th>75%</th>\n",
       "      <td>2.000000</td>\n",
       "      <td>873.000000</td>\n",
       "      <td>82.000000</td>\n",
       "      <td>16.000000</td>\n",
       "      <td>3.000000</td>\n",
       "      <td>30.000000</td>\n",
       "      <td>0.500000</td>\n",
       "      <td>1597.000000</td>\n",
       "      <td>0.756000</td>\n",
       "      <td>1.293000</td>\n",
       "    </tr>\n",
       "    <tr>\n",
       "      <th>max</th>\n",
       "      <td>5.000000</td>\n",
       "      <td>2639.000000</td>\n",
       "      <td>98.000000</td>\n",
       "      <td>23.000000</td>\n",
       "      <td>5.000000</td>\n",
       "      <td>30.000000</td>\n",
       "      <td>2.000000</td>\n",
       "      <td>2004.000000</td>\n",
       "      <td>0.837000</td>\n",
       "      <td>1.587000</td>\n",
       "    </tr>\n",
       "  </tbody>\n",
       "</table>\n",
       "</div>"
      ],
      "text/plain": [
       "            Visit     MR Delay         Age        EDUC         SES  \\\n",
       "count  373.000000   373.000000  373.000000  373.000000  354.000000   \n",
       "mean     1.882038   595.104558   77.013405   14.597855    2.460452   \n",
       "std      0.922843   635.485118    7.640957    2.876339    1.134005   \n",
       "min      1.000000     0.000000   60.000000    6.000000    1.000000   \n",
       "25%      1.000000     0.000000   71.000000   12.000000    2.000000   \n",
       "50%      2.000000   552.000000   77.000000   15.000000    2.000000   \n",
       "75%      2.000000   873.000000   82.000000   16.000000    3.000000   \n",
       "max      5.000000  2639.000000   98.000000   23.000000    5.000000   \n",
       "\n",
       "             MMSE         CDR         eTIV        nWBV         ASF  \n",
       "count  371.000000  373.000000   373.000000  373.000000  373.000000  \n",
       "mean    27.342318    0.290885  1488.128686    0.729568    1.195461  \n",
       "std      3.683244    0.374557   176.139286    0.037135    0.138092  \n",
       "min      4.000000    0.000000  1106.000000    0.644000    0.876000  \n",
       "25%     27.000000    0.000000  1357.000000    0.700000    1.099000  \n",
       "50%     29.000000    0.000000  1470.000000    0.729000    1.194000  \n",
       "75%     30.000000    0.500000  1597.000000    0.756000    1.293000  \n",
       "max     30.000000    2.000000  2004.000000    0.837000    1.587000  "
      ]
     },
     "execution_count": 204,
     "metadata": {},
     "output_type": "execute_result"
    }
   ],
   "source": [
    "df.describe()"
   ]
  },
  {
   "cell_type": "code",
   "execution_count": 205,
   "id": "a1e8a4d5",
   "metadata": {
    "execution": {
     "iopub.execute_input": "2022-06-24T23:17:12.530911Z",
     "iopub.status.busy": "2022-06-24T23:17:12.530395Z",
     "iopub.status.idle": "2022-06-24T23:17:12.549286Z",
     "shell.execute_reply": "2022-06-24T23:17:12.548707Z"
    },
    "papermill": {
     "duration": 0.047443,
     "end_time": "2022-06-24T23:17:12.550974",
     "exception": false,
     "start_time": "2022-06-24T23:17:12.503531",
     "status": "completed"
    },
    "tags": []
   },
   "outputs": [
    {
     "data": {
      "text/html": [
       "<div>\n",
       "<style scoped>\n",
       "    .dataframe tbody tr th:only-of-type {\n",
       "        vertical-align: middle;\n",
       "    }\n",
       "\n",
       "    .dataframe tbody tr th {\n",
       "        vertical-align: top;\n",
       "    }\n",
       "\n",
       "    .dataframe thead th {\n",
       "        text-align: right;\n",
       "    }\n",
       "</style>\n",
       "<table border=\"1\" class=\"dataframe\">\n",
       "  <thead>\n",
       "    <tr style=\"text-align: right;\">\n",
       "      <th></th>\n",
       "      <th>Visit</th>\n",
       "      <th>MR Delay</th>\n",
       "      <th>Age</th>\n",
       "      <th>EDUC</th>\n",
       "      <th>SES</th>\n",
       "      <th>MMSE</th>\n",
       "      <th>CDR</th>\n",
       "      <th>eTIV</th>\n",
       "      <th>nWBV</th>\n",
       "      <th>ASF</th>\n",
       "    </tr>\n",
       "  </thead>\n",
       "  <tbody>\n",
       "    <tr>\n",
       "      <th>Visit</th>\n",
       "      <td>1.000000</td>\n",
       "      <td>0.920009</td>\n",
       "      <td>0.183213</td>\n",
       "      <td>0.024615</td>\n",
       "      <td>-0.051622</td>\n",
       "      <td>-0.029078</td>\n",
       "      <td>0.002325</td>\n",
       "      <td>0.117428</td>\n",
       "      <td>-0.126682</td>\n",
       "      <td>-0.120399</td>\n",
       "    </tr>\n",
       "    <tr>\n",
       "      <th>MR Delay</th>\n",
       "      <td>0.920009</td>\n",
       "      <td>1.000000</td>\n",
       "      <td>0.205357</td>\n",
       "      <td>0.051630</td>\n",
       "      <td>-0.030813</td>\n",
       "      <td>0.065844</td>\n",
       "      <td>-0.062915</td>\n",
       "      <td>0.119624</td>\n",
       "      <td>-0.105586</td>\n",
       "      <td>-0.123545</td>\n",
       "    </tr>\n",
       "    <tr>\n",
       "      <th>Age</th>\n",
       "      <td>0.183213</td>\n",
       "      <td>0.205357</td>\n",
       "      <td>1.000000</td>\n",
       "      <td>-0.027886</td>\n",
       "      <td>-0.046857</td>\n",
       "      <td>0.055612</td>\n",
       "      <td>-0.026257</td>\n",
       "      <td>0.042348</td>\n",
       "      <td>-0.518359</td>\n",
       "      <td>-0.035067</td>\n",
       "    </tr>\n",
       "    <tr>\n",
       "      <th>EDUC</th>\n",
       "      <td>0.024615</td>\n",
       "      <td>0.051630</td>\n",
       "      <td>-0.027886</td>\n",
       "      <td>1.000000</td>\n",
       "      <td>-0.722647</td>\n",
       "      <td>0.194884</td>\n",
       "      <td>-0.153121</td>\n",
       "      <td>0.257015</td>\n",
       "      <td>-0.012200</td>\n",
       "      <td>-0.241752</td>\n",
       "    </tr>\n",
       "    <tr>\n",
       "      <th>SES</th>\n",
       "      <td>-0.051622</td>\n",
       "      <td>-0.030813</td>\n",
       "      <td>-0.046857</td>\n",
       "      <td>-0.722647</td>\n",
       "      <td>1.000000</td>\n",
       "      <td>-0.149219</td>\n",
       "      <td>0.076160</td>\n",
       "      <td>-0.261575</td>\n",
       "      <td>0.090095</td>\n",
       "      <td>0.255576</td>\n",
       "    </tr>\n",
       "    <tr>\n",
       "      <th>MMSE</th>\n",
       "      <td>-0.029078</td>\n",
       "      <td>0.065844</td>\n",
       "      <td>0.055612</td>\n",
       "      <td>0.194884</td>\n",
       "      <td>-0.149219</td>\n",
       "      <td>1.000000</td>\n",
       "      <td>-0.686519</td>\n",
       "      <td>-0.032084</td>\n",
       "      <td>0.341912</td>\n",
       "      <td>0.040052</td>\n",
       "    </tr>\n",
       "    <tr>\n",
       "      <th>CDR</th>\n",
       "      <td>0.002325</td>\n",
       "      <td>-0.062915</td>\n",
       "      <td>-0.026257</td>\n",
       "      <td>-0.153121</td>\n",
       "      <td>0.076160</td>\n",
       "      <td>-0.686519</td>\n",
       "      <td>1.000000</td>\n",
       "      <td>0.022819</td>\n",
       "      <td>-0.344819</td>\n",
       "      <td>-0.029340</td>\n",
       "    </tr>\n",
       "    <tr>\n",
       "      <th>eTIV</th>\n",
       "      <td>0.117428</td>\n",
       "      <td>0.119624</td>\n",
       "      <td>0.042348</td>\n",
       "      <td>0.257015</td>\n",
       "      <td>-0.261575</td>\n",
       "      <td>-0.032084</td>\n",
       "      <td>0.022819</td>\n",
       "      <td>1.000000</td>\n",
       "      <td>-0.210122</td>\n",
       "      <td>-0.988877</td>\n",
       "    </tr>\n",
       "    <tr>\n",
       "      <th>nWBV</th>\n",
       "      <td>-0.126682</td>\n",
       "      <td>-0.105586</td>\n",
       "      <td>-0.518359</td>\n",
       "      <td>-0.012200</td>\n",
       "      <td>0.090095</td>\n",
       "      <td>0.341912</td>\n",
       "      <td>-0.344819</td>\n",
       "      <td>-0.210122</td>\n",
       "      <td>1.000000</td>\n",
       "      <td>0.213476</td>\n",
       "    </tr>\n",
       "    <tr>\n",
       "      <th>ASF</th>\n",
       "      <td>-0.120399</td>\n",
       "      <td>-0.123545</td>\n",
       "      <td>-0.035067</td>\n",
       "      <td>-0.241752</td>\n",
       "      <td>0.255576</td>\n",
       "      <td>0.040052</td>\n",
       "      <td>-0.029340</td>\n",
       "      <td>-0.988877</td>\n",
       "      <td>0.213476</td>\n",
       "      <td>1.000000</td>\n",
       "    </tr>\n",
       "  </tbody>\n",
       "</table>\n",
       "</div>"
      ],
      "text/plain": [
       "             Visit  MR Delay       Age      EDUC       SES      MMSE  \\\n",
       "Visit     1.000000  0.920009  0.183213  0.024615 -0.051622 -0.029078   \n",
       "MR Delay  0.920009  1.000000  0.205357  0.051630 -0.030813  0.065844   \n",
       "Age       0.183213  0.205357  1.000000 -0.027886 -0.046857  0.055612   \n",
       "EDUC      0.024615  0.051630 -0.027886  1.000000 -0.722647  0.194884   \n",
       "SES      -0.051622 -0.030813 -0.046857 -0.722647  1.000000 -0.149219   \n",
       "MMSE     -0.029078  0.065844  0.055612  0.194884 -0.149219  1.000000   \n",
       "CDR       0.002325 -0.062915 -0.026257 -0.153121  0.076160 -0.686519   \n",
       "eTIV      0.117428  0.119624  0.042348  0.257015 -0.261575 -0.032084   \n",
       "nWBV     -0.126682 -0.105586 -0.518359 -0.012200  0.090095  0.341912   \n",
       "ASF      -0.120399 -0.123545 -0.035067 -0.241752  0.255576  0.040052   \n",
       "\n",
       "               CDR      eTIV      nWBV       ASF  \n",
       "Visit     0.002325  0.117428 -0.126682 -0.120399  \n",
       "MR Delay -0.062915  0.119624 -0.105586 -0.123545  \n",
       "Age      -0.026257  0.042348 -0.518359 -0.035067  \n",
       "EDUC     -0.153121  0.257015 -0.012200 -0.241752  \n",
       "SES       0.076160 -0.261575  0.090095  0.255576  \n",
       "MMSE     -0.686519 -0.032084  0.341912  0.040052  \n",
       "CDR       1.000000  0.022819 -0.344819 -0.029340  \n",
       "eTIV      0.022819  1.000000 -0.210122 -0.988877  \n",
       "nWBV     -0.344819 -0.210122  1.000000  0.213476  \n",
       "ASF      -0.029340 -0.988877  0.213476  1.000000  "
      ]
     },
     "execution_count": 205,
     "metadata": {},
     "output_type": "execute_result"
    }
   ],
   "source": [
    "df.corr()"
   ]
  },
  {
   "cell_type": "code",
   "execution_count": 206,
   "id": "ac5b2221",
   "metadata": {
    "execution": {
     "iopub.execute_input": "2022-06-24T23:17:12.605812Z",
     "iopub.status.busy": "2022-06-24T23:17:12.604640Z",
     "iopub.status.idle": "2022-06-24T23:17:13.238417Z",
     "shell.execute_reply": "2022-06-24T23:17:13.237144Z"
    },
    "papermill": {
     "duration": 0.663194,
     "end_time": "2022-06-24T23:17:13.240492",
     "exception": false,
     "start_time": "2022-06-24T23:17:12.577298",
     "status": "completed"
    },
    "tags": []
   },
   "outputs": [
    {
     "data": {
      "text/plain": [
       "<AxesSubplot:>"
      ]
     },
     "execution_count": 206,
     "metadata": {},
     "output_type": "execute_result"
    },
    {
     "data": {
      "image/png": "[encoded data removed]",
      "text/plain": [
       "<Figure size 432x288 with 2 Axes>"
      ]
     },
     "metadata": {
      "needs_background": "light"
     },
     "output_type": "display_data"
    }
   ],
   "source": [
    "sns.heatmap(df.corr(), annot= True, cmap= 'Reds')"
   ]
  },
  {
   "cell_type": "code",
   "execution_count": 207,
   "id": "5033e154",
   "metadata": {
    "execution": {
     "iopub.execute_input": "2022-06-24T23:17:13.299016Z",
     "iopub.status.busy": "2022-06-24T23:17:13.297567Z",
     "iopub.status.idle": "2022-06-24T23:17:13.305897Z",
     "shell.execute_reply": "2022-06-24T23:17:13.304582Z"
    },
    "papermill": {
     "duration": 0.040636,
     "end_time": "2022-06-24T23:17:13.308558",
     "exception": false,
     "start_time": "2022-06-24T23:17:13.267922",
     "status": "completed"
    },
    "tags": []
   },
   "outputs": [
    {
     "data": {
      "text/plain": [
       "array(['OAS2_0001', 'OAS2_0002', 'OAS2_0004', 'OAS2_0005', 'OAS2_0007',\n",
       "       'OAS2_0008', 'OAS2_0009', 'OAS2_0010', 'OAS2_0012', 'OAS2_0013',\n",
       "       'OAS2_0014', 'OAS2_0016', 'OAS2_0017', 'OAS2_0018', 'OAS2_0020',\n",
       "       'OAS2_0021', 'OAS2_0022', 'OAS2_0023', 'OAS2_0026', 'OAS2_0027',\n",
       "       'OAS2_0028', 'OAS2_0029', 'OAS2_0030', 'OAS2_0031', 'OAS2_0032',\n",
       "       'OAS2_0034', 'OAS2_0035', 'OAS2_0036', 'OAS2_0037', 'OAS2_0039',\n",
       "       'OAS2_0040', 'OAS2_0041', 'OAS2_0042', 'OAS2_0043', 'OAS2_0044',\n",
       "       'OAS2_0045', 'OAS2_0046', 'OAS2_0047', 'OAS2_0048', 'OAS2_0049',\n",
       "       'OAS2_0050', 'OAS2_0051', 'OAS2_0052', 'OAS2_0053', 'OAS2_0054',\n",
       "       'OAS2_0055', 'OAS2_0056', 'OAS2_0057', 'OAS2_0058', 'OAS2_0060',\n",
       "       'OAS2_0061', 'OAS2_0062', 'OAS2_0063', 'OAS2_0064', 'OAS2_0066',\n",
       "       'OAS2_0067', 'OAS2_0068', 'OAS2_0069', 'OAS2_0070', 'OAS2_0071',\n",
       "       'OAS2_0073', 'OAS2_0075', 'OAS2_0076', 'OAS2_0077', 'OAS2_0078',\n",
       "       'OAS2_0079', 'OAS2_0080', 'OAS2_0081', 'OAS2_0085', 'OAS2_0086',\n",
       "       'OAS2_0087', 'OAS2_0088', 'OAS2_0089', 'OAS2_0090', 'OAS2_0091',\n",
       "       'OAS2_0092', 'OAS2_0094', 'OAS2_0095', 'OAS2_0096', 'OAS2_0097',\n",
       "       'OAS2_0098', 'OAS2_0099', 'OAS2_0100', 'OAS2_0101', 'OAS2_0102',\n",
       "       'OAS2_0103', 'OAS2_0104', 'OAS2_0105', 'OAS2_0106', 'OAS2_0108',\n",
       "       'OAS2_0109', 'OAS2_0111', 'OAS2_0112', 'OAS2_0113', 'OAS2_0114',\n",
       "       'OAS2_0116', 'OAS2_0117', 'OAS2_0118', 'OAS2_0119', 'OAS2_0120',\n",
       "       'OAS2_0121', 'OAS2_0122', 'OAS2_0124', 'OAS2_0126', 'OAS2_0127',\n",
       "       'OAS2_0128', 'OAS2_0129', 'OAS2_0131', 'OAS2_0133', 'OAS2_0134',\n",
       "       'OAS2_0135', 'OAS2_0137', 'OAS2_0138', 'OAS2_0139', 'OAS2_0140',\n",
       "       'OAS2_0141', 'OAS2_0142', 'OAS2_0143', 'OAS2_0144', 'OAS2_0145',\n",
       "       'OAS2_0146', 'OAS2_0147', 'OAS2_0149', 'OAS2_0150', 'OAS2_0152',\n",
       "       'OAS2_0154', 'OAS2_0156', 'OAS2_0157', 'OAS2_0158', 'OAS2_0159',\n",
       "       'OAS2_0160', 'OAS2_0161', 'OAS2_0162', 'OAS2_0164', 'OAS2_0165',\n",
       "       'OAS2_0169', 'OAS2_0171', 'OAS2_0172', 'OAS2_0174', 'OAS2_0175',\n",
       "       'OAS2_0176', 'OAS2_0177', 'OAS2_0178', 'OAS2_0179', 'OAS2_0181',\n",
       "       'OAS2_0182', 'OAS2_0183', 'OAS2_0184', 'OAS2_0185', 'OAS2_0186'],\n",
       "      dtype=object)"
      ]
     },
     "execution_count": 207,
     "metadata": {},
     "output_type": "execute_result"
    }
   ],
   "source": [
    "df['Subject ID'].unique()"
   ]
  },
  {
   "cell_type": "code",
   "execution_count": 208,
   "id": "f42ecd37",
   "metadata": {
    "execution": {
     "iopub.execute_input": "2022-06-24T23:17:13.366870Z",
     "iopub.status.busy": "2022-06-24T23:17:13.366328Z",
     "iopub.status.idle": "2022-06-24T23:17:13.386555Z",
     "shell.execute_reply": "2022-06-24T23:17:13.385468Z"
    },
    "papermill": {
     "duration": 0.052511,
     "end_time": "2022-06-24T23:17:13.389157",
     "exception": false,
     "start_time": "2022-06-24T23:17:13.336646",
     "status": "completed"
    },
    "tags": []
   },
   "outputs": [
    {
     "data": {
      "text/html": [
       "<div>\n",
       "<style scoped>\n",
       "    .dataframe tbody tr th:only-of-type {\n",
       "        vertical-align: middle;\n",
       "    }\n",
       "\n",
       "    .dataframe tbody tr th {\n",
       "        vertical-align: top;\n",
       "    }\n",
       "\n",
       "    .dataframe thead th {\n",
       "        text-align: right;\n",
       "    }\n",
       "</style>\n",
       "<table border=\"1\" class=\"dataframe\">\n",
       "  <thead>\n",
       "    <tr style=\"text-align: right;\">\n",
       "      <th></th>\n",
       "      <th>MRI ID</th>\n",
       "      <th>Group</th>\n",
       "      <th>Visit</th>\n",
       "      <th>MR Delay</th>\n",
       "      <th>M/F</th>\n",
       "      <th>Hand</th>\n",
       "      <th>Age</th>\n",
       "      <th>EDUC</th>\n",
       "      <th>SES</th>\n",
       "      <th>MMSE</th>\n",
       "      <th>CDR</th>\n",
       "      <th>eTIV</th>\n",
       "      <th>nWBV</th>\n",
       "      <th>ASF</th>\n",
       "    </tr>\n",
       "  </thead>\n",
       "  <tbody>\n",
       "    <tr>\n",
       "      <th>0</th>\n",
       "      <td>OAS2_0001_MR1</td>\n",
       "      <td>Nondemented</td>\n",
       "      <td>1</td>\n",
       "      <td>0</td>\n",
       "      <td>M</td>\n",
       "      <td>R</td>\n",
       "      <td>87</td>\n",
       "      <td>14</td>\n",
       "      <td>2.0</td>\n",
       "      <td>27.0</td>\n",
       "      <td>0.0</td>\n",
       "      <td>1987</td>\n",
       "      <td>0.696</td>\n",
       "      <td>0.883</td>\n",
       "    </tr>\n",
       "    <tr>\n",
       "      <th>1</th>\n",
       "      <td>OAS2_0001_MR2</td>\n",
       "      <td>Nondemented</td>\n",
       "      <td>2</td>\n",
       "      <td>457</td>\n",
       "      <td>M</td>\n",
       "      <td>R</td>\n",
       "      <td>88</td>\n",
       "      <td>14</td>\n",
       "      <td>2.0</td>\n",
       "      <td>30.0</td>\n",
       "      <td>0.0</td>\n",
       "      <td>2004</td>\n",
       "      <td>0.681</td>\n",
       "      <td>0.876</td>\n",
       "    </tr>\n",
       "    <tr>\n",
       "      <th>2</th>\n",
       "      <td>OAS2_0002_MR1</td>\n",
       "      <td>Demented</td>\n",
       "      <td>1</td>\n",
       "      <td>0</td>\n",
       "      <td>M</td>\n",
       "      <td>R</td>\n",
       "      <td>75</td>\n",
       "      <td>12</td>\n",
       "      <td>NaN</td>\n",
       "      <td>23.0</td>\n",
       "      <td>0.5</td>\n",
       "      <td>1678</td>\n",
       "      <td>0.736</td>\n",
       "      <td>1.046</td>\n",
       "    </tr>\n",
       "    <tr>\n",
       "      <th>3</th>\n",
       "      <td>OAS2_0002_MR2</td>\n",
       "      <td>Demented</td>\n",
       "      <td>2</td>\n",
       "      <td>560</td>\n",
       "      <td>M</td>\n",
       "      <td>R</td>\n",
       "      <td>76</td>\n",
       "      <td>12</td>\n",
       "      <td>NaN</td>\n",
       "      <td>28.0</td>\n",
       "      <td>0.5</td>\n",
       "      <td>1738</td>\n",
       "      <td>0.713</td>\n",
       "      <td>1.010</td>\n",
       "    </tr>\n",
       "    <tr>\n",
       "      <th>4</th>\n",
       "      <td>OAS2_0002_MR3</td>\n",
       "      <td>Demented</td>\n",
       "      <td>3</td>\n",
       "      <td>1895</td>\n",
       "      <td>M</td>\n",
       "      <td>R</td>\n",
       "      <td>80</td>\n",
       "      <td>12</td>\n",
       "      <td>NaN</td>\n",
       "      <td>22.0</td>\n",
       "      <td>0.5</td>\n",
       "      <td>1698</td>\n",
       "      <td>0.701</td>\n",
       "      <td>1.034</td>\n",
       "    </tr>\n",
       "  </tbody>\n",
       "</table>\n",
       "</div>"
      ],
      "text/plain": [
       "          MRI ID        Group  Visit  MR Delay M/F Hand  Age  EDUC  SES  MMSE  \\\n",
       "0  OAS2_0001_MR1  Nondemented      1         0   M    R   87    14  2.0  27.0   \n",
       "1  OAS2_0001_MR2  Nondemented      2       457   M    R   88    14  2.0  30.0   \n",
       "2  OAS2_0002_MR1     Demented      1         0   M    R   75    12  NaN  23.0   \n",
       "3  OAS2_0002_MR2     Demented      2       560   M    R   76    12  NaN  28.0   \n",
       "4  OAS2_0002_MR3     Demented      3      1895   M    R   80    12  NaN  22.0   \n",
       "\n",
       "   CDR  eTIV   nWBV    ASF  \n",
       "0  0.0  1987  0.696  0.883  \n",
       "1  0.0  2004  0.681  0.876  \n",
       "2  0.5  1678  0.736  1.046  \n",
       "3  0.5  1738  0.713  1.010  \n",
       "4  0.5  1698  0.701  1.034  "
      ]
     },
     "execution_count": 208,
     "metadata": {},
     "output_type": "execute_result"
    }
   ],
   "source": [
    "# Subject_ID is dropped because it is unifor across all instances.\n",
    "df=df.drop('Subject ID', axis= 1)\n",
    "df.head()"
   ]
  },
  {
   "cell_type": "code",
   "execution_count": 209,
   "id": "e2ee550d",
   "metadata": {
    "execution": {
     "iopub.execute_input": "2022-06-24T23:17:13.447122Z",
     "iopub.status.busy": "2022-06-24T23:17:13.446751Z",
     "iopub.status.idle": "2022-06-24T23:17:13.455279Z",
     "shell.execute_reply": "2022-06-24T23:17:13.454718Z"
    },
    "papermill": {
     "duration": 0.039589,
     "end_time": "2022-06-24T23:17:13.457029",
     "exception": false,
     "start_time": "2022-06-24T23:17:13.417440",
     "status": "completed"
    },
    "tags": []
   },
   "outputs": [
    {
     "data": {
      "text/plain": [
       "array(['OAS2_0001_MR1', 'OAS2_0001_MR2', 'OAS2_0002_MR1', 'OAS2_0002_MR2',\n",
       "       'OAS2_0002_MR3', 'OAS2_0004_MR1', 'OAS2_0004_MR2', 'OAS2_0005_MR1',\n",
       "       'OAS2_0005_MR2', 'OAS2_0005_MR3', 'OAS2_0007_MR1', 'OAS2_0007_MR3',\n",
       "       'OAS2_0007_MR4', 'OAS2_0008_MR1', 'OAS2_0008_MR2', 'OAS2_0009_MR1',\n",
       "       'OAS2_0009_MR2', 'OAS2_0010_MR1', 'OAS2_0010_MR2', 'OAS2_0012_MR1',\n",
       "       'OAS2_0012_MR2', 'OAS2_0012_MR3', 'OAS2_0013_MR1', 'OAS2_0013_MR2',\n",
       "       'OAS2_0013_MR3', 'OAS2_0014_MR1', 'OAS2_0014_MR2', 'OAS2_0016_MR1',\n",
       "       'OAS2_0016_MR2', 'OAS2_0017_MR1', 'OAS2_0017_MR3', 'OAS2_0017_MR4',\n",
       "       'OAS2_0017_MR5', 'OAS2_0018_MR1', 'OAS2_0018_MR3', 'OAS2_0018_MR4',\n",
       "       'OAS2_0020_MR1', 'OAS2_0020_MR2', 'OAS2_0020_MR3', 'OAS2_0021_MR1',\n",
       "       'OAS2_0021_MR2', 'OAS2_0022_MR1', 'OAS2_0022_MR2', 'OAS2_0023_MR1',\n",
       "       'OAS2_0023_MR2', 'OAS2_0026_MR1', 'OAS2_0026_MR2', 'OAS2_0027_MR1',\n",
       "       'OAS2_0027_MR2', 'OAS2_0027_MR3', 'OAS2_0027_MR4', 'OAS2_0028_MR1',\n",
       "       'OAS2_0028_MR2', 'OAS2_0029_MR1', 'OAS2_0029_MR2', 'OAS2_0030_MR1',\n",
       "       'OAS2_0030_MR2', 'OAS2_0031_MR1', 'OAS2_0031_MR2', 'OAS2_0031_MR3',\n",
       "       'OAS2_0032_MR1', 'OAS2_0032_MR2', 'OAS2_0034_MR1', 'OAS2_0034_MR2',\n",
       "       'OAS2_0034_MR3', 'OAS2_0034_MR4', 'OAS2_0035_MR1', 'OAS2_0035_MR2',\n",
       "       'OAS2_0036_MR1', 'OAS2_0036_MR3', 'OAS2_0036_MR4', 'OAS2_0036_MR5',\n",
       "       'OAS2_0037_MR1', 'OAS2_0037_MR2', 'OAS2_0037_MR3', 'OAS2_0037_MR4',\n",
       "       'OAS2_0039_MR1', 'OAS2_0039_MR2', 'OAS2_0040_MR1', 'OAS2_0040_MR2',\n",
       "       'OAS2_0040_MR3', 'OAS2_0041_MR1', 'OAS2_0041_MR2', 'OAS2_0041_MR3',\n",
       "       'OAS2_0042_MR1', 'OAS2_0042_MR2', 'OAS2_0043_MR1', 'OAS2_0043_MR2',\n",
       "       'OAS2_0044_MR1', 'OAS2_0044_MR2', 'OAS2_0044_MR3', 'OAS2_0045_MR1',\n",
       "       'OAS2_0045_MR2', 'OAS2_0046_MR1', 'OAS2_0046_MR2', 'OAS2_0047_MR1',\n",
       "       'OAS2_0047_MR2', 'OAS2_0048_MR1', 'OAS2_0048_MR2', 'OAS2_0048_MR3',\n",
       "       'OAS2_0048_MR4', 'OAS2_0048_MR5', 'OAS2_0049_MR1', 'OAS2_0049_MR2',\n",
       "       'OAS2_0049_MR3', 'OAS2_0050_MR1', 'OAS2_0050_MR2', 'OAS2_0051_MR1',\n",
       "       'OAS2_0051_MR2', 'OAS2_0051_MR3', 'OAS2_0052_MR1', 'OAS2_0052_MR2',\n",
       "       'OAS2_0053_MR1', 'OAS2_0053_MR2', 'OAS2_0054_MR1', 'OAS2_0054_MR2',\n",
       "       'OAS2_0055_MR1', 'OAS2_0055_MR2', 'OAS2_0056_MR1', 'OAS2_0056_MR2',\n",
       "       'OAS2_0057_MR1', 'OAS2_0057_MR2', 'OAS2_0057_MR3', 'OAS2_0058_MR1',\n",
       "       'OAS2_0058_MR2', 'OAS2_0058_MR3', 'OAS2_0060_MR1', 'OAS2_0060_MR2',\n",
       "       'OAS2_0061_MR1', 'OAS2_0061_MR2', 'OAS2_0061_MR3', 'OAS2_0062_MR1',\n",
       "       'OAS2_0062_MR2', 'OAS2_0062_MR3', 'OAS2_0063_MR1', 'OAS2_0063_MR2',\n",
       "       'OAS2_0064_MR1', 'OAS2_0064_MR2', 'OAS2_0064_MR3', 'OAS2_0066_MR1',\n",
       "       'OAS2_0066_MR2', 'OAS2_0067_MR1', 'OAS2_0067_MR2', 'OAS2_0067_MR3',\n",
       "       'OAS2_0067_MR4', 'OAS2_0068_MR1', 'OAS2_0068_MR2', 'OAS2_0069_MR1',\n",
       "       'OAS2_0069_MR2', 'OAS2_0070_MR1', 'OAS2_0070_MR2', 'OAS2_0070_MR3',\n",
       "       'OAS2_0070_MR4', 'OAS2_0070_MR5', 'OAS2_0071_MR1', 'OAS2_0071_MR2',\n",
       "       'OAS2_0073_MR1', 'OAS2_0073_MR2', 'OAS2_0073_MR3', 'OAS2_0073_MR4',\n",
       "       'OAS2_0073_MR5', 'OAS2_0075_MR1', 'OAS2_0075_MR2', 'OAS2_0076_MR1',\n",
       "       'OAS2_0076_MR2', 'OAS2_0076_MR3', 'OAS2_0077_MR1', 'OAS2_0077_MR2',\n",
       "       'OAS2_0078_MR1', 'OAS2_0078_MR2', 'OAS2_0078_MR3', 'OAS2_0079_MR1',\n",
       "       'OAS2_0079_MR2', 'OAS2_0079_MR3', 'OAS2_0080_MR1', 'OAS2_0080_MR2',\n",
       "       'OAS2_0080_MR3', 'OAS2_0081_MR1', 'OAS2_0081_MR2', 'OAS2_0085_MR1',\n",
       "       'OAS2_0085_MR2', 'OAS2_0086_MR1', 'OAS2_0086_MR2', 'OAS2_0087_MR1',\n",
       "       'OAS2_0087_MR2', 'OAS2_0088_MR1', 'OAS2_0088_MR2', 'OAS2_0089_MR1',\n",
       "       'OAS2_0089_MR3', 'OAS2_0090_MR1', 'OAS2_0090_MR2', 'OAS2_0090_MR3',\n",
       "       'OAS2_0091_MR1', 'OAS2_0091_MR2', 'OAS2_0092_MR1', 'OAS2_0092_MR2',\n",
       "       'OAS2_0094_MR1', 'OAS2_0094_MR2', 'OAS2_0095_MR1', 'OAS2_0095_MR2',\n",
       "       'OAS2_0095_MR3', 'OAS2_0096_MR1', 'OAS2_0096_MR2', 'OAS2_0097_MR1',\n",
       "       'OAS2_0097_MR2', 'OAS2_0098_MR1', 'OAS2_0098_MR2', 'OAS2_0099_MR1',\n",
       "       'OAS2_0099_MR2', 'OAS2_0100_MR1', 'OAS2_0100_MR2', 'OAS2_0100_MR3',\n",
       "       'OAS2_0101_MR1', 'OAS2_0101_MR2', 'OAS2_0101_MR3', 'OAS2_0102_MR1',\n",
       "       'OAS2_0102_MR2', 'OAS2_0102_MR3', 'OAS2_0103_MR1', 'OAS2_0103_MR2',\n",
       "       'OAS2_0103_MR3', 'OAS2_0104_MR1', 'OAS2_0104_MR2', 'OAS2_0105_MR1',\n",
       "       'OAS2_0105_MR2', 'OAS2_0106_MR1', 'OAS2_0106_MR2', 'OAS2_0108_MR1',\n",
       "       'OAS2_0108_MR2', 'OAS2_0109_MR1', 'OAS2_0109_MR2', 'OAS2_0111_MR1',\n",
       "       'OAS2_0111_MR2', 'OAS2_0112_MR1', 'OAS2_0112_MR2', 'OAS2_0113_MR1',\n",
       "       'OAS2_0113_MR2', 'OAS2_0114_MR1', 'OAS2_0114_MR2', 'OAS2_0116_MR1',\n",
       "       'OAS2_0116_MR2', 'OAS2_0117_MR1', 'OAS2_0117_MR2', 'OAS2_0117_MR3',\n",
       "       'OAS2_0117_MR4', 'OAS2_0118_MR1', 'OAS2_0118_MR2', 'OAS2_0119_MR1',\n",
       "       'OAS2_0119_MR2', 'OAS2_0119_MR3', 'OAS2_0120_MR1', 'OAS2_0120_MR2',\n",
       "       'OAS2_0121_MR1', 'OAS2_0121_MR2', 'OAS2_0122_MR1', 'OAS2_0122_MR2',\n",
       "       'OAS2_0124_MR1', 'OAS2_0124_MR2', 'OAS2_0126_MR1', 'OAS2_0126_MR2',\n",
       "       'OAS2_0126_MR3', 'OAS2_0127_MR1', 'OAS2_0127_MR2', 'OAS2_0127_MR3',\n",
       "       'OAS2_0127_MR4', 'OAS2_0127_MR5', 'OAS2_0128_MR1', 'OAS2_0128_MR2',\n",
       "       'OAS2_0129_MR1', 'OAS2_0129_MR2', 'OAS2_0129_MR3', 'OAS2_0131_MR1',\n",
       "       'OAS2_0131_MR2', 'OAS2_0133_MR1', 'OAS2_0133_MR3', 'OAS2_0134_MR1',\n",
       "       'OAS2_0134_MR2', 'OAS2_0135_MR1', 'OAS2_0135_MR2', 'OAS2_0137_MR1',\n",
       "       'OAS2_0137_MR2', 'OAS2_0138_MR1', 'OAS2_0138_MR2', 'OAS2_0139_MR1',\n",
       "       'OAS2_0139_MR2', 'OAS2_0140_MR1', 'OAS2_0140_MR2', 'OAS2_0140_MR3',\n",
       "       'OAS2_0141_MR1', 'OAS2_0141_MR2', 'OAS2_0142_MR1', 'OAS2_0142_MR2',\n",
       "       'OAS2_0143_MR1', 'OAS2_0143_MR2', 'OAS2_0143_MR3', 'OAS2_0144_MR1',\n",
       "       'OAS2_0144_MR2', 'OAS2_0145_MR1', 'OAS2_0145_MR2', 'OAS2_0146_MR1',\n",
       "       'OAS2_0146_MR2', 'OAS2_0147_MR1', 'OAS2_0147_MR2', 'OAS2_0147_MR3',\n",
       "       'OAS2_0147_MR4', 'OAS2_0149_MR1', 'OAS2_0149_MR2', 'OAS2_0150_MR1',\n",
       "       'OAS2_0150_MR2', 'OAS2_0152_MR1', 'OAS2_0152_MR2', 'OAS2_0152_MR3',\n",
       "       'OAS2_0154_MR1', 'OAS2_0154_MR2', 'OAS2_0156_MR1', 'OAS2_0156_MR2',\n",
       "       'OAS2_0157_MR1', 'OAS2_0157_MR2', 'OAS2_0158_MR1', 'OAS2_0158_MR2',\n",
       "       'OAS2_0159_MR1', 'OAS2_0159_MR2', 'OAS2_0160_MR1', 'OAS2_0160_MR2',\n",
       "       'OAS2_0161_MR1', 'OAS2_0161_MR2', 'OAS2_0161_MR3', 'OAS2_0162_MR1',\n",
       "       'OAS2_0162_MR2', 'OAS2_0164_MR1', 'OAS2_0164_MR2', 'OAS2_0165_MR1',\n",
       "       'OAS2_0165_MR2', 'OAS2_0169_MR1', 'OAS2_0169_MR2', 'OAS2_0171_MR1',\n",
       "       'OAS2_0171_MR2', 'OAS2_0171_MR3', 'OAS2_0172_MR1', 'OAS2_0172_MR2',\n",
       "       'OAS2_0174_MR1', 'OAS2_0174_MR2', 'OAS2_0174_MR3', 'OAS2_0175_MR1',\n",
       "       'OAS2_0175_MR2', 'OAS2_0175_MR3', 'OAS2_0176_MR1', 'OAS2_0176_MR2',\n",
       "       'OAS2_0176_MR3', 'OAS2_0177_MR1', 'OAS2_0177_MR2', 'OAS2_0178_MR1',\n",
       "       'OAS2_0178_MR2', 'OAS2_0178_MR3', 'OAS2_0179_MR1', 'OAS2_0179_MR2',\n",
       "       'OAS2_0181_MR1', 'OAS2_0181_MR2', 'OAS2_0181_MR3', 'OAS2_0182_MR1',\n",
       "       'OAS2_0182_MR2', 'OAS2_0183_MR1', 'OAS2_0183_MR2', 'OAS2_0183_MR3',\n",
       "       'OAS2_0183_MR4', 'OAS2_0184_MR1', 'OAS2_0184_MR2', 'OAS2_0185_MR1',\n",
       "       'OAS2_0185_MR2', 'OAS2_0185_MR3', 'OAS2_0186_MR1', 'OAS2_0186_MR2',\n",
       "       'OAS2_0186_MR3'], dtype=object)"
      ]
     },
     "execution_count": 209,
     "metadata": {},
     "output_type": "execute_result"
    }
   ],
   "source": [
    "# MRI_ID is dropped because it is unifor across all instances.\n",
    "df['MRI ID'].unique()"
   ]
  },
  {
   "cell_type": "code",
   "execution_count": 210,
   "id": "53741ae7",
   "metadata": {
    "execution": {
     "iopub.execute_input": "2022-06-24T23:17:13.513685Z",
     "iopub.status.busy": "2022-06-24T23:17:13.513204Z",
     "iopub.status.idle": "2022-06-24T23:17:13.532507Z",
     "shell.execute_reply": "2022-06-24T23:17:13.531460Z"
    },
    "papermill": {
     "duration": 0.049646,
     "end_time": "2022-06-24T23:17:13.534427",
     "exception": false,
     "start_time": "2022-06-24T23:17:13.484781",
     "status": "completed"
    },
    "tags": []
   },
   "outputs": [
    {
     "data": {
      "text/html": [
       "<div>\n",
       "<style scoped>\n",
       "    .dataframe tbody tr th:only-of-type {\n",
       "        vertical-align: middle;\n",
       "    }\n",
       "\n",
       "    .dataframe tbody tr th {\n",
       "        vertical-align: top;\n",
       "    }\n",
       "\n",
       "    .dataframe thead th {\n",
       "        text-align: right;\n",
       "    }\n",
       "</style>\n",
       "<table border=\"1\" class=\"dataframe\">\n",
       "  <thead>\n",
       "    <tr style=\"text-align: right;\">\n",
       "      <th></th>\n",
       "      <th>Group</th>\n",
       "      <th>Visit</th>\n",
       "      <th>MR Delay</th>\n",
       "      <th>M/F</th>\n",
       "      <th>Hand</th>\n",
       "      <th>Age</th>\n",
       "      <th>EDUC</th>\n",
       "      <th>SES</th>\n",
       "      <th>MMSE</th>\n",
       "      <th>CDR</th>\n",
       "      <th>eTIV</th>\n",
       "      <th>nWBV</th>\n",
       "      <th>ASF</th>\n",
       "    </tr>\n",
       "  </thead>\n",
       "  <tbody>\n",
       "    <tr>\n",
       "      <th>0</th>\n",
       "      <td>Nondemented</td>\n",
       "      <td>1</td>\n",
       "      <td>0</td>\n",
       "      <td>M</td>\n",
       "      <td>R</td>\n",
       "      <td>87</td>\n",
       "      <td>14</td>\n",
       "      <td>2.0</td>\n",
       "      <td>27.0</td>\n",
       "      <td>0.0</td>\n",
       "      <td>1987</td>\n",
       "      <td>0.696</td>\n",
       "      <td>0.883</td>\n",
       "    </tr>\n",
       "    <tr>\n",
       "      <th>1</th>\n",
       "      <td>Nondemented</td>\n",
       "      <td>2</td>\n",
       "      <td>457</td>\n",
       "      <td>M</td>\n",
       "      <td>R</td>\n",
       "      <td>88</td>\n",
       "      <td>14</td>\n",
       "      <td>2.0</td>\n",
       "      <td>30.0</td>\n",
       "      <td>0.0</td>\n",
       "      <td>2004</td>\n",
       "      <td>0.681</td>\n",
       "      <td>0.876</td>\n",
       "    </tr>\n",
       "    <tr>\n",
       "      <th>2</th>\n",
       "      <td>Demented</td>\n",
       "      <td>1</td>\n",
       "      <td>0</td>\n",
       "      <td>M</td>\n",
       "      <td>R</td>\n",
       "      <td>75</td>\n",
       "      <td>12</td>\n",
       "      <td>NaN</td>\n",
       "      <td>23.0</td>\n",
       "      <td>0.5</td>\n",
       "      <td>1678</td>\n",
       "      <td>0.736</td>\n",
       "      <td>1.046</td>\n",
       "    </tr>\n",
       "    <tr>\n",
       "      <th>3</th>\n",
       "      <td>Demented</td>\n",
       "      <td>2</td>\n",
       "      <td>560</td>\n",
       "      <td>M</td>\n",
       "      <td>R</td>\n",
       "      <td>76</td>\n",
       "      <td>12</td>\n",
       "      <td>NaN</td>\n",
       "      <td>28.0</td>\n",
       "      <td>0.5</td>\n",
       "      <td>1738</td>\n",
       "      <td>0.713</td>\n",
       "      <td>1.010</td>\n",
       "    </tr>\n",
       "    <tr>\n",
       "      <th>4</th>\n",
       "      <td>Demented</td>\n",
       "      <td>3</td>\n",
       "      <td>1895</td>\n",
       "      <td>M</td>\n",
       "      <td>R</td>\n",
       "      <td>80</td>\n",
       "      <td>12</td>\n",
       "      <td>NaN</td>\n",
       "      <td>22.0</td>\n",
       "      <td>0.5</td>\n",
       "      <td>1698</td>\n",
       "      <td>0.701</td>\n",
       "      <td>1.034</td>\n",
       "    </tr>\n",
       "  </tbody>\n",
       "</table>\n",
       "</div>"
      ],
      "text/plain": [
       "         Group  Visit  MR Delay M/F Hand  Age  EDUC  SES  MMSE  CDR  eTIV  \\\n",
       "0  Nondemented      1         0   M    R   87    14  2.0  27.0  0.0  1987   \n",
       "1  Nondemented      2       457   M    R   88    14  2.0  30.0  0.0  2004   \n",
       "2     Demented      1         0   M    R   75    12  NaN  23.0  0.5  1678   \n",
       "3     Demented      2       560   M    R   76    12  NaN  28.0  0.5  1738   \n",
       "4     Demented      3      1895   M    R   80    12  NaN  22.0  0.5  1698   \n",
       "\n",
       "    nWBV    ASF  \n",
       "0  0.696  0.883  \n",
       "1  0.681  0.876  \n",
       "2  0.736  1.046  \n",
       "3  0.713  1.010  \n",
       "4  0.701  1.034  "
      ]
     },
     "execution_count": 210,
     "metadata": {},
     "output_type": "execute_result"
    }
   ],
   "source": [
    "df=df.drop('MRI ID', axis= 1)\n",
    "df.head()"
   ]
  },
  {
   "cell_type": "code",
   "execution_count": 211,
   "id": "5f04c51d",
   "metadata": {
    "execution": {
     "iopub.execute_input": "2022-06-24T23:17:13.593237Z",
     "iopub.status.busy": "2022-06-24T23:17:13.592846Z",
     "iopub.status.idle": "2022-06-24T23:17:13.600060Z",
     "shell.execute_reply": "2022-06-24T23:17:13.599002Z"
    },
    "papermill": {
     "duration": 0.039078,
     "end_time": "2022-06-24T23:17:13.602335",
     "exception": false,
     "start_time": "2022-06-24T23:17:13.563257",
     "status": "completed"
    },
    "tags": []
   },
   "outputs": [
    {
     "data": {
      "text/plain": [
       "array(['Nondemented', 'Demented', 'Converted'], dtype=object)"
      ]
     },
     "execution_count": 211,
     "metadata": {},
     "output_type": "execute_result"
    }
   ],
   "source": [
    "df['Group'].unique()"
   ]
  },
  {
   "cell_type": "markdown",
   "id": "7701084c",
   "metadata": {
    "papermill": {
     "duration": 0.028337,
     "end_time": "2022-06-24T23:17:13.659287",
     "exception": false,
     "start_time": "2022-06-24T23:17:13.630950",
     "status": "completed"
    },
    "tags": []
   },
   "source": [
    "Label Encoding of 'Group' Feature"
   ]
  },
  {
   "cell_type": "code",
   "execution_count": 212,
   "id": "a3c1c339",
   "metadata": {
    "execution": {
     "iopub.execute_input": "2022-06-24T23:17:13.717609Z",
     "iopub.status.busy": "2022-06-24T23:17:13.717245Z",
     "iopub.status.idle": "2022-06-24T23:17:13.725317Z",
     "shell.execute_reply": "2022-06-24T23:17:13.724700Z"
    },
    "papermill": {
     "duration": 0.039127,
     "end_time": "2022-06-24T23:17:13.726935",
     "exception": false,
     "start_time": "2022-06-24T23:17:13.687808",
     "status": "completed"
    },
    "tags": []
   },
   "outputs": [
    {
     "data": {
      "text/plain": [
       "array([2, 1, 0])"
      ]
     },
     "execution_count": 212,
     "metadata": {},
     "output_type": "execute_result"
    }
   ],
   "source": [
    "from sklearn.preprocessing import LabelEncoder\n",
    "le= LabelEncoder()\n",
    "df['Group']= le.fit_transform(df['Group'])\n",
    "df['Group'].unique()"
   ]
  },
  {
   "cell_type": "code",
   "execution_count": 213,
   "id": "a7a1aa8e",
   "metadata": {
    "execution": {
     "iopub.execute_input": "2022-06-24T23:17:13.786154Z",
     "iopub.status.busy": "2022-06-24T23:17:13.785526Z",
     "iopub.status.idle": "2022-06-24T23:17:13.791211Z",
     "shell.execute_reply": "2022-06-24T23:17:13.790561Z"
    },
    "papermill": {
     "duration": 0.037445,
     "end_time": "2022-06-24T23:17:13.792989",
     "exception": false,
     "start_time": "2022-06-24T23:17:13.755544",
     "status": "completed"
    },
    "tags": []
   },
   "outputs": [
    {
     "data": {
      "text/plain": [
       "array([1, 2, 3, 4, 5], dtype=int64)"
      ]
     },
     "execution_count": 213,
     "metadata": {},
     "output_type": "execute_result"
    }
   ],
   "source": [
    "df['Visit'].unique()"
   ]
  },
  {
   "cell_type": "code",
   "execution_count": 214,
   "id": "5f5f5cbe",
   "metadata": {
    "execution": {
     "iopub.execute_input": "2022-06-24T23:17:13.851596Z",
     "iopub.status.busy": "2022-06-24T23:17:13.851073Z",
     "iopub.status.idle": "2022-06-24T23:17:13.856478Z",
     "shell.execute_reply": "2022-06-24T23:17:13.855884Z"
    },
    "papermill": {
     "duration": 0.03722,
     "end_time": "2022-06-24T23:17:13.858255",
     "exception": false,
     "start_time": "2022-06-24T23:17:13.821035",
     "status": "completed"
    },
    "tags": []
   },
   "outputs": [
    {
     "data": {
      "text/plain": [
       "array(['M', 'F'], dtype=object)"
      ]
     },
     "execution_count": 214,
     "metadata": {},
     "output_type": "execute_result"
    }
   ],
   "source": [
    "df['M/F'].unique()"
   ]
  },
  {
   "cell_type": "markdown",
   "id": "6370809a",
   "metadata": {
    "papermill": {
     "duration": 0.029246,
     "end_time": "2022-06-24T23:17:13.916634",
     "exception": false,
     "start_time": "2022-06-24T23:17:13.887388",
     "status": "completed"
    },
    "tags": []
   },
   "source": [
    "Binary Encoding of df['M/F']"
   ]
  },
  {
   "cell_type": "code",
   "execution_count": 215,
   "id": "9e4f1f57",
   "metadata": {
    "execution": {
     "iopub.execute_input": "2022-06-24T23:17:13.976826Z",
     "iopub.status.busy": "2022-06-24T23:17:13.976257Z",
     "iopub.status.idle": "2022-06-24T23:17:13.981718Z",
     "shell.execute_reply": "2022-06-24T23:17:13.980949Z"
    },
    "papermill": {
     "duration": 0.038264,
     "end_time": "2022-06-24T23:17:13.983767",
     "exception": false,
     "start_time": "2022-06-24T23:17:13.945503",
     "status": "completed"
    },
    "tags": []
   },
   "outputs": [],
   "source": [
    "df['M/F']= df['M/F'].apply(lambda x: 1 if x == 'M' else (0 if x == 'F' else None))"
   ]
  },
  {
   "cell_type": "code",
   "execution_count": 216,
   "id": "bc7ca2b4",
   "metadata": {
    "execution": {
     "iopub.execute_input": "2022-06-24T23:17:14.043953Z",
     "iopub.status.busy": "2022-06-24T23:17:14.043365Z",
     "iopub.status.idle": "2022-06-24T23:17:14.050358Z",
     "shell.execute_reply": "2022-06-24T23:17:14.049304Z"
    },
    "papermill": {
     "duration": 0.039382,
     "end_time": "2022-06-24T23:17:14.052351",
     "exception": false,
     "start_time": "2022-06-24T23:17:14.012969",
     "status": "completed"
    },
    "tags": []
   },
   "outputs": [
    {
     "data": {
      "text/plain": [
       "array([1, 0], dtype=int64)"
      ]
     },
     "execution_count": 216,
     "metadata": {},
     "output_type": "execute_result"
    }
   ],
   "source": [
    "df['M/F'].unique()"
   ]
  },
  {
   "cell_type": "code",
   "execution_count": 217,
   "id": "dbcf22aa",
   "metadata": {
    "execution": {
     "iopub.execute_input": "2022-06-24T23:17:14.111857Z",
     "iopub.status.busy": "2022-06-24T23:17:14.111490Z",
     "iopub.status.idle": "2022-06-24T23:17:14.117283Z",
     "shell.execute_reply": "2022-06-24T23:17:14.116716Z"
    },
    "papermill": {
     "duration": 0.038142,
     "end_time": "2022-06-24T23:17:14.119498",
     "exception": false,
     "start_time": "2022-06-24T23:17:14.081356",
     "status": "completed"
    },
    "tags": []
   },
   "outputs": [
    {
     "data": {
      "text/plain": [
       "array(['R'], dtype=object)"
      ]
     },
     "execution_count": 217,
     "metadata": {},
     "output_type": "execute_result"
    }
   ],
   "source": [
    "df['Hand'].unique()"
   ]
  },
  {
   "cell_type": "markdown",
   "id": "813d937f",
   "metadata": {
    "papermill": {
     "duration": 0.036393,
     "end_time": "2022-06-24T23:17:14.187918",
     "exception": false,
     "start_time": "2022-06-24T23:17:14.151525",
     "status": "completed"
    },
    "tags": []
   },
   "source": [
    "the Hand column is dropped because its instances are the same for all rows"
   ]
  },
  {
   "cell_type": "code",
   "execution_count": 218,
   "id": "bc6ae004",
   "metadata": {
    "execution": {
     "iopub.execute_input": "2022-06-24T23:17:14.254149Z",
     "iopub.status.busy": "2022-06-24T23:17:14.253643Z",
     "iopub.status.idle": "2022-06-24T23:17:14.270643Z",
     "shell.execute_reply": "2022-06-24T23:17:14.269832Z"
    },
    "papermill": {
     "duration": 0.050128,
     "end_time": "2022-06-24T23:17:14.272570",
     "exception": false,
     "start_time": "2022-06-24T23:17:14.222442",
     "status": "completed"
    },
    "tags": []
   },
   "outputs": [
    {
     "data": {
      "text/html": [
       "<div>\n",
       "<style scoped>\n",
       "    .dataframe tbody tr th:only-of-type {\n",
       "        vertical-align: middle;\n",
       "    }\n",
       "\n",
       "    .dataframe tbody tr th {\n",
       "        vertical-align: top;\n",
       "    }\n",
       "\n",
       "    .dataframe thead th {\n",
       "        text-align: right;\n",
       "    }\n",
       "</style>\n",
       "<table border=\"1\" class=\"dataframe\">\n",
       "  <thead>\n",
       "    <tr style=\"text-align: right;\">\n",
       "      <th></th>\n",
       "      <th>Group</th>\n",
       "      <th>Visit</th>\n",
       "      <th>MR Delay</th>\n",
       "      <th>M/F</th>\n",
       "      <th>Age</th>\n",
       "      <th>EDUC</th>\n",
       "      <th>SES</th>\n",
       "      <th>MMSE</th>\n",
       "      <th>CDR</th>\n",
       "      <th>eTIV</th>\n",
       "      <th>nWBV</th>\n",
       "      <th>ASF</th>\n",
       "    </tr>\n",
       "  </thead>\n",
       "  <tbody>\n",
       "    <tr>\n",
       "      <th>0</th>\n",
       "      <td>2</td>\n",
       "      <td>1</td>\n",
       "      <td>0</td>\n",
       "      <td>1</td>\n",
       "      <td>87</td>\n",
       "      <td>14</td>\n",
       "      <td>2.0</td>\n",
       "      <td>27.0</td>\n",
       "      <td>0.0</td>\n",
       "      <td>1987</td>\n",
       "      <td>0.696</td>\n",
       "      <td>0.883</td>\n",
       "    </tr>\n",
       "    <tr>\n",
       "      <th>1</th>\n",
       "      <td>2</td>\n",
       "      <td>2</td>\n",
       "      <td>457</td>\n",
       "      <td>1</td>\n",
       "      <td>88</td>\n",
       "      <td>14</td>\n",
       "      <td>2.0</td>\n",
       "      <td>30.0</td>\n",
       "      <td>0.0</td>\n",
       "      <td>2004</td>\n",
       "      <td>0.681</td>\n",
       "      <td>0.876</td>\n",
       "    </tr>\n",
       "    <tr>\n",
       "      <th>2</th>\n",
       "      <td>1</td>\n",
       "      <td>1</td>\n",
       "      <td>0</td>\n",
       "      <td>1</td>\n",
       "      <td>75</td>\n",
       "      <td>12</td>\n",
       "      <td>NaN</td>\n",
       "      <td>23.0</td>\n",
       "      <td>0.5</td>\n",
       "      <td>1678</td>\n",
       "      <td>0.736</td>\n",
       "      <td>1.046</td>\n",
       "    </tr>\n",
       "    <tr>\n",
       "      <th>3</th>\n",
       "      <td>1</td>\n",
       "      <td>2</td>\n",
       "      <td>560</td>\n",
       "      <td>1</td>\n",
       "      <td>76</td>\n",
       "      <td>12</td>\n",
       "      <td>NaN</td>\n",
       "      <td>28.0</td>\n",
       "      <td>0.5</td>\n",
       "      <td>1738</td>\n",
       "      <td>0.713</td>\n",
       "      <td>1.010</td>\n",
       "    </tr>\n",
       "    <tr>\n",
       "      <th>4</th>\n",
       "      <td>1</td>\n",
       "      <td>3</td>\n",
       "      <td>1895</td>\n",
       "      <td>1</td>\n",
       "      <td>80</td>\n",
       "      <td>12</td>\n",
       "      <td>NaN</td>\n",
       "      <td>22.0</td>\n",
       "      <td>0.5</td>\n",
       "      <td>1698</td>\n",
       "      <td>0.701</td>\n",
       "      <td>1.034</td>\n",
       "    </tr>\n",
       "  </tbody>\n",
       "</table>\n",
       "</div>"
      ],
      "text/plain": [
       "   Group  Visit  MR Delay  M/F  Age  EDUC  SES  MMSE  CDR  eTIV   nWBV    ASF\n",
       "0      2      1         0    1   87    14  2.0  27.0  0.0  1987  0.696  0.883\n",
       "1      2      2       457    1   88    14  2.0  30.0  0.0  2004  0.681  0.876\n",
       "2      1      1         0    1   75    12  NaN  23.0  0.5  1678  0.736  1.046\n",
       "3      1      2       560    1   76    12  NaN  28.0  0.5  1738  0.713  1.010\n",
       "4      1      3      1895    1   80    12  NaN  22.0  0.5  1698  0.701  1.034"
      ]
     },
     "execution_count": 218,
     "metadata": {},
     "output_type": "execute_result"
    }
   ],
   "source": [
    "df= df.drop('Hand',axis=1)\n",
    "df.head()"
   ]
  },
  {
   "cell_type": "code",
   "execution_count": 219,
   "id": "bbb44d0a",
   "metadata": {
    "execution": {
     "iopub.execute_input": "2022-06-24T23:17:14.335392Z",
     "iopub.status.busy": "2022-06-24T23:17:14.334865Z",
     "iopub.status.idle": "2022-06-24T23:17:14.342015Z",
     "shell.execute_reply": "2022-06-24T23:17:14.340744Z"
    },
    "papermill": {
     "duration": 0.039665,
     "end_time": "2022-06-24T23:17:14.343902",
     "exception": false,
     "start_time": "2022-06-24T23:17:14.304237",
     "status": "completed"
    },
    "tags": []
   },
   "outputs": [
    {
     "data": {
      "text/plain": [
       "array([87, 88, 75, 76, 80, 90, 83, 85, 71, 73, 93, 95, 68, 69, 66, 78, 81,\n",
       "       82, 77, 86, 92, 84, 72, 61, 64, 74, 60, 62, 91, 79, 89, 70, 94, 97,\n",
       "       65, 67, 63, 96, 98], dtype=int64)"
      ]
     },
     "execution_count": 219,
     "metadata": {},
     "output_type": "execute_result"
    }
   ],
   "source": [
    "df['Age'].unique()"
   ]
  },
  {
   "cell_type": "code",
   "execution_count": 220,
   "id": "d49aed75",
   "metadata": {
    "execution": {
     "iopub.execute_input": "2022-06-24T23:17:14.405869Z",
     "iopub.status.busy": "2022-06-24T23:17:14.405290Z",
     "iopub.status.idle": "2022-06-24T23:17:14.411889Z",
     "shell.execute_reply": "2022-06-24T23:17:14.410912Z"
    },
    "papermill": {
     "duration": 0.039326,
     "end_time": "2022-06-24T23:17:14.413865",
     "exception": false,
     "start_time": "2022-06-24T23:17:14.374539",
     "status": "completed"
    },
    "tags": []
   },
   "outputs": [
    {
     "data": {
      "text/plain": [
       "array([14, 12, 18, 16,  8, 20, 13,  6, 17, 15, 23, 11], dtype=int64)"
      ]
     },
     "execution_count": 220,
     "metadata": {},
     "output_type": "execute_result"
    }
   ],
   "source": [
    "df['EDUC'].unique()"
   ]
  },
  {
   "cell_type": "code",
   "execution_count": 221,
   "id": "f1634877",
   "metadata": {
    "execution": {
     "iopub.execute_input": "2022-06-24T23:17:14.474751Z",
     "iopub.status.busy": "2022-06-24T23:17:14.474386Z",
     "iopub.status.idle": "2022-06-24T23:17:14.481556Z",
     "shell.execute_reply": "2022-06-24T23:17:14.481008Z"
    },
    "papermill": {
     "duration": 0.039833,
     "end_time": "2022-06-24T23:17:14.483441",
     "exception": false,
     "start_time": "2022-06-24T23:17:14.443608",
     "status": "completed"
    },
    "tags": []
   },
   "outputs": [
    {
     "data": {
      "text/plain": [
       "array([ 2., nan,  3.,  4.,  1.,  5.])"
      ]
     },
     "execution_count": 221,
     "metadata": {},
     "output_type": "execute_result"
    }
   ],
   "source": [
    "df['SES'].unique()"
   ]
  },
  {
   "cell_type": "code",
   "execution_count": 222,
   "id": "06046991",
   "metadata": {
    "execution": {
     "iopub.execute_input": "2022-06-24T23:17:14.544673Z",
     "iopub.status.busy": "2022-06-24T23:17:14.544127Z",
     "iopub.status.idle": "2022-06-24T23:17:14.552326Z",
     "shell.execute_reply": "2022-06-24T23:17:14.551707Z"
    },
    "papermill": {
     "duration": 0.041355,
     "end_time": "2022-06-24T23:17:14.554075",
     "exception": false,
     "start_time": "2022-06-24T23:17:14.512720",
     "status": "completed"
    },
    "tags": []
   },
   "outputs": [
    {
     "data": {
      "text/plain": [
       "2.0    103\n",
       "1.0     88\n",
       "3.0     82\n",
       "4.0     74\n",
       "5.0      7\n",
       "Name: SES, dtype: int64"
      ]
     },
     "execution_count": 222,
     "metadata": {},
     "output_type": "execute_result"
    }
   ],
   "source": [
    "df['SES'].value_counts()"
   ]
  },
  {
   "cell_type": "code",
   "execution_count": 223,
   "id": "3adbfca5",
   "metadata": {
    "execution": {
     "iopub.execute_input": "2022-06-24T23:17:14.615467Z",
     "iopub.status.busy": "2022-06-24T23:17:14.614961Z",
     "iopub.status.idle": "2022-06-24T23:17:14.620905Z",
     "shell.execute_reply": "2022-06-24T23:17:14.619702Z"
    },
    "papermill": {
     "duration": 0.038894,
     "end_time": "2022-06-24T23:17:14.622713",
     "exception": false,
     "start_time": "2022-06-24T23:17:14.583819",
     "status": "completed"
    },
    "tags": []
   },
   "outputs": [
    {
     "data": {
      "text/plain": [
       "2.4604519774011298"
      ]
     },
     "execution_count": 223,
     "metadata": {},
     "output_type": "execute_result"
    }
   ],
   "source": [
    "np.mean(df['SES'])"
   ]
  },
  {
   "cell_type": "markdown",
   "id": "397e0706",
   "metadata": {
    "papermill": {
     "duration": 0.029819,
     "end_time": "2022-06-24T23:17:14.682593",
     "exception": false,
     "start_time": "2022-06-24T23:17:14.652774",
     "status": "completed"
    },
    "tags": []
   },
   "source": [
    "Replacing the nan values with the mode=2, since the mean is almost 2."
   ]
  },
  {
   "cell_type": "code",
   "execution_count": 224,
   "id": "91b7ff52",
   "metadata": {
    "execution": {
     "iopub.execute_input": "2022-06-24T23:17:14.745472Z",
     "iopub.status.busy": "2022-06-24T23:17:14.745001Z",
     "iopub.status.idle": "2022-06-24T23:17:14.751741Z",
     "shell.execute_reply": "2022-06-24T23:17:14.750761Z"
    },
    "papermill": {
     "duration": 0.040967,
     "end_time": "2022-06-24T23:17:14.754001",
     "exception": false,
     "start_time": "2022-06-24T23:17:14.713034",
     "status": "completed"
    },
    "tags": []
   },
   "outputs": [
    {
     "data": {
      "text/plain": [
       "array([2., 3., 4., 1., 5.])"
      ]
     },
     "execution_count": 224,
     "metadata": {},
     "output_type": "execute_result"
    }
   ],
   "source": [
    "df['SES']= df['SES'].replace(np.nan, 2)\n",
    "df['SES'].unique()"
   ]
  },
  {
   "cell_type": "code",
   "execution_count": 225,
   "id": "7de1d601",
   "metadata": {
    "execution": {
     "iopub.execute_input": "2022-06-24T23:17:14.816591Z",
     "iopub.status.busy": "2022-06-24T23:17:14.816236Z",
     "iopub.status.idle": "2022-06-24T23:17:14.821068Z",
     "shell.execute_reply": "2022-06-24T23:17:14.820176Z"
    },
    "papermill": {
     "duration": 0.038609,
     "end_time": "2022-06-24T23:17:14.823007",
     "exception": false,
     "start_time": "2022-06-24T23:17:14.784398",
     "status": "completed"
    },
    "tags": []
   },
   "outputs": [],
   "source": [
    "#df['SES'].value_counts()"
   ]
  },
  {
   "cell_type": "code",
   "execution_count": 226,
   "id": "968cf763",
   "metadata": {
    "execution": {
     "iopub.execute_input": "2022-06-24T23:17:14.885979Z",
     "iopub.status.busy": "2022-06-24T23:17:14.884879Z",
     "iopub.status.idle": "2022-06-24T23:17:14.892312Z",
     "shell.execute_reply": "2022-06-24T23:17:14.891532Z"
    },
    "papermill": {
     "duration": 0.04113,
     "end_time": "2022-06-24T23:17:14.894571",
     "exception": false,
     "start_time": "2022-06-24T23:17:14.853441",
     "status": "completed"
    },
    "tags": []
   },
   "outputs": [
    {
     "data": {
      "text/plain": [
       "array([27., 30., 23., 28., 22., 29., 24., 21., 16., 25., 26., 15., 20.,\n",
       "       19.,  7.,  4., 17., 18., nan])"
      ]
     },
     "execution_count": 226,
     "metadata": {},
     "output_type": "execute_result"
    }
   ],
   "source": [
    "df['MMSE'].unique()"
   ]
  },
  {
   "cell_type": "code",
   "execution_count": 227,
   "id": "5e12fa0f",
   "metadata": {
    "execution": {
     "iopub.execute_input": "2022-06-24T23:17:14.957234Z",
     "iopub.status.busy": "2022-06-24T23:17:14.956852Z",
     "iopub.status.idle": "2022-06-24T23:17:14.965680Z",
     "shell.execute_reply": "2022-06-24T23:17:14.964809Z"
    },
    "papermill": {
     "duration": 0.043165,
     "end_time": "2022-06-24T23:17:14.967948",
     "exception": false,
     "start_time": "2022-06-24T23:17:14.924783",
     "status": "completed"
    },
    "tags": []
   },
   "outputs": [
    {
     "name": "stdout",
     "output_type": "stream",
     "text": [
      "0    30.0\n",
      "dtype: float64\n",
      "27.342318059299192\n",
      "30.0    114\n",
      "29.0     91\n",
      "28.0     45\n",
      "27.0     32\n",
      "26.0     20\n",
      "25.0     12\n",
      "23.0     11\n",
      "21.0     11\n",
      "20.0      7\n",
      "22.0      7\n",
      "17.0      5\n",
      "24.0      4\n",
      "16.0      3\n",
      "19.0      3\n",
      "15.0      2\n",
      "18.0      2\n",
      "7.0       1\n",
      "4.0       1\n",
      "Name: MMSE, dtype: int64\n"
     ]
    }
   ],
   "source": [
    "print(df['MMSE'].mode())#,\"\\n\",\n",
    "print(df['MMSE'].mean())#,\"\\n\",\n",
    "print(df['MMSE'].value_counts())"
   ]
  },
  {
   "cell_type": "code",
   "execution_count": 228,
   "id": "a3a0dbe9",
   "metadata": {
    "execution": {
     "iopub.execute_input": "2022-06-24T23:17:15.031146Z",
     "iopub.status.busy": "2022-06-24T23:17:15.030778Z",
     "iopub.status.idle": "2022-06-24T23:17:15.037322Z",
     "shell.execute_reply": "2022-06-24T23:17:15.036453Z"
    },
    "papermill": {
     "duration": 0.040451,
     "end_time": "2022-06-24T23:17:15.039076",
     "exception": false,
     "start_time": "2022-06-24T23:17:14.998625",
     "status": "completed"
    },
    "tags": []
   },
   "outputs": [
    {
     "data": {
      "text/plain": [
       "27.342318059299192"
      ]
     },
     "execution_count": 228,
     "metadata": {},
     "output_type": "execute_result"
    }
   ],
   "source": [
    "df['MMSE'].mean()"
   ]
  },
  {
   "cell_type": "code",
   "execution_count": 229,
   "id": "b1361f85",
   "metadata": {
    "execution": {
     "iopub.execute_input": "2022-06-24T23:17:15.102522Z",
     "iopub.status.busy": "2022-06-24T23:17:15.101479Z",
     "iopub.status.idle": "2022-06-24T23:17:15.108201Z",
     "shell.execute_reply": "2022-06-24T23:17:15.107278Z"
    },
    "papermill": {
     "duration": 0.040369,
     "end_time": "2022-06-24T23:17:15.110063",
     "exception": false,
     "start_time": "2022-06-24T23:17:15.069694",
     "status": "completed"
    },
    "tags": []
   },
   "outputs": [
    {
     "data": {
      "text/plain": [
       "2"
      ]
     },
     "execution_count": 229,
     "metadata": {},
     "output_type": "execute_result"
    }
   ],
   "source": [
    "df['MMSE'].isnull().sum()"
   ]
  },
  {
   "cell_type": "markdown",
   "id": "964b3483",
   "metadata": {
    "papermill": {
     "duration": 0.030838,
     "end_time": "2022-06-24T23:17:15.172403",
     "exception": false,
     "start_time": "2022-06-24T23:17:15.141565",
     "status": "completed"
    },
    "tags": []
   },
   "source": [
    "Replacing the nan values with the mode=30, since nan values are 2 and mode =30."
   ]
  },
  {
   "cell_type": "code",
   "execution_count": 230,
   "id": "4fd5ea71",
   "metadata": {
    "execution": {
     "iopub.execute_input": "2022-06-24T23:17:15.236843Z",
     "iopub.status.busy": "2022-06-24T23:17:15.236273Z",
     "iopub.status.idle": "2022-06-24T23:17:15.242801Z",
     "shell.execute_reply": "2022-06-24T23:17:15.242221Z"
    },
    "papermill": {
     "duration": 0.040519,
     "end_time": "2022-06-24T23:17:15.244453",
     "exception": false,
     "start_time": "2022-06-24T23:17:15.203934",
     "status": "completed"
    },
    "tags": []
   },
   "outputs": [
    {
     "data": {
      "text/plain": [
       "array([27., 30., 23., 28., 22., 29., 24., 21., 16., 25., 26., 15., 20.,\n",
       "       19.,  7.,  4., 17., 18.])"
      ]
     },
     "execution_count": 230,
     "metadata": {},
     "output_type": "execute_result"
    }
   ],
   "source": [
    "df['MMSE']= df['MMSE'].replace(np.nan, 30)\n",
    "df['MMSE'].unique()"
   ]
  },
  {
   "cell_type": "code",
   "execution_count": 231,
   "id": "120a05bf",
   "metadata": {
    "execution": {
     "iopub.execute_input": "2022-06-24T23:17:15.307590Z",
     "iopub.status.busy": "2022-06-24T23:17:15.307061Z",
     "iopub.status.idle": "2022-06-24T23:17:15.313085Z",
     "shell.execute_reply": "2022-06-24T23:17:15.312243Z"
    },
    "papermill": {
     "duration": 0.03991,
     "end_time": "2022-06-24T23:17:15.315060",
     "exception": false,
     "start_time": "2022-06-24T23:17:15.275150",
     "status": "completed"
    },
    "tags": []
   },
   "outputs": [
    {
     "data": {
      "text/plain": [
       "array([0. , 0.5, 1. , 2. ])"
      ]
     },
     "execution_count": 231,
     "metadata": {},
     "output_type": "execute_result"
    }
   ],
   "source": [
    "df['CDR'].unique()"
   ]
  },
  {
   "cell_type": "code",
   "execution_count": 232,
   "id": "1c800db3",
   "metadata": {
    "execution": {
     "iopub.execute_input": "2022-06-24T23:17:15.379493Z",
     "iopub.status.busy": "2022-06-24T23:17:15.378741Z",
     "iopub.status.idle": "2022-06-24T23:17:15.386711Z",
     "shell.execute_reply": "2022-06-24T23:17:15.385924Z"
    },
    "papermill": {
     "duration": 0.042498,
     "end_time": "2022-06-24T23:17:15.388721",
     "exception": false,
     "start_time": "2022-06-24T23:17:15.346223",
     "status": "completed"
    },
    "tags": []
   },
   "outputs": [
    {
     "data": {
      "text/plain": [
       "array([1987, 2004, 1678, 1738, 1698, 1215, 1200, 1689, 1701, 1699, 1357,\n",
       "       1365, 1372, 1272, 1257, 1457, 1480, 1447, 1482, 1333, 1323, 1230,\n",
       "       1212, 1225, 1602, 1590, 1651, 1668, 1783, 1814, 1820, 1813, 1406,\n",
       "       1398, 1423, 1587, 1606, 1597, 1911, 1926, 1313, 1316, 1247, 1250,\n",
       "       1420, 1445, 1360, 1358, 1353, 1547, 1562, 1377, 1390, 1402, 1392,\n",
       "       1430, 1463, 1307, 1311, 1466, 1450, 1460, 1453, 1336, 1329, 1359,\n",
       "       1361, 1349, 1477, 1487, 1483, 1485, 1174, 1179, 1310, 1320, 1348,\n",
       "       1289, 1295, 1314, 1640, 1665, 1451, 1331, 1332, 1317, 1322, 1476,\n",
       "       1433, 1414, 1695, 1708, 1712, 1714, 1491, 1505, 1503, 1461, 1454,\n",
       "       1474, 1484, 1500, 1264, 1275, 1362, 1456, 1599, 1569, 1580, 1315,\n",
       "       1308, 1324, 1416, 1408, 1654, 1660, 1681, 1641, 1664, 1667, 1462,\n",
       "       1459, 1464, 1957, 1928, 1440, 1438, 1455, 1444, 1428, 1475, 1470,\n",
       "       1471, 1692, 1707, 1724, 1720, 1391, 1524, 1512, 1507, 1490, 1504,\n",
       "       1151, 1143, 1536, 1520, 1848, 1931, 1631, 1662, 1492, 1478, 1548,\n",
       "       1556, 1546, 1271, 1273, 1383, 1381, 1544, 1542, 1465, 1494, 1432,\n",
       "       1534, 1550, 1511, 1506, 1513, 1449, 1769, 1785, 1154, 1165, 1611,\n",
       "       1628, 1446, 1412, 1583, 1586, 1371, 1400, 1379, 1499, 1497, 1498,\n",
       "       1404, 1419, 1568, 1762, 1489, 1604, 1750, 1744, 1525, 1339, 1309,\n",
       "       1425, 1407, 1842, 1806, 1823, 1826, 1508, 1529, 1486, 1488, 1409,\n",
       "       1401, 1517, 1293, 1479, 1344, 1338, 1644, 1647, 1670, 1346, 1354,\n",
       "       1436, 1442, 1340, 1495, 1284, 1636, 1645, 1659, 1123, 1106, 1337,\n",
       "       1393, 1396, 1277, 1290, 1380, 1715, 1704, 1722, 1298, 1287, 1732,\n",
       "       1729, 1351, 1334, 1342, 1345, 1335, 1343, 1191, 1194, 1202, 1559,\n",
       "       1243, 1256, 1274, 1281, 1238, 1236, 1557, 1818, 1817, 1830, 1514,\n",
       "       1713, 1710, 1755, 1426, 1832, 1836, 1891, 1899, 1378, 1370, 1796,\n",
       "       1803, 1510, 1509, 1171, 1169, 1159, 1661, 1693, 1688, 1319, 1327],\n",
       "      dtype=int64)"
      ]
     },
     "execution_count": 232,
     "metadata": {},
     "output_type": "execute_result"
    }
   ],
   "source": [
    "df['eTIV'].unique()"
   ]
  },
  {
   "cell_type": "code",
   "execution_count": 233,
   "id": "6d79858d",
   "metadata": {
    "execution": {
     "iopub.execute_input": "2022-06-24T23:17:15.453909Z",
     "iopub.status.busy": "2022-06-24T23:17:15.453253Z",
     "iopub.status.idle": "2022-06-24T23:17:15.461048Z",
     "shell.execute_reply": "2022-06-24T23:17:15.460234Z"
    },
    "papermill": {
     "duration": 0.042813,
     "end_time": "2022-06-24T23:17:15.463312",
     "exception": false,
     "start_time": "2022-06-24T23:17:15.420499",
     "status": "completed"
    },
    "tags": []
   },
   "outputs": [
    {
     "data": {
      "text/plain": [
       "array([0.696, 0.681, 0.736, 0.713, 0.701, 0.71 , 0.718, 0.712, 0.711,\n",
       "       0.705, 0.748, 0.727, 0.698, 0.703, 0.806, 0.791, 0.769, 0.752,\n",
       "       0.738, 0.715, 0.72 , 0.697, 0.66 , 0.646, 0.759, 0.755, 0.761,\n",
       "       0.693, 0.677, 0.666, 0.719, 0.805, 0.796, 0.662, 0.652, 0.695,\n",
       "       0.783, 0.782, 0.775, 0.772, 0.737, 0.717, 0.734, 0.735, 0.822,\n",
       "       0.817, 0.679, 0.676, 0.684, 0.733, 0.789, 0.773, 0.778, 0.729,\n",
       "       0.709, 0.706, 0.742, 0.724, 0.771, 0.768, 0.76 , 0.766, 0.777,\n",
       "       0.757, 0.685, 0.678, 0.731, 0.75 , 0.723, 0.691, 0.682, 0.794,\n",
       "       0.788, 0.689, 0.744, 0.683, 0.837, 0.827, 0.756, 0.739, 0.707,\n",
       "       0.747, 0.688, 0.721, 0.694, 0.722, 0.7  , 0.687, 0.69 , 0.728,\n",
       "       0.704, 0.787, 0.774, 0.743, 0.741, 0.725, 0.674, 0.67 , 0.686,\n",
       "       0.751, 0.792, 0.672, 0.661, 0.692, 0.758, 0.699, 0.78 , 0.762,\n",
       "       0.781, 0.732, 0.708, 0.77 , 0.754, 0.726, 0.749, 0.74 , 0.669,\n",
       "       0.663, 0.644, 0.68 , 0.786, 0.767, 0.812, 0.795, 0.819, 0.81 ,\n",
       "       0.746, 0.716, 0.799, 0.714, 0.785, 0.657, 0.764, 0.665, 0.675,\n",
       "       0.801])"
      ]
     },
     "execution_count": 233,
     "metadata": {},
     "output_type": "execute_result"
    }
   ],
   "source": [
    "df['nWBV'].unique()"
   ]
  },
  {
   "cell_type": "code",
   "execution_count": 234,
   "id": "cf2b98c3",
   "metadata": {
    "execution": {
     "iopub.execute_input": "2022-06-24T23:17:15.528386Z",
     "iopub.status.busy": "2022-06-24T23:17:15.527827Z",
     "iopub.status.idle": "2022-06-24T23:17:15.536979Z",
     "shell.execute_reply": "2022-06-24T23:17:15.536232Z"
    },
    "papermill": {
     "duration": 0.04415,
     "end_time": "2022-06-24T23:17:15.538965",
     "exception": false,
     "start_time": "2022-06-24T23:17:15.494815",
     "status": "completed"
    },
    "tags": []
   },
   "outputs": [
    {
     "data": {
      "text/plain": [
       "array([0.883, 0.876, 1.046, 1.01 , 1.034, 1.444, 1.462, 1.039, 1.032,\n",
       "       1.033, 1.293, 1.286, 1.279, 1.38 , 1.396, 1.205, 1.186, 1.213,\n",
       "       1.184, 1.316, 1.326, 1.327, 1.427, 1.448, 1.433, 1.096, 1.104,\n",
       "       1.063, 1.052, 0.985, 0.968, 0.964, 1.248, 1.255, 1.234, 1.106,\n",
       "       1.093, 1.099, 0.919, 0.911, 1.337, 1.333, 1.407, 1.405, 1.236,\n",
       "       1.214, 1.291, 1.297, 1.134, 1.124, 1.275, 1.263, 1.252, 1.261,\n",
       "       1.227, 1.215, 1.199, 1.342, 1.339, 1.197, 1.21 , 1.202, 1.208,\n",
       "       1.313, 1.32 , 1.29 , 1.301, 1.188, 1.18 , 1.181, 1.495, 1.488,\n",
       "       1.329, 1.302, 1.362, 1.356, 1.335, 1.07 , 1.054, 1.317, 1.318,\n",
       "       1.332, 1.189, 1.183, 1.225, 1.242, 1.036, 1.028, 1.025, 1.024,\n",
       "       1.177, 1.166, 1.168, 1.207, 1.19 , 1.17 , 1.388, 1.376, 1.289,\n",
       "       1.285, 1.098, 1.118, 1.111, 1.341, 1.239, 1.247, 1.061, 1.057,\n",
       "       1.044, 1.069, 1.055, 1.053, 1.228, 1.2  , 1.203, 0.897, 0.91 ,\n",
       "       1.219, 1.22 , 1.206, 1.229, 1.194, 1.193, 1.037, 1.018, 1.02 ,\n",
       "       1.262, 1.151, 1.161, 1.164, 1.178, 1.167, 1.525, 1.535, 1.143,\n",
       "       1.155, 0.95 , 0.909, 1.076, 1.056, 1.176, 1.128, 1.135, 1.381,\n",
       "       1.378, 1.269, 1.27 , 1.136, 1.138, 1.198, 1.175, 1.226, 1.144,\n",
       "       1.133, 1.162, 1.16 , 1.212, 0.992, 0.983, 0.967, 1.521, 1.506,\n",
       "       1.089, 1.078, 1.243, 1.108, 1.107, 1.28 , 1.254, 1.273, 1.171,\n",
       "       1.172, 1.25 , 1.233, 1.119, 1.123, 0.984, 0.996, 1.179, 1.094,\n",
       "       1.003, 1.006, 1.311, 1.142, 1.232, 0.953, 0.972, 0.963, 0.961,\n",
       "       1.147, 1.246, 1.253, 1.157, 1.357, 1.355, 1.187, 1.306, 1.312,\n",
       "       1.067, 1.066, 1.051, 1.304, 1.222, 1.217, 1.309, 1.174, 1.367,\n",
       "       1.073, 1.058, 1.563, 1.587, 1.305, 1.26 , 1.257, 1.374, 1.361,\n",
       "       1.272, 1.023, 1.03 , 1.019, 1.352, 1.364, 1.013, 1.015, 1.299,\n",
       "       1.307, 1.314, 1.474, 1.469, 1.461, 1.125, 1.412, 1.398, 1.377,\n",
       "       1.37 , 1.418, 1.419, 1.127, 0.965, 0.966, 0.959, 1.159, 1.132,\n",
       "       1.026, 1.   , 1.231, 1.241, 0.958, 0.956, 0.928, 0.924, 1.274,\n",
       "       1.281, 0.977, 0.973, 1.216, 1.163, 1.499, 1.501, 1.515, 1.165,\n",
       "       1.296, 1.04 , 1.331, 1.323])"
      ]
     },
     "execution_count": 234,
     "metadata": {},
     "output_type": "execute_result"
    }
   ],
   "source": [
    "df['ASF'].unique()"
   ]
  },
  {
   "cell_type": "code",
   "execution_count": 235,
   "id": "0146bfd4",
   "metadata": {
    "execution": {
     "iopub.execute_input": "2022-06-24T23:17:15.604287Z",
     "iopub.status.busy": "2022-06-24T23:17:15.603720Z",
     "iopub.status.idle": "2022-06-24T23:17:15.620002Z",
     "shell.execute_reply": "2022-06-24T23:17:15.619257Z"
    },
    "papermill": {
     "duration": 0.05116,
     "end_time": "2022-06-24T23:17:15.621898",
     "exception": false,
     "start_time": "2022-06-24T23:17:15.570738",
     "status": "completed"
    },
    "tags": []
   },
   "outputs": [
    {
     "data": {
      "text/html": [
       "<div>\n",
       "<style scoped>\n",
       "    .dataframe tbody tr th:only-of-type {\n",
       "        vertical-align: middle;\n",
       "    }\n",
       "\n",
       "    .dataframe tbody tr th {\n",
       "        vertical-align: top;\n",
       "    }\n",
       "\n",
       "    .dataframe thead th {\n",
       "        text-align: right;\n",
       "    }\n",
       "</style>\n",
       "<table border=\"1\" class=\"dataframe\">\n",
       "  <thead>\n",
       "    <tr style=\"text-align: right;\">\n",
       "      <th></th>\n",
       "      <th>Group</th>\n",
       "      <th>Visit</th>\n",
       "      <th>MR Delay</th>\n",
       "      <th>M/F</th>\n",
       "      <th>Age</th>\n",
       "      <th>EDUC</th>\n",
       "      <th>SES</th>\n",
       "      <th>MMSE</th>\n",
       "      <th>CDR</th>\n",
       "      <th>eTIV</th>\n",
       "      <th>nWBV</th>\n",
       "      <th>ASF</th>\n",
       "    </tr>\n",
       "  </thead>\n",
       "  <tbody>\n",
       "    <tr>\n",
       "      <th>0</th>\n",
       "      <td>2</td>\n",
       "      <td>1</td>\n",
       "      <td>0</td>\n",
       "      <td>1</td>\n",
       "      <td>87</td>\n",
       "      <td>14</td>\n",
       "      <td>2.0</td>\n",
       "      <td>27.0</td>\n",
       "      <td>0.0</td>\n",
       "      <td>1987</td>\n",
       "      <td>0.696</td>\n",
       "      <td>0.883</td>\n",
       "    </tr>\n",
       "    <tr>\n",
       "      <th>1</th>\n",
       "      <td>2</td>\n",
       "      <td>2</td>\n",
       "      <td>457</td>\n",
       "      <td>1</td>\n",
       "      <td>88</td>\n",
       "      <td>14</td>\n",
       "      <td>2.0</td>\n",
       "      <td>30.0</td>\n",
       "      <td>0.0</td>\n",
       "      <td>2004</td>\n",
       "      <td>0.681</td>\n",
       "      <td>0.876</td>\n",
       "    </tr>\n",
       "    <tr>\n",
       "      <th>2</th>\n",
       "      <td>1</td>\n",
       "      <td>1</td>\n",
       "      <td>0</td>\n",
       "      <td>1</td>\n",
       "      <td>75</td>\n",
       "      <td>12</td>\n",
       "      <td>2.0</td>\n",
       "      <td>23.0</td>\n",
       "      <td>0.5</td>\n",
       "      <td>1678</td>\n",
       "      <td>0.736</td>\n",
       "      <td>1.046</td>\n",
       "    </tr>\n",
       "    <tr>\n",
       "      <th>3</th>\n",
       "      <td>1</td>\n",
       "      <td>2</td>\n",
       "      <td>560</td>\n",
       "      <td>1</td>\n",
       "      <td>76</td>\n",
       "      <td>12</td>\n",
       "      <td>2.0</td>\n",
       "      <td>28.0</td>\n",
       "      <td>0.5</td>\n",
       "      <td>1738</td>\n",
       "      <td>0.713</td>\n",
       "      <td>1.010</td>\n",
       "    </tr>\n",
       "    <tr>\n",
       "      <th>4</th>\n",
       "      <td>1</td>\n",
       "      <td>3</td>\n",
       "      <td>1895</td>\n",
       "      <td>1</td>\n",
       "      <td>80</td>\n",
       "      <td>12</td>\n",
       "      <td>2.0</td>\n",
       "      <td>22.0</td>\n",
       "      <td>0.5</td>\n",
       "      <td>1698</td>\n",
       "      <td>0.701</td>\n",
       "      <td>1.034</td>\n",
       "    </tr>\n",
       "  </tbody>\n",
       "</table>\n",
       "</div>"
      ],
      "text/plain": [
       "   Group  Visit  MR Delay  M/F  Age  EDUC  SES  MMSE  CDR  eTIV   nWBV    ASF\n",
       "0      2      1         0    1   87    14  2.0  27.0  0.0  1987  0.696  0.883\n",
       "1      2      2       457    1   88    14  2.0  30.0  0.0  2004  0.681  0.876\n",
       "2      1      1         0    1   75    12  2.0  23.0  0.5  1678  0.736  1.046\n",
       "3      1      2       560    1   76    12  2.0  28.0  0.5  1738  0.713  1.010\n",
       "4      1      3      1895    1   80    12  2.0  22.0  0.5  1698  0.701  1.034"
      ]
     },
     "execution_count": 235,
     "metadata": {},
     "output_type": "execute_result"
    }
   ],
   "source": [
    "df.head()"
   ]
  },
  {
   "cell_type": "code",
   "execution_count": 236,
   "id": "1e6c748a",
   "metadata": {
    "execution": {
     "iopub.execute_input": "2022-06-24T23:17:15.687676Z",
     "iopub.status.busy": "2022-06-24T23:17:15.687310Z",
     "iopub.status.idle": "2022-06-24T23:17:15.692251Z",
     "shell.execute_reply": "2022-06-24T23:17:15.691467Z"
    },
    "papermill": {
     "duration": 0.040201,
     "end_time": "2022-06-24T23:17:15.694094",
     "exception": false,
     "start_time": "2022-06-24T23:17:15.653893",
     "status": "completed"
    },
    "tags": []
   },
   "outputs": [],
   "source": [
    "X= df.drop('Group', axis=1)\n",
    "y=df['Group']"
   ]
  },
  {
   "cell_type": "code",
   "execution_count": 237,
   "id": "835a34c6",
   "metadata": {
    "execution": {
     "iopub.execute_input": "2022-06-24T23:17:15.760722Z",
     "iopub.status.busy": "2022-06-24T23:17:15.759839Z",
     "iopub.status.idle": "2022-06-24T23:17:15.764855Z",
     "shell.execute_reply": "2022-06-24T23:17:15.763719Z"
    },
    "papermill": {
     "duration": 0.040863,
     "end_time": "2022-06-24T23:17:15.767294",
     "exception": false,
     "start_time": "2022-06-24T23:17:15.726431",
     "status": "completed"
    },
    "tags": []
   },
   "outputs": [
    {
     "name": "stdout",
     "output_type": "stream",
     "text": [
      "(373, 11) (373,)\n"
     ]
    }
   ],
   "source": [
    "print(X.shape, y.shape)"
   ]
  },
  {
   "cell_type": "markdown",
   "id": "12c9c16e",
   "metadata": {
    "papermill": {
     "duration": 0.032203,
     "end_time": "2022-06-24T23:17:15.832138",
     "exception": false,
     "start_time": "2022-06-24T23:17:15.799935",
     "status": "completed"
    },
    "tags": []
   },
   "source": [
    "BASE MODEL"
   ]
  },
  {
   "cell_type": "code",
   "execution_count": 238,
   "id": "40abc2e5",
   "metadata": {
    "execution": {
     "iopub.execute_input": "2022-06-24T23:17:15.898461Z",
     "iopub.status.busy": "2022-06-24T23:17:15.898100Z",
     "iopub.status.idle": "2022-06-24T23:17:15.902127Z",
     "shell.execute_reply": "2022-06-24T23:17:15.901385Z"
    },
    "papermill": {
     "duration": 0.03932,
     "end_time": "2022-06-24T23:17:15.903742",
     "exception": false,
     "start_time": "2022-06-24T23:17:15.864422",
     "status": "completed"
    },
    "tags": []
   },
   "outputs": [],
   "source": [
    "from sklearn.model_selection import train_test_split"
   ]
  },
  {
   "cell_type": "code",
   "execution_count": 239,
   "id": "22121391",
   "metadata": {
    "execution": {
     "iopub.execute_input": "2022-06-24T23:17:15.971613Z",
     "iopub.status.busy": "2022-06-24T23:17:15.970432Z",
     "iopub.status.idle": "2022-06-24T23:17:15.977395Z",
     "shell.execute_reply": "2022-06-24T23:17:15.976813Z"
    },
    "papermill": {
     "duration": 0.043796,
     "end_time": "2022-06-24T23:17:15.979279",
     "exception": false,
     "start_time": "2022-06-24T23:17:15.935483",
     "status": "completed"
    },
    "tags": []
   },
   "outputs": [],
   "source": [
    "X_train, X_test, y_train, y_test= train_test_split(X, y, test_size= 0.3, random_state= 48 )"
   ]
  },
  {
   "cell_type": "code",
   "execution_count": 240,
   "id": "a580b6e3",
   "metadata": {
    "execution": {
     "iopub.execute_input": "2022-06-24T23:17:16.044194Z",
     "iopub.status.busy": "2022-06-24T23:17:16.043648Z",
     "iopub.status.idle": "2022-06-24T23:17:16.249673Z",
     "shell.execute_reply": "2022-06-24T23:17:16.248971Z"
    },
    "papermill": {
     "duration": 0.241026,
     "end_time": "2022-06-24T23:17:16.251897",
     "exception": false,
     "start_time": "2022-06-24T23:17:16.010871",
     "status": "completed"
    },
    "tags": []
   },
   "outputs": [
    {
     "ename": "NameError",
     "evalue": "name 'xgb' is not defined",
     "output_type": "error",
     "traceback": [
      "\u001b[1;31m---------------------------------------------------------------------------\u001b[0m",
      "\u001b[1;31mNameError\u001b[0m                                 Traceback (most recent call last)",
      "\u001b[1;32m<ipython-input-240-746de3f90dd9>\u001b[0m in \u001b[0;36m<module>\u001b[1;34m\u001b[0m\n\u001b[0;32m     19\u001b[0m           \u001b[1;33m(\u001b[0m\u001b[1;34m\"Extra:\"\u001b[0m\u001b[1;33m,\u001b[0m\u001b[0mExtraTreesClassifier\u001b[0m\u001b[1;33m(\u001b[0m\u001b[1;33m)\u001b[0m\u001b[1;33m)\u001b[0m\u001b[1;33m,\u001b[0m\u001b[1;33m\u001b[0m\u001b[1;33m\u001b[0m\u001b[0m\n\u001b[0;32m     20\u001b[0m           \u001b[1;31m#(\"SVC\", SVC()),#has no feature importances\u001b[0m\u001b[1;33m\u001b[0m\u001b[1;33m\u001b[0m\u001b[1;33m\u001b[0m\u001b[0m\n\u001b[1;32m---> 21\u001b[1;33m           \u001b[1;33m(\u001b[0m\u001b[1;34m\"XGBoost:\"\u001b[0m\u001b[1;33m,\u001b[0m \u001b[0mxgb\u001b[0m\u001b[1;33m.\u001b[0m\u001b[0mXGBClassifier\u001b[0m\u001b[1;33m(\u001b[0m\u001b[1;33m)\u001b[0m\u001b[1;33m)\u001b[0m\u001b[1;33m\u001b[0m\u001b[1;33m\u001b[0m\u001b[0m\n\u001b[0m\u001b[0;32m     22\u001b[0m          ]\n\u001b[0;32m     23\u001b[0m \u001b[1;33m\u001b[0m\u001b[0m\n",
      "\u001b[1;31mNameError\u001b[0m: name 'xgb' is not defined"
     ]
    }
   ],
   "source": [
    "from sklearn.ensemble import ExtraTreesClassifier,RandomForestClassifier,AdaBoostClassifier\n",
    "from sklearn.naive_bayes import GaussianNB\n",
    "from sklearn.linear_model import LinearRegression, Ridge, Lasso, ElasticNet, SGDClassifier\n",
    "from sklearn.model_selection import GridSearchCV, cross_val_score,StratifiedKFold\n",
    "from sklearn.neighbors import KNeighborsClassifier\n",
    "from sklearn.svm import SVC\n",
    "from sklearn import linear_model\n",
    "from sklearn.tree import DecisionTreeClassifier\n",
    "#import xgboost as xgb\n",
    "from sklearn import metrics\n",
    "import random as rd\n",
    "models = [(\"LR\", LinearRegression()),\n",
    "          (\"Naive Bayes\", GaussianNB()),\n",
    "          (\"KNN\", KNeighborsClassifier()),\n",
    "          (\"DTC\", DecisionTreeClassifier()),\n",
    "          (\"SGD\", SGDClassifier()),\n",
    "          (\"Ada\", AdaBoostClassifier()),\n",
    "          (\"RFC\",RandomForestClassifier()),\n",
    "          (\"Extra:\",ExtraTreesClassifier()),\n",
    "          #(\"SVC\", SVC()),#has no feature importances\n",
    "          (\"XGBoost:\", xgb.XGBClassifier())\n",
    "         ]\n",
    "\n",
    " "
   ]
  },
  {
   "cell_type": "code",
   "execution_count": null,
   "id": "259a96e9",
   "metadata": {
    "execution": {
     "iopub.execute_input": "2022-06-24T23:17:16.319760Z",
     "iopub.status.busy": "2022-06-24T23:17:16.319173Z",
     "iopub.status.idle": "2022-06-24T23:17:16.330668Z",
     "shell.execute_reply": "2022-06-24T23:17:16.330004Z"
    },
    "papermill": {
     "duration": 0.047911,
     "end_time": "2022-06-24T23:17:16.332756",
     "exception": false,
     "start_time": "2022-06-24T23:17:16.284845",
     "status": "completed"
    },
    "tags": []
   },
   "outputs": [],
   "source": [
    "def model_evaluation(X,y):\n",
    "    X_train,X_test, y_train, y_test= train_test_split(X, y, test_size= 0.3, random_state= 48 )\n",
    "    models = [#(\"LR\", LinearRegression()),\n",
    "        (\"Naive Bayes\", GaussianNB()),\n",
    "          (\"KNN\", KNeighborsClassifier()),\n",
    "          (\"DTC\", DecisionTreeClassifier()),\n",
    "          (\"SGD\", SGDClassifier()),\n",
    "          (\"Ada\", AdaBoostClassifier()),\n",
    "          (\"RFC\",RandomForestClassifier()),\n",
    "          (\"Extra:\",ExtraTreesClassifier()),\n",
    "          (\"XGB:\", xgb.XGBClassifier())\n",
    "              \n",
    "              \n",
    "         ]\n",
    "    means = []\n",
    "    stds = []\n",
    "\n",
    "    for name, classifier in models:\n",
    "        scores = []\n",
    "        for _ in range(10):\n",
    "            model = classifier\n",
    "            model.fit(X_train, y_train)\n",
    "            y_pred = model.predict(X_test)\n",
    "            Accuracy=metrics.accuracy_score(y_test,y_pred)\n",
    "\n",
    "            scores.append(Accuracy)\n",
    "\n",
    "        means.append(np.mean(scores))\n",
    "        stds.append(np.std(scores))\n",
    "        \n",
    "    Total = list(zip(means,stds))\n",
    "    hsh = {}\n",
    "    for j in range(len(models)):\n",
    "        hsh[models[j][0]] = list(Total[j])\n",
    "\n",
    "    data = pd.DataFrame(hsh)\n",
    "    db=data.transpose()\n",
    "    db.columns=['mean','std']\n",
    "    \n",
    "    return db\n"
   ]
  },
  {
   "cell_type": "code",
   "execution_count": null,
   "id": "ed497970",
   "metadata": {
    "papermill": {
     "duration": 0.032337,
     "end_time": "2022-06-24T23:17:16.397397",
     "exception": false,
     "start_time": "2022-06-24T23:17:16.365060",
     "status": "completed"
    },
    "tags": []
   },
   "outputs": [],
   "source": []
  },
  {
   "cell_type": "code",
   "execution_count": null,
   "id": "a8220f98",
   "metadata": {
    "execution": {
     "iopub.execute_input": "2022-06-24T23:17:16.464189Z",
     "iopub.status.busy": "2022-06-24T23:17:16.463468Z",
     "iopub.status.idle": "2022-06-24T23:17:23.833174Z",
     "shell.execute_reply": "2022-06-24T23:17:23.832552Z"
    },
    "papermill": {
     "duration": 7.4051,
     "end_time": "2022-06-24T23:17:23.835491",
     "exception": false,
     "start_time": "2022-06-24T23:17:16.430391",
     "status": "completed"
    },
    "tags": []
   },
   "outputs": [
    {
     "name": "stdout",
     "output_type": "stream",
     "text": [
      "                 mean           std\n",
      "Naive Bayes  0.901786  1.110223e-16\n",
      "KNN          0.464286  0.000000e+00\n",
      "DTC          0.827679  5.717075e-03\n",
      "SGD          0.429464  9.342631e-02\n",
      "Ada          0.508929  0.000000e+00\n",
      "RFC          0.897321  4.464286e-03\n",
      "Extra:       0.907143  5.922544e-03\n"
     ]
    }
   ],
   "source": [
    "a=model_evaluation(X, y)\n",
    "print(a)"
   ]
  },
  {
   "cell_type": "code",
   "execution_count": null,
   "id": "4fdd61ba",
   "metadata": {
    "execution": {
     "iopub.execute_input": "2022-06-24T23:17:23.901790Z",
     "iopub.status.busy": "2022-06-24T23:17:23.901082Z",
     "iopub.status.idle": "2022-06-24T23:17:24.118251Z",
     "shell.execute_reply": "2022-06-24T23:17:24.117708Z"
    },
    "papermill": {
     "duration": 0.251863,
     "end_time": "2022-06-24T23:17:24.120024",
     "exception": false,
     "start_time": "2022-06-24T23:17:23.868161",
     "status": "completed"
    },
    "tags": []
   },
   "outputs": [
    {
     "data": {
      "text/plain": [
       "CDR         41.689325\n",
       "MMSE        15.478722\n",
       "nWBV         8.063134\n",
       "eTIV         6.109047\n",
       "MR Delay     5.847592\n",
       "Age          5.546009\n",
       "ASF          5.452777\n",
       "EDUC         4.377286\n",
       "M/F          2.935360\n",
       "SES          2.372513\n",
       "Visit        2.128235\n",
       "dtype: float64"
      ]
     },
     "execution_count": 173,
     "metadata": {},
     "output_type": "execute_result"
    }
   ],
   "source": [
    "model= RandomForestClassifier()\n",
    "model.fit(X_train, y_train)\n",
    "\n",
    "\n",
    "\n",
    "\n",
    "y_pred = model.predict(X_test)\n",
    "feature_imp= pd.Series(model.feature_importances_, index= X.columns).sort_values(ascending=False)\n",
    "feature_imp*100"
   ]
  },
  {
   "cell_type": "code",
   "execution_count": null,
   "id": "e0aa8fc6",
   "metadata": {
    "execution": {
     "iopub.execute_input": "2022-06-24T23:17:24.187100Z",
     "iopub.status.busy": "2022-06-24T23:17:24.186450Z",
     "iopub.status.idle": "2022-06-24T23:17:24.355712Z",
     "shell.execute_reply": "2022-06-24T23:17:24.355004Z"
    },
    "papermill": {
     "duration": 0.204946,
     "end_time": "2022-06-24T23:17:24.357709",
     "exception": false,
     "start_time": "2022-06-24T23:17:24.152763",
     "status": "completed"
    },
    "tags": []
   },
   "outputs": [
    {
     "data": {
      "image/png": "[encoded data removed]",
      "text/plain": [
       "<Figure size 432x288 with 1 Axes>"
      ]
     },
     "metadata": {
      "needs_background": "light"
     },
     "output_type": "display_data"
    }
   ],
   "source": [
    "#Choosing Features with values above the mean\n",
    "from matplotlib import pyplot\n",
    "pyplot.bar([x for x in range(len(model.feature_importances_))], model.feature_importances_)\n",
    "pyplot.show()"
   ]
  },
  {
   "cell_type": "code",
   "execution_count": null,
   "id": "3fb3d5e1",
   "metadata": {
    "execution": {
     "iopub.execute_input": "2022-06-24T23:17:24.425702Z",
     "iopub.status.busy": "2022-06-24T23:17:24.425196Z",
     "iopub.status.idle": "2022-06-24T23:17:24.578590Z",
     "shell.execute_reply": "2022-06-24T23:17:24.577890Z"
    },
    "papermill": {
     "duration": 0.190233,
     "end_time": "2022-06-24T23:17:24.581029",
     "exception": false,
     "start_time": "2022-06-24T23:17:24.390796",
     "status": "completed"
    },
    "tags": []
   },
   "outputs": [
    {
     "data": {
      "image/png": "[encoded data removed]",
      "text/plain": [
       "<Figure size 432x288 with 1 Axes>"
      ]
     },
     "metadata": {
      "needs_background": "light"
     },
     "output_type": "display_data"
    }
   ],
   "source": [
    "#Choosing Features with values above the mean\n",
    "from matplotlib import pyplot\n",
    "pyplot.bar([x for x in range(len(feature_imp))], feature_imp)\n",
    "pyplot.show()"
   ]
  },
  {
   "cell_type": "markdown",
   "id": "3f9e841d",
   "metadata": {
    "papermill": {
     "duration": 0.032099,
     "end_time": "2022-06-24T23:17:24.645862",
     "exception": false,
     "start_time": "2022-06-24T23:17:24.613763",
     "status": "completed"
    },
    "tags": []
   },
   "source": [
    "Choosing Top Two Features of NONE"
   ]
  },
  {
   "cell_type": "code",
   "execution_count": null,
   "id": "a056b689",
   "metadata": {
    "execution": {
     "iopub.execute_input": "2022-06-24T23:17:24.713550Z",
     "iopub.status.busy": "2022-06-24T23:17:24.712920Z",
     "iopub.status.idle": "2022-06-24T23:17:24.716735Z",
     "shell.execute_reply": "2022-06-24T23:17:24.716084Z"
    },
    "papermill": {
     "duration": 0.04019,
     "end_time": "2022-06-24T23:17:24.718877",
     "exception": false,
     "start_time": "2022-06-24T23:17:24.678687",
     "status": "completed"
    },
    "tags": []
   },
   "outputs": [],
   "source": [
    "from sklearn.preprocessing import StandardScaler\n",
    "scaler= StandardScaler()"
   ]
  },
  {
   "cell_type": "code",
   "execution_count": null,
   "id": "0b552cf4",
   "metadata": {
    "execution": {
     "iopub.execute_input": "2022-06-24T23:17:24.788758Z",
     "iopub.status.busy": "2022-06-24T23:17:24.788139Z",
     "iopub.status.idle": "2022-06-24T23:17:24.797867Z",
     "shell.execute_reply": "2022-06-24T23:17:24.797124Z"
    },
    "papermill": {
     "duration": 0.047976,
     "end_time": "2022-06-24T23:17:24.800026",
     "exception": false,
     "start_time": "2022-06-24T23:17:24.752050",
     "status": "completed"
    },
    "tags": []
   },
   "outputs": [],
   "source": [
    "#split the dataset into features and labels\n",
    "X1=df[['CDR','MMSE']]\n",
    "\n",
    "y1=y\n",
    "\n",
    "X1= scaler.fit_transform(X1)\n",
    "         \n",
    "X_train1, X_test1, y_train1, y_test1= train_test_split(X1, y1, test_size=0.30, random_state=45)\n",
    " "
   ]
  },
  {
   "cell_type": "code",
   "execution_count": null,
   "id": "70133b57",
   "metadata": {
    "execution": {
     "iopub.execute_input": "2022-06-24T23:17:24.867124Z",
     "iopub.status.busy": "2022-06-24T23:17:24.866735Z",
     "iopub.status.idle": "2022-06-24T23:17:32.293024Z",
     "shell.execute_reply": "2022-06-24T23:17:32.292170Z"
    },
    "papermill": {
     "duration": 7.462358,
     "end_time": "2022-06-24T23:17:32.295397",
     "exception": false,
     "start_time": "2022-06-24T23:17:24.833039",
     "status": "completed"
    },
    "tags": []
   },
   "outputs": [
    {
     "name": "stdout",
     "output_type": "stream",
     "text": [
      "                 mean           std\n",
      "Naive Bayes  0.901786  1.110223e-16\n",
      "KNN          0.544643  1.110223e-16\n",
      "DTC          0.809821  4.091585e-03\n",
      "SGD          0.455357  7.142857e-02\n",
      "Ada          0.508929  0.000000e+00\n",
      "RFC          0.811607  2.678571e-03\n",
      "Extra:       0.800000  9.942436e-03\n"
     ]
    }
   ],
   "source": [
    "b=model_evaluation(df[['CDR','ASF', 'eTIV']], y)\n",
    "print(b)"
   ]
  },
  {
   "cell_type": "code",
   "execution_count": null,
   "id": "33e74ca9",
   "metadata": {
    "papermill": {
     "duration": 0.03453,
     "end_time": "2022-06-24T23:17:32.363778",
     "exception": false,
     "start_time": "2022-06-24T23:17:32.329248",
     "status": "completed"
    },
    "tags": []
   },
   "outputs": [],
   "source": []
  },
  {
   "cell_type": "code",
   "execution_count": null,
   "id": "56d16048",
   "metadata": {
    "execution": {
     "iopub.execute_input": "2022-06-24T23:17:32.433325Z",
     "iopub.status.busy": "2022-06-24T23:17:32.432509Z",
     "iopub.status.idle": "2022-06-24T23:17:32.547105Z",
     "shell.execute_reply": "2022-06-24T23:17:32.545915Z"
    },
    "papermill": {
     "duration": 0.152321,
     "end_time": "2022-06-24T23:17:32.548972",
     "exception": false,
     "start_time": "2022-06-24T23:17:32.396651",
     "status": "completed"
    },
    "tags": []
   },
   "outputs": [
    {
     "data": {
      "text/plain": [
       "CDR         50.0\n",
       "eTIV        36.0\n",
       "ASF         14.0\n",
       "nWBV         0.0\n",
       "MMSE         0.0\n",
       "SES          0.0\n",
       "EDUC         0.0\n",
       "Age          0.0\n",
       "M/F          0.0\n",
       "MR Delay     0.0\n",
       "Visit        0.0\n",
       "dtype: float64"
      ]
     },
     "execution_count": 179,
     "metadata": {},
     "output_type": "execute_result"
    }
   ],
   "source": [
    "model= AdaBoostClassifier()\n",
    "model.fit(X_train, y_train)\n",
    "\n",
    "y_pred = model.predict(X_test)\n",
    "feature_imp= pd.Series(model.feature_importances_, index= X.columns).sort_values(ascending=False)\n",
    "feature_imp=feature_imp*100\n",
    "feature_imp"
   ]
  },
  {
   "cell_type": "code",
   "execution_count": null,
   "id": "ba454292",
   "metadata": {
    "papermill": {
     "duration": 0.033783,
     "end_time": "2022-06-24T23:17:32.615790",
     "exception": false,
     "start_time": "2022-06-24T23:17:32.582007",
     "status": "completed"
    },
    "tags": []
   },
   "outputs": [],
   "source": []
  },
  {
   "cell_type": "code",
   "execution_count": null,
   "id": "639a8646",
   "metadata": {
    "execution": {
     "iopub.execute_input": "2022-06-24T23:17:32.686144Z",
     "iopub.status.busy": "2022-06-24T23:17:32.685370Z",
     "iopub.status.idle": "2022-06-24T23:17:32.696166Z",
     "shell.execute_reply": "2022-06-24T23:17:32.695227Z"
    },
    "papermill": {
     "duration": 0.048664,
     "end_time": "2022-06-24T23:17:32.698634",
     "exception": false,
     "start_time": "2022-06-24T23:17:32.649970",
     "status": "completed"
    },
    "tags": []
   },
   "outputs": [],
   "source": [
    "#split the dataset into features and labels\n",
    "X2=df[['CDR','ASF', 'eTIV']]\n",
    "\n",
    "y2=y\n",
    "\n",
    "X2= scaler.fit_transform(X2)\n",
    "         \n",
    "X_train2, X_test2, y_train2, y_test2= train_test_split(X2, y2, test_size=0.30, random_state=45)\n",
    " "
   ]
  },
  {
   "cell_type": "code",
   "execution_count": null,
   "id": "ac8550bf",
   "metadata": {
    "execution": {
     "iopub.execute_input": "2022-06-24T23:17:32.770148Z",
     "iopub.status.busy": "2022-06-24T23:17:32.769397Z",
     "iopub.status.idle": "2022-06-24T23:17:40.919200Z",
     "shell.execute_reply": "2022-06-24T23:17:40.918571Z"
    },
    "papermill": {
     "duration": 8.187775,
     "end_time": "2022-06-24T23:17:40.921325",
     "exception": false,
     "start_time": "2022-06-24T23:17:32.733550",
     "status": "completed"
    },
    "tags": []
   },
   "outputs": [
    {
     "name": "stdout",
     "output_type": "stream",
     "text": [
      "                 mean           std\n",
      "Naive Bayes  0.901786  1.110223e-16\n",
      "KNN          0.883929  0.000000e+00\n",
      "DTC          0.791071  4.374089e-03\n",
      "SGD          0.901786  1.110223e-16\n",
      "Ada          0.508929  0.000000e+00\n",
      "RFC          0.795536  6.250000e-03\n",
      "Extra:       0.797321  8.035714e-03\n"
     ]
    }
   ],
   "source": [
    "c=model_evaluation(X2, y)\n",
    "print(c)"
   ]
  },
  {
   "cell_type": "code",
   "execution_count": null,
   "id": "f8bac60a",
   "metadata": {
    "execution": {
     "iopub.execute_input": "2022-06-24T23:17:40.996503Z",
     "iopub.status.busy": "2022-06-24T23:17:40.995839Z",
     "iopub.status.idle": "2022-06-24T23:17:48.431480Z",
     "shell.execute_reply": "2022-06-24T23:17:48.430696Z"
    },
    "papermill": {
     "duration": 7.479759,
     "end_time": "2022-06-24T23:17:48.434786",
     "exception": false,
     "start_time": "2022-06-24T23:17:40.955027",
     "status": "completed"
    },
    "tags": []
   },
   "outputs": [
    {
     "name": "stdout",
     "output_type": "stream",
     "text": [
      "                 mean           std\n",
      "Naive Bayes  0.901786  1.110223e-16\n",
      "KNN          0.464286  0.000000e+00\n",
      "DTC          0.833929  8.183171e-03\n",
      "SGD          0.420536  8.743164e-02\n",
      "Ada          0.508929  0.000000e+00\n",
      "RFC          0.898214  4.374089e-03\n",
      "Extra:       0.906250  4.464286e-03\n"
     ]
    }
   ],
   "source": [
    "d=model_evaluation( df.drop('Group', axis=1),df['Group'])\n",
    "print(d)"
   ]
  },
  {
   "cell_type": "code",
   "execution_count": null,
   "id": "dcf92331",
   "metadata": {
    "papermill": {
     "duration": 0.033077,
     "end_time": "2022-06-24T23:17:48.501685",
     "exception": false,
     "start_time": "2022-06-24T23:17:48.468608",
     "status": "completed"
    },
    "tags": []
   },
   "outputs": [],
   "source": []
  },
  {
   "cell_type": "code",
   "execution_count": null,
   "id": "c299b4f2",
   "metadata": {
    "execution": {
     "iopub.execute_input": "2022-06-24T23:17:48.570956Z",
     "iopub.status.busy": "2022-06-24T23:17:48.570102Z",
     "iopub.status.idle": "2022-06-24T23:17:48.637516Z",
     "shell.execute_reply": "2022-06-24T23:17:48.636001Z"
    },
    "papermill": {
     "duration": 0.105318,
     "end_time": "2022-06-24T23:17:48.640831",
     "exception": false,
     "start_time": "2022-06-24T23:17:48.535513",
     "status": "completed"
    },
    "tags": []
   },
   "outputs": [],
   "source": [
    "from sklearn.feature_selection import SelectKBest\n",
    "from sklearn.feature_selection import mutual_info_classif\n",
    "\n",
    "#apply SelectKBest class to extract top 10 best features\n",
    "bestfeatures=SelectKBest(score_func=mutual_info_classif, k=10)\n",
    "\n",
    "fit= bestfeatures.fit(X,y)"
   ]
  },
  {
   "cell_type": "code",
   "execution_count": null,
   "id": "f5993329",
   "metadata": {
    "execution": {
     "iopub.execute_input": "2022-06-24T23:17:48.711424Z",
     "iopub.status.busy": "2022-06-24T23:17:48.710770Z",
     "iopub.status.idle": "2022-06-24T23:17:48.715599Z",
     "shell.execute_reply": "2022-06-24T23:17:48.714884Z"
    },
    "papermill": {
     "duration": 0.042203,
     "end_time": "2022-06-24T23:17:48.717704",
     "exception": false,
     "start_time": "2022-06-24T23:17:48.675501",
     "status": "completed"
    },
    "tags": []
   },
   "outputs": [],
   "source": [
    "dfscores =pd.DataFrame(fit.scores_)\n",
    "dfcolumns=pd.DataFrame(X.columns)"
   ]
  },
  {
   "cell_type": "code",
   "execution_count": null,
   "id": "39569b12",
   "metadata": {
    "execution": {
     "iopub.execute_input": "2022-06-24T23:17:48.792837Z",
     "iopub.status.busy": "2022-06-24T23:17:48.792189Z",
     "iopub.status.idle": "2022-06-24T23:17:48.804821Z",
     "shell.execute_reply": "2022-06-24T23:17:48.804144Z"
    },
    "papermill": {
     "duration": 0.054344,
     "end_time": "2022-06-24T23:17:48.806626",
     "exception": false,
     "start_time": "2022-06-24T23:17:48.752282",
     "status": "completed"
    },
    "tags": []
   },
   "outputs": [
    {
     "data": {
      "text/html": [
       "<div>\n",
       "<style scoped>\n",
       "    .dataframe tbody tr th:only-of-type {\n",
       "        vertical-align: middle;\n",
       "    }\n",
       "\n",
       "    .dataframe tbody tr th {\n",
       "        vertical-align: top;\n",
       "    }\n",
       "\n",
       "    .dataframe thead th {\n",
       "        text-align: right;\n",
       "    }\n",
       "</style>\n",
       "<table border=\"1\" class=\"dataframe\">\n",
       "  <thead>\n",
       "    <tr style=\"text-align: right;\">\n",
       "      <th></th>\n",
       "      <th>Attri</th>\n",
       "      <th>Score</th>\n",
       "    </tr>\n",
       "  </thead>\n",
       "  <tbody>\n",
       "    <tr>\n",
       "      <th>0</th>\n",
       "      <td>Visit</td>\n",
       "      <td>0.000000</td>\n",
       "    </tr>\n",
       "    <tr>\n",
       "      <th>1</th>\n",
       "      <td>MR Delay</td>\n",
       "      <td>0.017297</td>\n",
       "    </tr>\n",
       "    <tr>\n",
       "      <th>2</th>\n",
       "      <td>M/F</td>\n",
       "      <td>0.001219</td>\n",
       "    </tr>\n",
       "    <tr>\n",
       "      <th>3</th>\n",
       "      <td>Age</td>\n",
       "      <td>0.000000</td>\n",
       "    </tr>\n",
       "    <tr>\n",
       "      <th>4</th>\n",
       "      <td>EDUC</td>\n",
       "      <td>0.093149</td>\n",
       "    </tr>\n",
       "    <tr>\n",
       "      <th>5</th>\n",
       "      <td>SES</td>\n",
       "      <td>0.068184</td>\n",
       "    </tr>\n",
       "    <tr>\n",
       "      <th>6</th>\n",
       "      <td>MMSE</td>\n",
       "      <td>0.309669</td>\n",
       "    </tr>\n",
       "    <tr>\n",
       "      <th>7</th>\n",
       "      <td>CDR</td>\n",
       "      <td>0.612347</td>\n",
       "    </tr>\n",
       "    <tr>\n",
       "      <th>8</th>\n",
       "      <td>eTIV</td>\n",
       "      <td>0.089139</td>\n",
       "    </tr>\n",
       "    <tr>\n",
       "      <th>9</th>\n",
       "      <td>nWBV</td>\n",
       "      <td>0.087857</td>\n",
       "    </tr>\n",
       "    <tr>\n",
       "      <th>10</th>\n",
       "      <td>ASF</td>\n",
       "      <td>0.087163</td>\n",
       "    </tr>\n",
       "  </tbody>\n",
       "</table>\n",
       "</div>"
      ],
      "text/plain": [
       "       Attri     Score\n",
       "0      Visit  0.000000\n",
       "1   MR Delay  0.017297\n",
       "2        M/F  0.001219\n",
       "3        Age  0.000000\n",
       "4       EDUC  0.093149\n",
       "5        SES  0.068184\n",
       "6       MMSE  0.309669\n",
       "7        CDR  0.612347\n",
       "8       eTIV  0.089139\n",
       "9       nWBV  0.087857\n",
       "10       ASF  0.087163"
      ]
     },
     "execution_count": 185,
     "metadata": {},
     "output_type": "execute_result"
    }
   ],
   "source": [
    "#concat two dataframes for better visualization\n",
    "featureScores= pd.concat([dfcolumns, dfscores], axis=1)\n",
    "featureScores.columns=['Attri', 'Score'] #naming the dataframe columns\n",
    "featureScores"
   ]
  },
  {
   "cell_type": "code",
   "execution_count": null,
   "id": "ae73aa0e",
   "metadata": {
    "execution": {
     "iopub.execute_input": "2022-06-24T23:17:48.878412Z",
     "iopub.status.busy": "2022-06-24T23:17:48.877274Z",
     "iopub.status.idle": "2022-06-24T23:17:48.886310Z",
     "shell.execute_reply": "2022-06-24T23:17:48.885589Z"
    },
    "papermill": {
     "duration": 0.046372,
     "end_time": "2022-06-24T23:17:48.888123",
     "exception": false,
     "start_time": "2022-06-24T23:17:48.841751",
     "status": "completed"
    },
    "tags": []
   },
   "outputs": [
    {
     "name": "stdout",
     "output_type": "stream",
     "text": [
      "       Attri     Score\n",
      "7        CDR  0.612347\n",
      "6       MMSE  0.309669\n",
      "4       EDUC  0.093149\n",
      "8       eTIV  0.089139\n",
      "9       nWBV  0.087857\n",
      "10       ASF  0.087163\n",
      "5        SES  0.068184\n",
      "1   MR Delay  0.017297\n",
      "2        M/F  0.001219\n",
      "0      Visit  0.000000\n"
     ]
    }
   ],
   "source": [
    "print(featureScores.nlargest(10, 'Score')) #print 5 best features"
   ]
  },
  {
   "cell_type": "code",
   "execution_count": null,
   "id": "125b6c6a",
   "metadata": {
    "papermill": {
     "duration": 0.038286,
     "end_time": "2022-06-24T23:17:48.963614",
     "exception": false,
     "start_time": "2022-06-24T23:17:48.925328",
     "status": "completed"
    },
    "tags": []
   },
   "outputs": [],
   "source": []
  },
  {
   "cell_type": "code",
   "execution_count": null,
   "id": "b6065930",
   "metadata": {
    "papermill": {
     "duration": 0.033943,
     "end_time": "2022-06-24T23:17:49.034112",
     "exception": false,
     "start_time": "2022-06-24T23:17:49.000169",
     "status": "completed"
    },
    "tags": []
   },
   "outputs": [],
   "source": []
  },
  {
   "cell_type": "markdown",
   "id": "c55b1174",
   "metadata": {
    "papermill": {
     "duration": 0.033404,
     "end_time": "2022-06-24T23:17:49.101471",
     "exception": false,
     "start_time": "2022-06-24T23:17:49.068067",
     "status": "completed"
    },
    "tags": []
   },
   "source": [
    "FEATURES SELECTION WITH F_CLASSIF"
   ]
  },
  {
   "cell_type": "code",
   "execution_count": null,
   "id": "2978ef3f",
   "metadata": {
    "execution": {
     "iopub.execute_input": "2022-06-24T23:17:49.171694Z",
     "iopub.status.busy": "2022-06-24T23:17:49.171020Z",
     "iopub.status.idle": "2022-06-24T23:17:49.179065Z",
     "shell.execute_reply": "2022-06-24T23:17:49.178066Z"
    },
    "papermill": {
     "duration": 0.0457,
     "end_time": "2022-06-24T23:17:49.181348",
     "exception": false,
     "start_time": "2022-06-24T23:17:49.135648",
     "status": "completed"
    },
    "tags": []
   },
   "outputs": [],
   "source": [
    "from sklearn.feature_selection import f_classif\n",
    "\n",
    "#apply SelectKBest class to extract top 10 best features\n",
    "bestfeatures=SelectKBest(score_func=f_classif, k=10)\n",
    "\n",
    "fit_f= bestfeatures.fit(X,y)"
   ]
  },
  {
   "cell_type": "code",
   "execution_count": null,
   "id": "70bf49ea",
   "metadata": {
    "execution": {
     "iopub.execute_input": "2022-06-24T23:17:49.252976Z",
     "iopub.status.busy": "2022-06-24T23:17:49.252313Z",
     "iopub.status.idle": "2022-06-24T23:17:49.257384Z",
     "shell.execute_reply": "2022-06-24T23:17:49.256653Z"
    },
    "papermill": {
     "duration": 0.043372,
     "end_time": "2022-06-24T23:17:49.259522",
     "exception": false,
     "start_time": "2022-06-24T23:17:49.216150",
     "status": "completed"
    },
    "tags": []
   },
   "outputs": [],
   "source": [
    "dfscores_f =pd.DataFrame(fit_f.scores_)\n",
    "dfcolumns_f=pd.DataFrame(X.columns)"
   ]
  },
  {
   "cell_type": "code",
   "execution_count": null,
   "id": "605724ff",
   "metadata": {
    "execution": {
     "iopub.execute_input": "2022-06-24T23:17:49.330323Z",
     "iopub.status.busy": "2022-06-24T23:17:49.329725Z",
     "iopub.status.idle": "2022-06-24T23:17:49.335061Z",
     "shell.execute_reply": "2022-06-24T23:17:49.334310Z"
    },
    "papermill": {
     "duration": 0.04271,
     "end_time": "2022-06-24T23:17:49.337058",
     "exception": false,
     "start_time": "2022-06-24T23:17:49.294348",
     "status": "completed"
    },
    "tags": []
   },
   "outputs": [],
   "source": [
    "#concat two dataframes for better visualization\n",
    "featureScores_f= pd.concat([dfcolumns_f, dfscores_f], axis=1)\n",
    "featureScores_f.columns=['Attri', 'Score'] #naming the dataframe columns\n",
    "#featureScores_f"
   ]
  },
  {
   "cell_type": "code",
   "execution_count": null,
   "id": "cda272bc",
   "metadata": {
    "execution": {
     "iopub.execute_input": "2022-06-24T23:17:49.405699Z",
     "iopub.status.busy": "2022-06-24T23:17:49.405171Z",
     "iopub.status.idle": "2022-06-24T23:17:49.412158Z",
     "shell.execute_reply": "2022-06-24T23:17:49.411552Z"
    },
    "papermill": {
     "duration": 0.043342,
     "end_time": "2022-06-24T23:17:49.414174",
     "exception": false,
     "start_time": "2022-06-24T23:17:49.370832",
     "status": "completed"
    },
    "tags": []
   },
   "outputs": [
    {
     "name": "stdout",
     "output_type": "stream",
     "text": [
      "  Attri       Score\n",
      "7   CDR  436.908989\n",
      "6  MMSE  107.216426\n",
      "9  nWBV   20.581034\n",
      "4  EDUC   13.485719\n",
      "2   M/F   13.413107\n"
     ]
    }
   ],
   "source": [
    "print(featureScores_f.nlargest(5, 'Score')) #print 5 best features"
   ]
  },
  {
   "cell_type": "code",
   "execution_count": null,
   "id": "72ee5650",
   "metadata": {
    "papermill": {
     "duration": 0.033542,
     "end_time": "2022-06-24T23:17:49.481375",
     "exception": false,
     "start_time": "2022-06-24T23:17:49.447833",
     "status": "completed"
    },
    "tags": []
   },
   "outputs": [],
   "source": []
  },
  {
   "cell_type": "markdown",
   "id": "ce768142",
   "metadata": {
    "papermill": {
     "duration": 0.034029,
     "end_time": "2022-06-24T23:17:49.549599",
     "exception": false,
     "start_time": "2022-06-24T23:17:49.515570",
     "status": "completed"
    },
    "tags": []
   },
   "source": [
    "FEATURE SELECTION USING RECURSIVE FEATURE SELECTION"
   ]
  },
  {
   "cell_type": "code",
   "execution_count": null,
   "id": "fa8d911b",
   "metadata": {
    "execution": {
     "iopub.execute_input": "2022-06-24T23:17:49.618623Z",
     "iopub.status.busy": "2022-06-24T23:17:49.618267Z",
     "iopub.status.idle": "2022-06-24T23:17:52.502891Z",
     "shell.execute_reply": "2022-06-24T23:17:52.501715Z"
    },
    "papermill": {
     "duration": 2.921716,
     "end_time": "2022-06-24T23:17:52.505306",
     "exception": false,
     "start_time": "2022-06-24T23:17:49.583590",
     "status": "completed"
    },
    "tags": []
   },
   "outputs": [],
   "source": [
    "from sklearn.feature_selection import RFECV\n",
    "#Init, fit\n",
    "rfecv= RFECV(\n",
    "    estimator= RandomForestClassifier(),\n",
    "    min_features_to_select=1,\n",
    "    step=5,\n",
    "    n_jobs= -1,\n",
    "    scoring=\"r2\",\n",
    "    cv=5,\n",
    ")\n",
    "\n",
    "rfecv_fit= rfecv.fit(X_train, y_train)"
   ]
  },
  {
   "cell_type": "code",
   "execution_count": null,
   "id": "449704d7",
   "metadata": {
    "execution": {
     "iopub.execute_input": "2022-06-24T23:17:52.577002Z",
     "iopub.status.busy": "2022-06-24T23:17:52.576585Z",
     "iopub.status.idle": "2022-06-24T23:17:52.584449Z",
     "shell.execute_reply": "2022-06-24T23:17:52.583574Z"
    },
    "papermill": {
     "duration": 0.046062,
     "end_time": "2022-06-24T23:17:52.586340",
     "exception": false,
     "start_time": "2022-06-24T23:17:52.540278",
     "status": "completed"
    },
    "tags": []
   },
   "outputs": [
    {
     "data": {
      "text/plain": [
       "Index(['Visit', 'MR Delay', 'M/F', 'Age', 'EDUC', 'SES', 'MMSE', 'CDR', 'eTIV',\n",
       "       'nWBV', 'ASF'],\n",
       "      dtype='object')"
      ]
     },
     "execution_count": 192,
     "metadata": {},
     "output_type": "execute_result"
    }
   ],
   "source": [
    "X_train_rf=X_train.columns[rfecv.support_]\n",
    "X_train_rf"
   ]
  },
  {
   "cell_type": "code",
   "execution_count": null,
   "id": "4a0fe216",
   "metadata": {
    "execution": {
     "iopub.execute_input": "2022-06-24T23:17:52.659997Z",
     "iopub.status.busy": "2022-06-24T23:17:52.659444Z",
     "iopub.status.idle": "2022-06-24T23:18:00.056897Z",
     "shell.execute_reply": "2022-06-24T23:18:00.055592Z"
    },
    "papermill": {
     "duration": 7.438228,
     "end_time": "2022-06-24T23:18:00.059392",
     "exception": false,
     "start_time": "2022-06-24T23:17:52.621164",
     "status": "completed"
    },
    "tags": []
   },
   "outputs": [
    {
     "name": "stdout",
     "output_type": "stream",
     "text": [
      "                 mean       std\n",
      "Naive Bayes  0.857143  0.000000\n",
      "KNN          0.464286  0.000000\n",
      "DTC          0.849107  0.011607\n",
      "SGD          0.491071  0.088659\n",
      "Ada          0.508929  0.000000\n",
      "RFC          0.873214  0.006682\n",
      "Extra:       0.874107  0.002679\n"
     ]
    }
   ],
   "source": [
    "b=model_evaluation(df[['MR Delay', 'MMSE', 'CDR', 'eTIV', 'nWBV', 'ASF']], y)\n",
    "print(b)\n"
   ]
  },
  {
   "cell_type": "code",
   "execution_count": null,
   "id": "4f07ff72",
   "metadata": {},
   "outputs": [
    {
     "data": {
      "text/plain": [
       "GaussianNB()"
      ]
     },
     "execution_count": 194,
     "metadata": {},
     "output_type": "execute_result"
    }
   ],
   "source": [
    "NB=GaussianNB()\n",
    "NB.fit(X_train, y_train)"
   ]
  },
  {
   "cell_type": "code",
   "execution_count": null,
   "id": "9e05acd1",
   "metadata": {},
   "outputs": [],
   "source": [
    "Predictions= NB.predict(X_test)"
   ]
  },
  {
   "cell_type": "code",
   "execution_count": null,
   "id": "b990b44e",
   "metadata": {},
   "outputs": [
    {
     "name": "stderr",
     "output_type": "stream",
     "text": [
      "c:\\Users\\Wommack\\Anaconda3\\Anaconda4\\lib\\site-packages\\seaborn\\distributions.py:2551: FutureWarning: `distplot` is a deprecated function and will be removed in a future version. Please adapt your code to use either `displot` (a figure-level function with similar flexibility) or `histplot` (an axes-level function for histograms).\n",
      "  warnings.warn(msg, FutureWarning)\n"
     ]
    },
    {
     "data": {
      "text/plain": [
       "<AxesSubplot:xlabel='Group', ylabel='Density'>"
      ]
     },
     "execution_count": 196,
     "metadata": {},
     "output_type": "execute_result"
    },
    {
     "data": {
      "image/png": "[encoded data removed]",
      "text/plain": [
       "<Figure size 432x288 with 1 Axes>"
      ]
     },
     "metadata": {
      "needs_background": "light"
     },
     "output_type": "display_data"
    }
   ],
   "source": [
    "sns.distplot(y_test-Predictions)"
   ]
  },
  {
   "cell_type": "markdown",
   "id": "2af35939",
   "metadata": {},
   "source": [
    "sns.scatterplot(y_test, Predictions)"
   ]
  },
  {
   "cell_type": "markdown",
   "id": "b209eef2",
   "metadata": {
    "papermill": {
     "duration": 0.033848,
     "end_time": "2022-06-24T23:18:00.128311",
     "exception": false,
     "start_time": "2022-06-24T23:18:00.094463",
     "status": "completed"
    },
    "tags": []
   },
   "source": []
  },
  {
   "cell_type": "code",
   "execution_count": null,
   "id": "e41ffff3",
   "metadata": {
    "execution": {
     "iopub.execute_input": "2022-06-24T23:18:00.196817Z",
     "iopub.status.busy": "2022-06-24T23:18:00.196447Z",
     "iopub.status.idle": "2022-06-24T23:18:00.612141Z",
     "shell.execute_reply": "2022-06-24T23:18:00.611241Z"
    },
    "papermill": {
     "duration": 0.452231,
     "end_time": "2022-06-24T23:18:00.614132",
     "exception": false,
     "start_time": "2022-06-24T23:18:00.161901",
     "status": "completed"
    },
    "tags": []
   },
   "outputs": [
    {
     "data": {
      "image/png": "[encoded data removed]",
      "text/plain": [
       "<Figure size 432x288 with 1 Axes>"
      ]
     },
     "metadata": {
      "needs_background": "light"
     },
     "output_type": "display_data"
    }
   ],
   "source": [
    "model= RandomForestClassifier()\n",
    "model.fit(X_train, y_train)\n",
    "\n",
    "#plot graphe of feature importances for better visualization\n",
    "feat_importances= pd.Series(model.feature_importances_, index=X.columns)\n",
    "feat_importances.nlargest(10).plot(kind='barh')\n",
    "plt.show()"
   ]
  },
  {
   "cell_type": "code",
   "execution_count": null,
   "id": "f7349ec7",
   "metadata": {
    "papermill": {
     "duration": 0.034813,
     "end_time": "2022-06-24T23:18:00.683508",
     "exception": false,
     "start_time": "2022-06-24T23:18:00.648695",
     "status": "completed"
    },
    "tags": []
   },
   "outputs": [],
   "source": []
  },
  {
   "cell_type": "code",
   "execution_count": null,
   "id": "c2bc2bdd",
   "metadata": {
    "execution": {
     "iopub.execute_input": "2022-06-24T23:18:00.754240Z",
     "iopub.status.busy": "2022-06-24T23:18:00.753882Z",
     "iopub.status.idle": "2022-06-24T23:18:01.182354Z",
     "shell.execute_reply": "2022-06-24T23:18:01.181522Z"
    },
    "papermill": {
     "duration": 0.466214,
     "end_time": "2022-06-24T23:18:01.184270",
     "exception": false,
     "start_time": "2022-06-24T23:18:00.718056",
     "status": "completed"
    },
    "tags": []
   },
   "outputs": [
    {
     "ename": "NameError",
     "evalue": "name 'xgb' is not defined",
     "output_type": "error",
     "traceback": [
      "\u001b[1;31m---------------------------------------------------------------------------\u001b[0m",
      "\u001b[1;31mNameError\u001b[0m                                 Traceback (most recent call last)",
      "\u001b[1;32m<ipython-input-198-adc55a3d1d4b>\u001b[0m in \u001b[0;36m<module>\u001b[1;34m\u001b[0m\n\u001b[1;32m----> 1\u001b[1;33m \u001b[0mmodel\u001b[0m\u001b[1;33m=\u001b[0m \u001b[0mxgb\u001b[0m\u001b[1;33m.\u001b[0m\u001b[0mXGBClassifier\u001b[0m\u001b[1;33m(\u001b[0m\u001b[1;33m)\u001b[0m\u001b[1;33m\u001b[0m\u001b[1;33m\u001b[0m\u001b[0m\n\u001b[0m\u001b[0;32m      2\u001b[0m \u001b[0mmodel\u001b[0m\u001b[1;33m.\u001b[0m\u001b[0mfit\u001b[0m\u001b[1;33m(\u001b[0m\u001b[0mX_train\u001b[0m\u001b[1;33m,\u001b[0m \u001b[0my_train\u001b[0m\u001b[1;33m)\u001b[0m\u001b[1;33m\u001b[0m\u001b[1;33m\u001b[0m\u001b[0m\n\u001b[0;32m      3\u001b[0m \u001b[1;33m\u001b[0m\u001b[0m\n\u001b[0;32m      4\u001b[0m \u001b[1;31m#plot graphe of feature importances for better visualization\u001b[0m\u001b[1;33m\u001b[0m\u001b[1;33m\u001b[0m\u001b[1;33m\u001b[0m\u001b[0m\n\u001b[0;32m      5\u001b[0m \u001b[0mfeat_importances\u001b[0m\u001b[1;33m=\u001b[0m \u001b[0mpd\u001b[0m\u001b[1;33m.\u001b[0m\u001b[0mSeries\u001b[0m\u001b[1;33m(\u001b[0m\u001b[0mmodel\u001b[0m\u001b[1;33m.\u001b[0m\u001b[0mfeature_importances_\u001b[0m\u001b[1;33m,\u001b[0m \u001b[0mindex\u001b[0m\u001b[1;33m=\u001b[0m\u001b[0mX\u001b[0m\u001b[1;33m.\u001b[0m\u001b[0mcolumns\u001b[0m\u001b[1;33m)\u001b[0m\u001b[1;33m\u001b[0m\u001b[1;33m\u001b[0m\u001b[0m\n",
      "\u001b[1;31mNameError\u001b[0m: name 'xgb' is not defined"
     ]
    }
   ],
   "source": [
    "model= xgb.XGBClassifier()\n",
    "model.fit(X_train, y_train)\n",
    "\n",
    "#plot graphe of feature importances for better visualization\n",
    "feat_importances= pd.Series(model.feature_importances_, index=X.columns)\n",
    "feat_importances.nlargest(10).plot(kind='barh')\n",
    "plt.show()"
   ]
  },
  {
   "cell_type": "code",
   "execution_count": null,
   "id": "6b86c23b",
   "metadata": {
    "execution": {
     "iopub.execute_input": "2022-06-24T23:18:01.255985Z",
     "iopub.status.busy": "2022-06-24T23:18:01.254923Z",
     "iopub.status.idle": "2022-06-24T23:18:01.570150Z",
     "shell.execute_reply": "2022-06-24T23:18:01.568738Z"
    },
    "papermill": {
     "duration": 0.353109,
     "end_time": "2022-06-24T23:18:01.572227",
     "exception": false,
     "start_time": "2022-06-24T23:18:01.219118",
     "status": "completed"
    },
    "tags": []
   },
   "outputs": [],
   "source": [
    "from sklearn.ensemble import ExtraTreesClassifier\n",
    "model= ExtraTreesClassifier()\n",
    "model.fit(X_train, y_train)\n",
    "\n",
    "#plot graphe of feature importances for better visualization\n",
    "feat_importances= pd.Series(model.feature_importances_, index=X.columns)\n",
    "feat_importances.nlargest(10).plot(kind='barh')\n",
    "plt.show()"
   ]
  },
  {
   "cell_type": "code",
   "execution_count": null,
   "id": "2c20ccfe",
   "metadata": {
    "execution": {
     "iopub.execute_input": "2022-06-24T23:18:01.645147Z",
     "iopub.status.busy": "2022-06-24T23:18:01.644589Z",
     "iopub.status.idle": "2022-06-24T23:18:01.649167Z",
     "shell.execute_reply": "2022-06-24T23:18:01.647923Z"
    },
    "papermill": {
     "duration": 0.044074,
     "end_time": "2022-06-24T23:18:01.651649",
     "exception": false,
     "start_time": "2022-06-24T23:18:01.607575",
     "status": "completed"
    },
    "tags": []
   },
   "outputs": [],
   "source": [
    "#CONCLUSION\n",
    "#CDR is the most important factor in predicting dementia.\n",
    "#Visit is the least import factor in predicring dementia according to Randpm classifier\n",
    "#ASF is the least import factor in predicring dementia according to XGBoost\n",
    "#SES is the least import factor in predicring dementia according to ExtraTreesClassifier \n",
    "\n"
   ]
  }
 ],
 "metadata": {
  "interpreter": {
   "hash": "538adf56d487833adf0265182ed31b0a044edad47fc0c4a9c539ecccca6e0160"
  },
  "kernelspec": {
   "display_name": "Python 3.8.5 ('base')",
   "language": "python",
   "name": "python3"
  },
  "language_info": {
   "codemirror_mode": {
    "name": "ipython",
    "version": 3
   },
   "file_extension": ".py",
   "mimetype": "text/x-python",
   "name": "python",
   "nbconvert_exporter": "python",
   "pygments_lexer": "ipython3",
   "version": "3.8.5"
  },
  "papermill": {
   "default_parameters": {},
   "duration": 64.774788,
   "end_time": "2022-06-24T23:18:04.311196",
   "environment_variables": {},
   "exception": null,
   "input_path": "__notebook__.ipynb",
   "output_path": "__notebook__.ipynb",
   "parameters": {},
   "start_time": "2022-06-24T23:16:59.536408",
   "version": "2.3.4"
  }
 },
 "nbformat": 4,
 "nbformat_minor": 5
}
